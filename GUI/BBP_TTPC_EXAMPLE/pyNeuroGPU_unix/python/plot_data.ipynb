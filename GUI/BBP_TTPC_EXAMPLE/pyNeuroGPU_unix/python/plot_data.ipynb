{
 "cells": [
  {
   "cell_type": "code",
   "execution_count": 11,
   "id": "53cf17de-9b71-423a-a70d-a66655b31428",
   "metadata": {},
   "outputs": [],
   "source": [
    "import numpy as np\n",
    "import struct\n",
    "import matplotlib.pyplot as plt"
   ]
  },
  {
   "cell_type": "code",
   "execution_count": 12,
   "id": "67d6b3bb-b320-4f05-8f0c-0cb584314016",
   "metadata": {},
   "outputs": [],
   "source": [
    "def nrnMread(fileName):\n",
    "    f = open(fileName, \"rb\")\n",
    "    nparam = struct.unpack('i', f.read(4))[0]\n",
    "    typeFlg = struct.unpack('i', f.read(4))[0]\n",
    "    return np.fromfile(f,np.double)"
   ]
  },
  {
   "cell_type": "code",
   "execution_count": 13,
   "id": "24f524c4-1ce5-4103-81e0-7c9898513f3b",
   "metadata": {},
   "outputs": [],
   "source": [
    "volts = nrnMread(\"../Data/VHotP0.dat\")"
   ]
  },
  {
   "cell_type": "code",
   "execution_count": 16,
   "id": "9b0f4cd2-c3e5-407a-859d-13c446ebe8a1",
   "metadata": {},
   "outputs": [
    {
     "data": {
      "text/plain": [
       "[<matplotlib.lines.Line2D at 0x2aab0c9ecbb0>]"
      ]
     },
     "execution_count": 16,
     "metadata": {},
     "output_type": "execute_result"
    },
    {
     "data": {
      "image/png": "[encoded data removed]",
      "text/plain": [
       "<Figure size 432x288 with 1 Axes>"
      ]
     },
     "metadata": {
      "needs_background": "light"
     },
     "output_type": "display_data"
    }
   ],
   "source": [
    "plt.plot(volts)\n"
   ]
  },
  {
   "cell_type": "code",
   "execution_count": null,
   "id": "93b5995c-7299-45a6-b246-a05af5a00d7c",
   "metadata": {},
   "outputs": [],
   "source": []
  }
 ],
 "metadata": {
  "kernelspec": {
   "display_name": "dot_env",
   "language": "python",
   "name": "dot_env"
  },
  "language_info": {
   "codemirror_mode": {
    "name": "ipython",
    "version": 3
   },
   "file_extension": ".py",
   "mimetype": "text/x-python",
   "name": "python",
   "nbconvert_exporter": "python",
   "pygments_lexer": "ipython3",
   "version": "3.8.6"
  }
 },
 "nbformat": 4,
 "nbformat_minor": 5
}
