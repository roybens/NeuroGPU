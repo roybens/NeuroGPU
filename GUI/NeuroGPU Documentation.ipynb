{
 "cells": [
  {
   "cell_type": "markdown",
   "metadata": {},
   "source": [
    "<h1 id=\"tocheading\">Table of Contents</h1>\n",
    "<div id=\"toc\"></div>"
   ]
  },
  {
   "cell_type": "markdown",
   "metadata": {},
   "source": [
    "# Installation\n"
   ]
  },
  {
   "cell_type": "markdown",
   "metadata": {},
   "source": [
    "CUDA"
   ]
  },
  {
   "cell_type": "markdown",
   "metadata": {},
   "source": [
    "Python + Neuron"
   ]
  },
  {
   "cell_type": "markdown",
   "metadata": {},
   "source": [
    "# Walkthrough"
   ]
  },
  {
   "cell_type": "markdown",
   "metadata": {},
   "source": [
    "## prerequisites"
   ]
  },
  {
   "cell_type": "markdown",
   "metadata": {},
   "source": [
    "### 1. Stimulation Files\n",
    "\n",
    "stim.csv - This will be your files that contain the stimulation protocol (one or more row) that will simulate an injection of current into your model neuron. They should be in the format of a CSV file.\n"
   ]
  },
  {
   "cell_type": "markdown",
   "metadata": {},
   "source": [
    "times.csv - This will be the file that includes the length of each timesteps during the simulation. Both files should be the same size."
   ]
  },
  {
   "cell_type": "markdown",
   "metadata": {
    "collapsed": true
   },
   "source": [
    "### Example of Stimulation Files\n",
    "\n",
    "Run the code cell to show the plot the example data files. If you want to test plot your own stimulation file, just change the 'base' various to wherever your file is located. If it's stored on your computer, change the variable to the filepath of the file. If it's hosted online, change it to the url address."
   ]
  },
  {
   "cell_type": "code",
   "execution_count": 7,
   "metadata": {},
   "outputs": [
    {
     "data": {
      "image/png": "[encoded data removed]",
      "text/plain": [
       "<Figure size 432x288 with 1 Axes>"
      ]
     },
     "metadata": {
      "needs_background": "light"
     },
     "output_type": "display_data"
    }
   ],
   "source": [
    "import matplotlib.pyplot as plt\n",
    "import numpy as np\n",
    "from pathlib import Path\n",
    "%matplotlib inline\n",
    "stim_fn = \"../Figures/FigureS3_passive/Stims/Step_8_.csv\"\n",
    "time_fn = \"../Figures/FigureS3_passive/Stims/times.csv\"\n",
    "stim = np.loadtxt( Path(stim_fn),delimiter='\\n')\n",
    "timesteps = np.loadtxt( Path(time_fn),delimiter='\\n')\n",
    "times = np.cumsum(timesteps)\n",
    "plt.plot(times,stim)\n",
    "plt.show()"
   ]
  },
  {
   "cell_type": "markdown",
   "metadata": {},
   "source": [
    "## 2. Hoc Model\n",
    "This is the file that contains your neuron compartmental model, where each parameter and variable of the neuron is programmed in HOC. Here we have examples of several models:"
   ]
  },
  {
   "cell_type": "markdown",
   "metadata": {},
   "source": [
    "### Passive model:\n",
    "<a href=\"../Figures/FigureS3_passive_clean\">Original model</a>\n",
    "<br>\n",
    "<a href=\"../Figures/FigureS3_passive\">NeuroGPU ported model</a>"
   ]
  },
  {
   "cell_type": "code",
   "execution_count": null,
   "metadata": {},
   "outputs": [],
   "source": []
  },
  {
   "cell_type": "code",
   "execution_count": null,
   "metadata": {},
   "outputs": [],
   "source": []
  }
 ],
 "metadata": {
  "kernelspec": {
   "display_name": "Python 3",
   "language": "python",
   "name": "python3"
  },
  "language_info": {
   "codemirror_mode": {
    "name": "ipython",
    "version": 3
   },
   "file_extension": ".py",
   "mimetype": "text/x-python",
   "name": "python",
   "nbconvert_exporter": "python",
   "pygments_lexer": "ipython3",
   "version": "3.7.3"
  }
 },
 "nbformat": 4,
 "nbformat_minor": 1
}
