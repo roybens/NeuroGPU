{
 "cells": [
  {
   "cell_type": "code",
   "execution_count": 3,
   "id": "ef15d7a6-8e32-4d41-9de2-453c5c716f65",
   "metadata": {},
   "outputs": [],
   "source": [
    "import numpy as np"
   ]
  },
  {
   "cell_type": "markdown",
   "id": "c1598cea-994b-4e78-91c6-a879966f462a",
   "metadata": {},
   "source": [
    "# NeuroGPU Input Files\n",
    "\n",
    "In order to run neuroGPU, there need to be 3 types of input files.\n",
    "\n",
    "1. Stimulation: For these files, we use naming convention `Stim_raw.csv` or `Stim_raw[0-N].csv`. The purpose of this input is to provide point processes that will simulate an injection of an electrical current (mV) into your model neuron. This file would be a comma delimited 1D vector with length corresponding to number of simulated timesteps.\n",
    "\n",
    "2. Times: These files use naming convention `times.csv` or `times[0-N].csv`. The purpose of this input is to specify the dt, or change in time in miliseconds for the above stimulation. This file would also be a comma delimited 1D vector with length corresponding to number of simulated timesteps.\n",
    "\n",
    "3. Parameters: These files, which use the naming convention `params.csv` are **space** delimited files with shape (N,D) where N is the number of models we wish to simulate and D is the number of parameters for the model. D must corresond to the number of parameters specified in the <a href=\"BBP_TTPC_EXAMPLE/fit.hoc\">model file</a>. The example linked there has 6 parameters:\n",
    "\n",
    "\t- axonal gNaTa_tbar_NaTa_t\n",
    "\t- somatic gNaTs2_tbar_NaTs2_t\n",
    "\t- axonal gK_Tstbar_K_Tst \n",
    "\t- apical gIhbar_Ih\n",
    "    - apical gImbar_Im\n",
    "    - axonal gSKv3_1bar_SKv3_1\n",
    "    \n",
    "So the parameters used in this example will correspond to those.\n",
    "\n",
    "A final note about where each file should go: \n",
    "- The params file should go in the `params` folder in the working directory (see <a href=\"Porting Models From Neuron\">this notebook</a> to see how the working directory is set up/\n",
    "- The stims and times file should go in the `Data` folder in the working directory.\n",
    "- See `BBP_TTPC_EXAMPLE` in this directory for an example.\n",
    "\t\n"
   ]
  },
  {
   "cell_type": "markdown",
   "id": "820184ba-3cfd-416e-8414-3cb9fe02636f",
   "metadata": {},
   "source": [
    "# Check Stims and Times"
   ]
  },
  {
   "cell_type": "code",
   "execution_count": 20,
   "id": "0dadc0ac-5eab-4607-9bd1-a74c6dae85db",
   "metadata": {},
   "outputs": [],
   "source": [
    "def check_stims_and_times(stim_filepath, times_filepath):\n",
    "    stim = np.genfromtxt(stim_filepath, delimiter=',')\n",
    "    times = np.genfromtxt(times_filepath, delimiter=',')\n",
    "    \n",
    "    assert len(stim.shape) == 1, 'stims must be 1d'\n",
    "    assert len(times.shape) == 1, 'times must be 1d'\n",
    "    assert np.max(times) < 1, 'dt is too large'\n",
    "    assert type(times[0]) == np.float64, f\"times is {type(times[0])} must be float64\"\n",
    "    assert type(stim[0]) == np.float64, f\"times is {type(stim[0])} must be float64\"\n",
    "    \n",
    "    print(f\" Stim : {stim_filepath} and time {times_filepath} passed specifications.\")"
   ]
  },
  {
   "cell_type": "code",
   "execution_count": 21,
   "id": "1e869d34-2c31-42ce-bbb9-14322b1494c0",
   "metadata": {},
   "outputs": [
    {
     "name": "stdout",
     "output_type": "stream",
     "text": [
      " Stim : BBP_TTPC_EXAMPLE/Data/Stim_raw.csv and time BBP_TTPC_EXAMPLE/Data/times.csv passed specifications.\n"
     ]
    }
   ],
   "source": [
    "stim_filepath = 'BBP_TTPC_EXAMPLE/Data/Stim_raw.csv'\n",
    "times_filepath = 'BBP_TTPC_EXAMPLE/Data/times.csv'\n",
    "\n",
    "check_stims_and_times(stim_filepath,times_filepath)"
   ]
  },
  {
   "cell_type": "code",
   "execution_count": 30,
   "id": "55fdc3e8-1389-4b24-a9d0-c2ae10b54e87",
   "metadata": {},
   "outputs": [
    {
     "name": "stdout",
     "output_type": "stream",
     "text": [
      "--------------------------------------\n",
      "axonal gNaTa_tbar_NaTa_t is 0.0\n",
      "--------------------------------------\n",
      "somatic gNaTs2_tbar_NaTs2_t is 0.983955\n",
      "--------------------------------------\n",
      "axonal gK_Tstbar_K_Tst is 0.0\n",
      "--------------------------------------\n",
      "apical gIhbar_Ih is 8e-05\n",
      "--------------------------------------\n",
      "apical gImbar_Im is 0.000143\n",
      "--------------------------------------\n",
      "axonal gSKv3_1bar_SKv3_1 is 0.303472\n"
     ]
    }
   ],
   "source": [
    "param_names = ['axonal gNaTa_tbar_NaTa_t', 'somatic gNaTs2_tbar_NaTs2_t', 'axonal gK_Tstbar_K_Tst', 'apical gIhbar_Ih', 'apical gImbar_Im', 'axonal gSKv3_1bar_SKv3_1']\n",
    "for param, name in zip(np.genfromtxt('BBP_TTPC_EXAMPLE/params/params.csv'), param_names):\n",
    "    print('--------------------------------------')\n",
    "    print(f'{name} is {param}')\n"
   ]
  },
  {
   "cell_type": "markdown",
   "id": "cdbb4b85-5b32-44ee-ad07-64b1b2ed0395",
   "metadata": {},
   "source": [
    "If you are wondering why two of these parameters are set to 0, please see  <a href=\"Show param explor\">this notebook</a>. We use this example to vary these parameters w/ in [0,10] and [0,20] repsectively."
   ]
  },
  {
   "cell_type": "code",
   "execution_count": null,
   "id": "9b64174c-35ca-4da8-8cea-1cb8354e89b0",
   "metadata": {},
   "outputs": [],
   "source": []
  }
 ],
 "metadata": {
  "kernelspec": {
   "display_name": "dot_env",
   "language": "python",
   "name": "dot_env"
  },
  "language_info": {
   "codemirror_mode": {
    "name": "ipython",
    "version": 3
   },
   "file_extension": ".py",
   "mimetype": "text/x-python",
   "name": "python",
   "nbconvert_exporter": "python",
   "pygments_lexer": "ipython3",
   "version": "3.8.6"
  }
 },
 "nbformat": 4,
 "nbformat_minor": 5
}
