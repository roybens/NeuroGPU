{
 "cells": [
  {
   "cell_type": "code",
   "execution_count": 5,
   "metadata": {
    "scrolled": true
   },
   "outputs": [
    {
     "data": {
      "application/vnd.jupyter.widget-view+json": {
       "model_id": "dd093d753bc44ca6b8be796c4e699f60",
       "version_major": 2,
       "version_minor": 0
      },
      "text/plain": [
       "Text(value='C:/BBP_new/Data/', description='location:', layout=Layout(width='600px'), style=DescriptionStyle(d…"
      ]
     },
     "metadata": {},
     "output_type": "display_data"
    },
    {
     "data": {
      "application/vnd.jupyter.widget-view+json": {
       "model_id": "f05dc85a30a846c7aa11077289e33232",
       "version_major": 2,
       "version_minor": 0
      },
      "text/plain": [
       "Button(description='Select Directory:', layout=Layout(width='300px'), style=ButtonStyle())"
      ]
     },
     "metadata": {},
     "output_type": "display_data"
    }
   ],
   "source": [
    "from plotVolts import * \n",
    "init_working_dir()"
   ]
  },
  {
   "cell_type": "code",
   "execution_count": 9,
   "metadata": {},
   "outputs": [
    {
     "name": "stdout",
     "output_type": "stream",
     "text": [
      "5000\n"
     ]
    },
    {
     "data": {
      "application/vnd.jupyter.widget-view+json": {
       "model_id": "63170b88f7d24477872c3f65d371014c",
       "version_major": 2,
       "version_minor": 0
      },
      "text/plain": [
       "Text(value='1', description='#Models:', disabled=True, layout=Layout(width='600px'), style=DescriptionStyle(de…"
      ]
     },
     "metadata": {},
     "output_type": "display_data"
    },
    {
     "data": {
      "application/vnd.jupyter.widget-view+json": {
       "model_id": "6a75b02f233e4a8da9e2f51a91b14940",
       "version_major": 2,
       "version_minor": 0
      },
      "text/plain": [
       "Text(value='1', description='#Stims:', disabled=True, layout=Layout(width='600px'), style=DescriptionStyle(des…"
      ]
     },
     "metadata": {},
     "output_type": "display_data"
    },
    {
     "data": {
      "application/vnd.jupyter.widget-view+json": {
       "model_id": "3630454894594569ad12a483991be023",
       "version_major": 2,
       "version_minor": 0
      },
      "text/plain": [
       "Text(value='1', description='Choose Model:', layout=Layout(width='600px'), style=DescriptionStyle(description_…"
      ]
     },
     "metadata": {},
     "output_type": "display_data"
    },
    {
     "data": {
      "application/vnd.jupyter.widget-view+json": {
       "model_id": "7b0cf50f004c4a6ca5fa4fbd8401fe0e",
       "version_major": 2,
       "version_minor": 0
      },
      "text/plain": [
       "Text(value='1', description='Choose Stim:', layout=Layout(width='600px'), style=DescriptionStyle(description_w…"
      ]
     },
     "metadata": {},
     "output_type": "display_data"
    },
    {
     "data": {
      "application/vnd.jupyter.widget-view+json": {
       "model_id": "b08852ffbaa541e08a44c042b796dcc9",
       "version_major": 2,
       "version_minor": 0
      },
      "text/plain": [
       "Button(description='plot model:', layout=Layout(width='300px'), style=ButtonStyle())"
      ]
     },
     "metadata": {},
     "output_type": "display_data"
    },
    {
     "data": {
      "application/vnd.jupyter.widget-view+json": {
       "model_id": "9961548788f142f69f453fb683638e52",
       "version_major": 2,
       "version_minor": 0
      },
      "text/plain": [
       "Button(description='save volts:', layout=Layout(width='300px'), style=ButtonStyle())"
      ]
     },
     "metadata": {},
     "output_type": "display_data"
    },
    {
     "data": {
      "image/png": "[encoded data removed]",
      "text/plain": [
       "<Figure size 432x288 with 1 Axes>"
      ]
     },
     "metadata": {
      "needs_background": "light"
     },
     "output_type": "display_data"
    }
   ],
   "source": [
    "base = \"C:\\\\pyNeuroGPU_win62\\\\Data\\\\\"\n",
    "\n",
    "\n",
    "readOutput(base,'VHotP0.dat')"
   ]
  },
  {
   "cell_type": "code",
   "execution_count": 21,
   "metadata": {},
   "outputs": [],
   "source": [
    "for i in range(2384,2290):\n",
    "    plotModel(i,1)\n",
    "\n"
   ]
  },
  {
   "cell_type": "code",
   "execution_count": 20,
   "metadata": {},
   "outputs": [],
   "source": [
    "for i in range(2384,2290):\n",
    "    plotModel(i,1)"
   ]
  },
  {
   "cell_type": "code",
   "execution_count": 21,
   "metadata": {},
   "outputs": [],
   "source": [
    "for i in range(2384,2290):\n",
    "    plotModel(i,1)"
   ]
  },
  {
   "cell_type": "code",
   "execution_count": null,
   "metadata": {},
   "outputs": [],
   "source": []
  }
 ],
 "metadata": {
  "kernelspec": {
   "display_name": "Python 3",
   "language": "python",
   "name": "python3"
  },
  "language_info": {
   "codemirror_mode": {
    "name": "ipython",
    "version": 3
   },
   "file_extension": ".py",
   "mimetype": "text/x-python",
   "name": "python",
   "nbconvert_exporter": "python",
   "pygments_lexer": "ipython3",
   "version": "3.7.3"
  }
 },
 "nbformat": 4,
 "nbformat_minor": 4
}
