{
 "cells": [
  {
   "cell_type": "markdown",
   "metadata": {},
   "source": [
    "## TKinter\n",
    "This tutotial can be run entirely using Tkinter for input, or a more lightweight version that uses Tkinter sparingly. Control this with the `TK_Lite` value below. If your system cannot accomodate Tkinter at all, please open an issue."
   ]
  },
  {
   "cell_type": "code",
   "execution_count": 1,
   "metadata": {},
   "outputs": [],
   "source": [
    "TK_Lite = True"
   ]
  },
  {
   "cell_type": "markdown",
   "metadata": {},
   "source": [
    "<h1 id=\"tocheading\">Table of Contents</h1>\n",
    "<div id=\"toc\"></div>\n",
    "\n",
    "Run the code below to use the table of contents."
   ]
  },
  {
   "cell_type": "code",
   "execution_count": 2,
   "metadata": {},
   "outputs": [
    {
     "data": {
      "application/javascript": [
       "%matplotlib inline\n",
       "$.getScript('https://kmahelona.github.io/ipython_notebook_goodies/ipython_notebook_toc.js')\n"
      ],
      "text/plain": [
       "<IPython.core.display.Javascript object>"
      ]
     },
     "metadata": {},
     "output_type": "display_data"
    }
   ],
   "source": [
    "%%javascript\n",
    "%matplotlib inline\n",
    "$.getScript('https://kmahelona.github.io/ipython_notebook_goodies/ipython_notebook_toc.js')"
   ]
  },
  {
   "cell_type": "markdown",
   "metadata": {},
   "source": [
    "# Introduction\n",
    "- This notebook is used to purely help with walking through the program and will not focus on explanations.\n",
    "- If you want to get a general overview of what each step does, please read the jupyter notebook entitled \"Tutorial\". \n",
    "- If you want information about the program on a technical level, please reach the code documentation entitled \"Documentation\")\n",
    "- Please select the directory of where the NeuroGPU program is located (i.e. \"../../NeuroGPU\") by editing the basepath below.\n",
    "- Once you have edited the base path, run the cell."
   ]
  },
  {
   "cell_type": "code",
   "execution_count": 3,
   "metadata": {},
   "outputs": [],
   "source": [
    "if not TK_Lite:\n",
    "    from extractModelHelper import *\n",
    "else:\n",
    "    from extractModelHelper_tkLite import *\n",
    "\n",
    "global template\n",
    "global working"
   ]
  },
  {
   "cell_type": "markdown",
   "metadata": {},
   "source": [
    "# Setting Working Directory\n",
    "\n",
    "- Here is where you will set the location of your working directory.\n",
    "- NeuroGPU location should be the NeuroGPU_Base Folder\n",
    "- Working directory will contain all the customizable files (e.g. stimulation files) before the NeuroGPU is run.\n",
    "- The working directory will be filled with default placeholders until you change them below.\n",
    "- Finally, you can also clear the working directory and reset to the default customizable files."
   ]
  },
  {
   "cell_type": "code",
   "execution_count": 4,
   "metadata": {
    "scrolled": true
   },
   "outputs": [
    {
     "name": "stdin",
     "output_type": "stream",
     "text": [
      " Enter NeuroGPU location or enter nothing to use default location ../NeuroGPU_Base\n",
      " NeuroGPU location:  \n",
      "Enter working directory or use default location ../Figures/Figure3_passive\n",
      " Working directory location:  \n",
      "\n",
      " Generate rest of working directory? y/n ?:  y\n"
     ]
    },
    {
     "name": "stdout",
     "output_type": "stream",
     "text": [
      "Working files generated at: /global/project/projectdirs/m2043/zladd/NeuroGPU/Figures/Figure3_passive\n",
      "/global/project/projectdirs/m2043/zladd/NeuroGPU/Figures/Figure3_passive/runModel.hoc has been reset\n"
     ]
    }
   ],
   "source": [
    "init_working_dir()"
   ]
  },
  {
   "cell_type": "markdown",
   "metadata": {},
   "source": [
    "# Inputting Custom Files\n",
    "- Here is where you will implement your customized inputs.\n",
    "- Inputs include the voltage trace, parameters, and model file. \n",
    "- If you want to use the default inputs, you can skip this step.\n",
    "- If you want to use your own input files, please change the variables below to the paths of your input files. Make sure you test your inputs through Neuron first. After that, just run the cell below.\n"
   ]
  },
  {
   "cell_type": "code",
   "execution_count": 5,
   "metadata": {
    "scrolled": true
   },
   "outputs": [
    {
     "name": "stdin",
     "output_type": "stream",
     "text": [
      "would you like to use custom input? y/n:  n\n"
     ]
    },
    {
     "name": "stdout",
     "output_type": "stream",
     "text": [
      "making /global/project/projectdirs/m2043/zladd/NeuroGPU/Figures/Figure3_passive/params\n",
      "base is :  /global/project/projectdirs/m2043/zladd/NeuroGPU/NeuroGPU_Base\n",
      "time file is /global/project/projectdirs/m2043/zladd/NeuroGPU/Figures/Figure3_passive/Stims/times.csv\n",
      "Input files successfully integrated\n"
     ]
    }
   ],
   "source": [
    "show_input_file_panel()"
   ]
  },
  {
   "cell_type": "markdown",
   "metadata": {},
   "source": [
    "# Inputting Running Variables\n",
    "- Here is where you will implement your customized inputs.\n",
    "- Inputs include the voltage trace, parameters, and model file. \n",
    "- If you want to use the default inputs, you can skip this step.\n",
    "- If you want to use your own input files, please change the variables below to the paths of your input files. Make sure you test your inputs through Neuron first. After that, just run the cell below.\n"
   ]
  },
  {
   "cell_type": "code",
   "execution_count": 6,
   "metadata": {},
   "outputs": [
    {
     "name": "stdout",
     "output_type": "stream",
     "text": [
      "If you hit enter then you will use default value: 3168\n"
     ]
    },
    {
     "name": "stdin",
     "output_type": "stream",
     "text": [
      "# Timestep  \n"
     ]
    },
    {
     "name": "stdout",
     "output_type": "stream",
     "text": [
      "If you hit enter then you will use default value: 3\n"
     ]
    },
    {
     "name": "stdin",
     "output_type": "stream",
     "text": [
      "# Parameters \n"
     ]
    },
    {
     "name": "stdout",
     "output_type": "stream",
     "text": [
      "If you hit enter then you will use default value: 1024\n"
     ]
    },
    {
     "name": "stdin",
     "output_type": "stream",
     "text": [
      "# Models \n"
     ]
    },
    {
     "name": "stdout",
     "output_type": "stream",
     "text": [
      "If you hit enter then you will use default value: 1\n"
     ]
    },
    {
     "name": "stdin",
     "output_type": "stream",
     "text": [
      "# Traces  \n"
     ]
    },
    {
     "name": "stdout",
     "output_type": "stream",
     "text": [
      "If you hit enter then you will use default value: -80\n"
     ]
    },
    {
     "name": "stdin",
     "output_type": "stream",
     "text": [
      "V_init  \n"
     ]
    },
    {
     "name": "stdout",
     "output_type": "stream",
     "text": [
      "If you hit enter then you will use default value: 1\n"
     ]
    },
    {
     "name": "stdin",
     "output_type": "stream",
     "text": [
      "Recalculate ECa? If not, press enter. If so type value here: \n"
     ]
    },
    {
     "name": "stdout",
     "output_type": "stream",
     "text": [
      "Input files successfully integrated\n"
     ]
    }
   ],
   "source": [
    "show_run_var_panel()"
   ]
  },
  {
   "cell_type": "markdown",
   "metadata": {},
   "source": [
    "# Select your injection site\n",
    "## First make sure you compiled all your .mod file (nrnivmodl/mknrndll)\n",
    "- Here is where you will select where your point process will be injected at.\n",
    "- This code will extract the morphology of your cell and display all sections in a dropbox.\n",
    "- First, select the section where you would like to inject current.\n",
    "    - For sections where there are more than one type, use the slider to select the right one.\n",
    "- Then, you will need to specificy the location of your injected current on that section.\n",
    "    - Use the slider to select the location from 0 to 1 - 0 being the origin and 1 being the end\n"
   ]
  },
  {
   "cell_type": "code",
   "execution_count": 7,
   "metadata": {
    "scrolled": true
   },
   "outputs": [
    {
     "data": {
      "application/vnd.jupyter.widget-view+json": {
       "model_id": "e6d9f97f8af6448faff6f924d1cc812d",
       "version_major": 2,
       "version_minor": 0
      },
      "text/plain": [
       "Button(description='Create Injection Site', style=ButtonStyle())"
      ]
     },
     "metadata": {},
     "output_type": "display_data"
    },
    {
     "data": {
      "application/vnd.jupyter.widget-view+json": {
       "model_id": "0104f56bce55494aab03d5a684c030db",
       "version_major": 2,
       "version_minor": 0
      },
      "text/plain": [
       "FloatSlider(value=0.0, description='Section Location (0-1)', max=1.0, step=0.01)"
      ]
     },
     "metadata": {},
     "output_type": "display_data"
    },
    {
     "data": {
      "application/vnd.jupyter.widget-view+json": {
       "model_id": "438b468eca504c19bcc60ea3988bfbad",
       "version_major": 2,
       "version_minor": 0
      },
      "text/plain": [
       "interactive(children=(Dropdown(description='Section:', options=('soma', 'dend', 'apic', 'axon', 'Exts'), value…"
      ]
     },
     "metadata": {},
     "output_type": "display_data"
    }
   ],
   "source": [
    "select_inj_site()"
   ]
  },
  {
   "cell_type": "markdown",
   "metadata": {},
   "source": [
    "# Running the Translation script\n",
    "Now that you have all the optional setup steps complete, you can now run the actual parsing script. Run the cell below."
   ]
  },
  {
   "cell_type": "code",
   "execution_count": 8,
   "metadata": {
    "scrolled": true
   },
   "outputs": [
    {
     "data": {
      "application/vnd.jupyter.widget-view+json": {
       "model_id": "a563823848de4e48b6e178c5776c698d",
       "version_major": 2,
       "version_minor": 0
      },
      "text/plain": [
       "Button(description='Translate to CUDA Code', style=ButtonStyle())"
      ]
     },
     "metadata": {},
     "output_type": "display_data"
    }
   ],
   "source": [
    "run_trans_script_gui()\n"
   ]
  },
  {
   "cell_type": "markdown",
   "metadata": {},
   "source": [
    "# Notes\n",
    "if translating the code failed please run extractmodel.py from your working directory. If that fails please submit a new \n",
    "<a href=\"https://github.com/roybens/NeuroGPU/issues/new/ \">Issue</a> or contact bens.roy@gmail.com\n"
   ]
  },
  {
   "cell_type": "markdown",
   "metadata": {},
   "source": [
    "# Ported Model\n",
    "Now you should find the ported model in the NeuroGPU folder named at extractModel.py "
   ]
  },
  {
   "cell_type": "markdown",
   "metadata": {},
   "source": []
  }
 ],
 "metadata": {
  "kernelspec": {
   "display_name": "Python 3",
   "language": "python",
   "name": "python3"
  },
  "language_info": {
   "codemirror_mode": {
    "name": "ipython",
    "version": 3
   },
   "file_extension": ".py",
   "mimetype": "text/x-python",
   "name": "python",
   "nbconvert_exporter": "python",
   "pygments_lexer": "ipython3",
   "version": "3.7.4"
  }
 },
 "nbformat": 4,
 "nbformat_minor": 4
}
