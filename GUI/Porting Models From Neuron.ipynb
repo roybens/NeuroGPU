{
 "cells": [
  {
   "cell_type": "markdown",
   "metadata": {},
   "source": [
    "<h1 id=\"tocheading\">Table of Contents</h1>\n",
    "<div id=\"toc\"></div>\n",
    "\n",
    "Run the code below to use the table of contents."
   ]
  },
  {
   "cell_type": "code",
   "execution_count": 1,
   "metadata": {},
   "outputs": [
    {
     "data": {
      "application/javascript": [
       "$.getScript('https://kmahelona.github.io/ipython_notebook_goodies/ipython_notebook_toc.js')\n"
      ],
      "text/plain": [
       "<IPython.core.display.Javascript object>"
      ]
     },
     "metadata": {},
     "output_type": "display_data"
    }
   ],
   "source": [
    "%%javascript\n",
    "$.getScript('https://kmahelona.github.io/ipython_notebook_goodies/ipython_notebook_toc.js')"
   ]
  },
  {
   "cell_type": "markdown",
   "metadata": {},
   "source": [
    "# Introduction\n",
    "- This notebook is used to purely help with walking through the program and will not focus on explanations.\n",
    "- If you want to get a general overview of what each step does, please read the jupyter notebook entitled \"Tutorial\". \n",
    "- If you want information about the program on a technical level, please reach the code documentation entitled \"Documentation\")\n",
    "- Please select the directory of where the NeuroGPU program is located (i.e. \"../../NeuroGPU\") by editing the basepath below.\n",
    "- Once you have edited the base path, run the cell."
   ]
  },
  {
   "cell_type": "code",
   "execution_count": 2,
   "metadata": {},
   "outputs": [],
   "source": [
    "from extractModelHelper import *\n",
    "global template\n",
    "global working"
   ]
  },
  {
   "cell_type": "markdown",
   "metadata": {},
   "source": [
    "# Setting Working Directory\n",
    "\n",
    "- Here is where you will set the location of your working directory.\n",
    "- NeuroGPU location should be the NeuroGPU_Base Folder\n",
    "- Working directory will contain all the customizable files (e.g. stimulation files) before the NeuroGPU is run.\n",
    "- The working directory will be filled with default placeholders until you change them below.\n",
    "- Finally, you can also clear the working directory and reset to the default customizable files."
   ]
  },
  {
   "cell_type": "code",
   "execution_count": 3,
   "metadata": {
    "scrolled": true
   },
   "outputs": [
    {
     "data": {
      "application/vnd.jupyter.widget-view+json": {
       "model_id": "0619b9b4ae7b450faa7c47c9df998f10",
       "version_major": 2,
       "version_minor": 0
      },
      "text/plain": [
       "Text(value='../NeuroGPU_Base', description='NeuroGPU location:', layout=Layout(width='600px'), style=Descripti…"
      ]
     },
     "metadata": {},
     "output_type": "display_data"
    },
    {
     "data": {
      "application/vnd.jupyter.widget-view+json": {
       "model_id": "3010fdf6c5004450a4a2048c40457973",
       "version_major": 2,
       "version_minor": 0
      },
      "text/plain": [
       "Button(description='Select NeuroGPU Directory:', layout=Layout(width='300px'), style=ButtonStyle())"
      ]
     },
     "metadata": {},
     "output_type": "display_data"
    },
    {
     "data": {
      "application/vnd.jupyter.widget-view+json": {
       "model_id": "c815e6525fb54aeba8bd3c774ed8c26e",
       "version_major": 2,
       "version_minor": 0
      },
      "text/plain": [
       "Text(value='../Figures/Figure3_passive', description='Working Filepath:', layout=Layout(width='600px'), style=…"
      ]
     },
     "metadata": {},
     "output_type": "display_data"
    },
    {
     "data": {
      "application/vnd.jupyter.widget-view+json": {
       "model_id": "045a5d1314b24ce1ae0bdf79d61ad50e",
       "version_major": 2,
       "version_minor": 0
      },
      "text/plain": [
       "Button(description='Select Working Directory:', layout=Layout(width='300px'), style=ButtonStyle())"
      ]
     },
     "metadata": {},
     "output_type": "display_data"
    },
    {
     "data": {
      "application/vnd.jupyter.widget-view+json": {
       "model_id": "d0c72bff28e34bdabfbcd762e99bb6da",
       "version_major": 2,
       "version_minor": 0
      },
      "text/plain": [
       "Button(description='Generate/Rest Working Files:', layout=Layout(width='300px'), style=ButtonStyle())"
      ]
     },
     "metadata": {},
     "output_type": "display_data"
    },
    {
     "name": "stdout",
     "output_type": "stream",
     "text": [
      "Working files generated at: E:\\Workspace\\Optimization\\ForKyung\\BBP_19\n",
      "E:\\Workspace\\Optimization\\ForKyung\\BBP_19/runModel.hoc has been reset\n"
     ]
    }
   ],
   "source": [
    "init_working_dir()"
   ]
  },
  {
   "cell_type": "markdown",
   "metadata": {},
   "source": [
    "# Inputting Custom Files\n",
    "- Here is where you will implement your customized inputs.\n",
    "- Inputs include the voltage trace, parameters, and model file. \n",
    "- If you want to use the default inputs, you can skip this step.\n",
    "- If you want to use your own input files, please change the variables below to the paths of your input files. Make sure you test your inputs through Neuron first. After that, just run the cell below.\n"
   ]
  },
  {
   "cell_type": "code",
   "execution_count": 4,
   "metadata": {
    "scrolled": true
   },
   "outputs": [
    {
     "data": {
      "application/vnd.jupyter.widget-view+json": {
       "model_id": "f9da3ac55750429fadb080b66a6a0d39",
       "version_major": 2,
       "version_minor": 0
      },
      "text/plain": [
       "Text(value='./params/params.csv', description='Parameter :', layout=Layout(width='400px'))"
      ]
     },
     "metadata": {},
     "output_type": "display_data"
    },
    {
     "data": {
      "application/vnd.jupyter.widget-view+json": {
       "model_id": "4ec79b46a37c4fae9afe5c61f362ec76",
       "version_major": 2,
       "version_minor": 0
      },
      "text/plain": [
       "Button(description='Select Parameter File:', layout=Layout(width='50%'), style=ButtonStyle())"
      ]
     },
     "metadata": {},
     "output_type": "display_data"
    },
    {
     "data": {
      "application/vnd.jupyter.widget-view+json": {
       "model_id": "afbf544541734ed8966efeb1ef1d63a7",
       "version_major": 2,
       "version_minor": 0
      },
      "text/plain": [
       "Text(value='./Stims/Step_8_.csv', description='Stimulation :', layout=Layout(width='400px'))"
      ]
     },
     "metadata": {},
     "output_type": "display_data"
    },
    {
     "data": {
      "application/vnd.jupyter.widget-view+json": {
       "model_id": "2c4902f91e1c46e69467038b30a90af6",
       "version_major": 2,
       "version_minor": 0
      },
      "text/plain": [
       "Button(description='Select Stimulation File:', layout=Layout(width='50%'), style=ButtonStyle())"
      ]
     },
     "metadata": {},
     "output_type": "display_data"
    },
    {
     "data": {
      "application/vnd.jupyter.widget-view+json": {
       "model_id": "97801e6a5905491591dc01e9ad52c59d",
       "version_major": 2,
       "version_minor": 0
      },
      "text/plain": [
       "Text(value='./mosinit.hoc', description='Model :', layout=Layout(width='400px'))"
      ]
     },
     "metadata": {},
     "output_type": "display_data"
    },
    {
     "data": {
      "application/vnd.jupyter.widget-view+json": {
       "model_id": "638f7372973d47659b3bac78e91ef7d1",
       "version_major": 2,
       "version_minor": 0
      },
      "text/plain": [
       "Button(description='Select Model File:', layout=Layout(width='50%'), style=ButtonStyle())"
      ]
     },
     "metadata": {},
     "output_type": "display_data"
    },
    {
     "data": {
      "application/vnd.jupyter.widget-view+json": {
       "model_id": "25bcae27fb444eb88bc8d73b1b7ef9d2",
       "version_major": 2,
       "version_minor": 0
      },
      "text/plain": [
       "Text(value='./Stims/times.csv', description='Times :', layout=Layout(width='400px'))"
      ]
     },
     "metadata": {},
     "output_type": "display_data"
    },
    {
     "data": {
      "application/vnd.jupyter.widget-view+json": {
       "model_id": "5994eadeab3e4a2dadd381c928c419ad",
       "version_major": 2,
       "version_minor": 0
      },
      "text/plain": [
       "Button(description='Select Times File:', layout=Layout(width='50%'), style=ButtonStyle())"
      ]
     },
     "metadata": {},
     "output_type": "display_data"
    },
    {
     "data": {
      "application/vnd.jupyter.widget-view+json": {
       "model_id": "d8851741a1b841caaeacadb1f2c8a340",
       "version_major": 2,
       "version_minor": 0
      },
      "text/plain": [
       "Button(description='Integrate Files', layout=Layout(width='50%'), style=ButtonStyle())"
      ]
     },
     "metadata": {},
     "output_type": "display_data"
    },
    {
     "name": "stdout",
     "output_type": "stream",
     "text": [
      "time file is ./Stims/times.csv\n",
      "Input files successfully integrated\n"
     ]
    }
   ],
   "source": [
    "show_input_file_panel()"
   ]
  },
  {
   "cell_type": "markdown",
   "metadata": {},
   "source": [
    "# Inputting Running Variables\n",
    "- Here is where you will implement your customized inputs.\n",
    "- Inputs include the voltage trace, parameters, and model file. \n",
    "- If you want to use the default inputs, you can skip this step.\n",
    "- If you want to use your own input files, please change the variables below to the paths of your input files. Make sure you test your inputs through Neuron first. After that, just run the cell below.\n"
   ]
  },
  {
   "cell_type": "code",
   "execution_count": 5,
   "metadata": {},
   "outputs": [
    {
     "data": {
      "application/vnd.jupyter.widget-view+json": {
       "model_id": "03ac3dd0a996462282be062337f46297",
       "version_major": 2,
       "version_minor": 0
      },
      "text/plain": [
       "Text(value='5000', description='# Timestep ')"
      ]
     },
     "metadata": {},
     "output_type": "display_data"
    },
    {
     "data": {
      "application/vnd.jupyter.widget-view+json": {
       "model_id": "5378ad28b00946c6a86828deb5762539",
       "version_major": 2,
       "version_minor": 0
      },
      "text/plain": [
       "Text(value='24', description='# Parameters')"
      ]
     },
     "metadata": {},
     "output_type": "display_data"
    },
    {
     "data": {
      "application/vnd.jupyter.widget-view+json": {
       "model_id": "5e56c719ee88469c94dfe739ae19a9e8",
       "version_major": 2,
       "version_minor": 0
      },
      "text/plain": [
       "Text(value='1', description='# Models')"
      ]
     },
     "metadata": {},
     "output_type": "display_data"
    },
    {
     "data": {
      "application/vnd.jupyter.widget-view+json": {
       "model_id": "73783d18c7a94fe2bbcbc25e9f1cb8e1",
       "version_major": 2,
       "version_minor": 0
      },
      "text/plain": [
       "Text(value='1', description='# Traces ')"
      ]
     },
     "metadata": {},
     "output_type": "display_data"
    },
    {
     "data": {
      "application/vnd.jupyter.widget-view+json": {
       "model_id": "a23492132206459a9e2972446627342e",
       "version_major": 2,
       "version_minor": 0
      },
      "text/plain": [
       "Text(value='-80', description='V_init ')"
      ]
     },
     "metadata": {},
     "output_type": "display_data"
    },
    {
     "data": {
      "application/vnd.jupyter.widget-view+json": {
       "model_id": "b3030e5d264a4bf9a656db14fc2c7c46",
       "version_major": 2,
       "version_minor": 0
      },
      "text/plain": [
       "Text(value='1', description='Recalculate ECa? ')"
      ]
     },
     "metadata": {},
     "output_type": "display_data"
    },
    {
     "data": {
      "application/vnd.jupyter.widget-view+json": {
       "model_id": "4cfa995f24064990932bbdd3c6aab436",
       "version_major": 2,
       "version_minor": 0
      },
      "text/plain": [
       "Button(description='Integrate Running Variables', layout=Layout(width='500px'), style=ButtonStyle())"
      ]
     },
     "metadata": {},
     "output_type": "display_data"
    },
    {
     "name": "stdout",
     "output_type": "stream",
     "text": [
      "../Figures/Figure3_passive\n",
      "Input files successfully integrated\n"
     ]
    }
   ],
   "source": [
    "\n",
    "show_run_var_panel()\n",
    "global working\n",
    "print(working)"
   ]
  },
  {
   "cell_type": "markdown",
   "metadata": {},
   "source": [
    "# Select your injection site\n",
    "## First make sure you compiled all your .mod file (nrnivmodl/mknrndll)\n",
    "- Here is where you will select where your point process will be injected at.\n",
    "- This code will extract the morphology of your cell and display all sections in a dropbox.\n",
    "- First, select the section where you would like to inject current.\n",
    "    - For sections where there are more than one type, use the slider to select the right one.\n",
    "- Then, you will need to specificy the location of your injected current on that section.\n",
    "    - Use the slider to select the location from 0 to 1 - 0 being the origin and 1 being the end\n"
   ]
  },
  {
   "cell_type": "code",
   "execution_count": 6,
   "metadata": {
    "scrolled": true
   },
   "outputs": [
    {
     "name": "stdout",
     "output_type": "stream",
     "text": [
      "../Figures/Figure3_passive\n",
      "E:\\Workspace\\Optimization\\ForKyung\\BBP_19\n"
     ]
    },
    {
     "data": {
      "application/vnd.jupyter.widget-view+json": {
       "model_id": "c51a2b1d39cd44ec9f441d9c5b610c09",
       "version_major": 2,
       "version_minor": 0
      },
      "text/plain": [
       "Button(description='Create Injection Site', style=ButtonStyle())"
      ]
     },
     "metadata": {},
     "output_type": "display_data"
    },
    {
     "data": {
      "application/vnd.jupyter.widget-view+json": {
       "model_id": "931adfa3e9264a8297025ffa4abdc5d1",
       "version_major": 2,
       "version_minor": 0
      },
      "text/plain": [
       "FloatSlider(value=0.0, description='Section Location (0-1)', max=1.0, step=0.01)"
      ]
     },
     "metadata": {},
     "output_type": "display_data"
    },
    {
     "data": {
      "application/vnd.jupyter.widget-view+json": {
       "model_id": "b085062a664e439eb9d7e6fdb85b26ef",
       "version_major": 2,
       "version_minor": 0
      },
      "text/plain": [
       "interactive(children=(Dropdown(description='Section:', options=('soma', 'dend', 'apic', 'axon', 'Exts'), value…"
      ]
     },
     "metadata": {},
     "output_type": "display_data"
    },
    {
     "name": "stdout",
     "output_type": "stream",
     "text": [
      "Injection site successfully integrated\n"
     ]
    }
   ],
   "source": [
    "global working\n",
    "print(working)\n",
    "print(os.getcwd())\n",
    "\n",
    "\n",
    "select_inj_site()\n"
   ]
  },
  {
   "cell_type": "markdown",
   "metadata": {},
   "source": [
    "# Running the Translation script\n",
    "Now that you have all the optional setup steps complete, you can now run the actual parsing script. Run the cell below."
   ]
  },
  {
   "cell_type": "code",
   "execution_count": 7,
   "metadata": {
    "scrolled": true
   },
   "outputs": [
    {
     "data": {
      "application/vnd.jupyter.widget-view+json": {
       "model_id": "cdc1040434af4a0897bda063d15106bc",
       "version_major": 2,
       "version_minor": 0
      },
      "text/plain": [
       "Button(description='Translate to CUDA Code', style=ButtonStyle())"
      ]
     },
     "metadata": {},
     "output_type": "display_data"
    },
    {
     "ename": "FileNotFoundError",
     "evalue": "[WinError 3] The system cannot find the path specified: '../NeuroGPU_Base/scripts/pyscripts/'",
     "output_type": "error",
     "traceback": [
      "\u001b[1;31m---------------------------------------------------------------------------\u001b[0m",
      "\u001b[1;31mFileNotFoundError\u001b[0m                         Traceback (most recent call last)",
      "\u001b[1;32mE:\\GitHub\\NeuroGPU\\GUI\\extractModelHelper.py\u001b[0m in \u001b[0;36mon_button_clicked2_8\u001b[1;34m(b)\u001b[0m\n\u001b[0;32m    435\u001b[0m \u001b[1;33m\u001b[0m\u001b[0m\n\u001b[0;32m    436\u001b[0m     \u001b[1;32mdef\u001b[0m \u001b[0mon_button_clicked2_8\u001b[0m\u001b[1;33m(\u001b[0m\u001b[0mb\u001b[0m\u001b[1;33m)\u001b[0m\u001b[1;33m:\u001b[0m\u001b[1;33m\u001b[0m\u001b[1;33m\u001b[0m\u001b[0m\n\u001b[1;32m--> 437\u001b[1;33m         \u001b[0mtranslate\u001b[0m\u001b[1;33m(\u001b[0m\u001b[1;33m)\u001b[0m\u001b[1;33m\u001b[0m\u001b[1;33m\u001b[0m\u001b[0m\n\u001b[0m\u001b[0;32m    438\u001b[0m \u001b[1;33m\u001b[0m\u001b[0m\n\u001b[0;32m    439\u001b[0m     \u001b[0mbutton\u001b[0m\u001b[1;33m.\u001b[0m\u001b[0mon_click\u001b[0m\u001b[1;33m(\u001b[0m\u001b[0mon_button_clicked2_8\u001b[0m\u001b[1;33m)\u001b[0m\u001b[1;33m\u001b[0m\u001b[1;33m\u001b[0m\u001b[0m\n",
      "\u001b[1;32mE:\\GitHub\\NeuroGPU\\GUI\\extractModelHelper.py\u001b[0m in \u001b[0;36mtranslate\u001b[1;34m()\u001b[0m\n\u001b[0;32m    403\u001b[0m         \u001b[0mtemplate\u001b[0m\u001b[1;33m.\u001b[0m\u001b[0mreplace\u001b[0m\u001b[1;33m(\u001b[0m\u001b[1;34m'/'\u001b[0m\u001b[1;33m,\u001b[0m \u001b[1;34m'\\\\'\u001b[0m\u001b[1;33m)\u001b[0m\u001b[1;33m\u001b[0m\u001b[1;33m\u001b[0m\u001b[0m\n\u001b[0;32m    404\u001b[0m         \u001b[0mworking\u001b[0m\u001b[1;33m\u001b[0m\u001b[1;33m\u001b[0m\u001b[0m\n\u001b[1;32m--> 405\u001b[1;33m         \u001b[0msrc_files\u001b[0m \u001b[1;33m=\u001b[0m \u001b[0mos\u001b[0m\u001b[1;33m.\u001b[0m\u001b[0mlistdir\u001b[0m\u001b[1;33m(\u001b[0m\u001b[0mtemplate\u001b[0m\u001b[1;33m)\u001b[0m\u001b[1;33m\u001b[0m\u001b[1;33m\u001b[0m\u001b[0m\n\u001b[0m\u001b[0;32m    406\u001b[0m         \u001b[1;32mfor\u001b[0m \u001b[0mfile_name\u001b[0m \u001b[1;32min\u001b[0m \u001b[0msrc_files\u001b[0m\u001b[1;33m:\u001b[0m\u001b[1;33m\u001b[0m\u001b[1;33m\u001b[0m\u001b[0m\n\u001b[0;32m    407\u001b[0m \u001b[1;33m\u001b[0m\u001b[0m\n",
      "\u001b[1;31mFileNotFoundError\u001b[0m: [WinError 3] The system cannot find the path specified: '../NeuroGPU_Base/scripts/pyscripts/'"
     ]
    }
   ],
   "source": [
    "\n",
    "run_trans_script_gui()\n"
   ]
  },
  {
   "cell_type": "markdown",
   "metadata": {},
   "source": [
    "# Notes\n",
    "if translating the code failed please run extractmodel.py from your working directory. If that fails please submit a new \n",
    "<a href=\"https://github.com/roybens/NeuroGPU/issues/new/ \">Issue</a> or contact bens.roy@gmail.com\n"
   ]
  },
  {
   "cell_type": "markdown",
   "metadata": {},
   "source": [
    "# Ported Model\n",
    "Now you should find the ported model in the NeuroGPU folder named at extractModel.py "
   ]
  },
  {
   "cell_type": "markdown",
   "metadata": {},
   "source": []
  }
 ],
 "metadata": {
  "kernelspec": {
   "display_name": "Python 3",
   "language": "python",
   "name": "python3"
  },
  "language_info": {
   "codemirror_mode": {
    "name": "ipython",
    "version": 3
   },
   "file_extension": ".py",
   "mimetype": "text/x-python",
   "name": "python",
   "nbconvert_exporter": "python",
   "pygments_lexer": "ipython3",
   "version": "3.7.3"
  }
 },
 "nbformat": 4,
 "nbformat_minor": 2
}
