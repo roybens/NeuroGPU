{
 "cells": [
  {
   "cell_type": "markdown",
   "metadata": {},
   "source": [
    "<h1 id=\"tocheading\">Table of Contents</h1>\n",
    "<div id=\"toc\"></div>\n",
    "\n",
    "Run the code below to use the table of contents."
   ]
  },
  {
   "cell_type": "code",
   "execution_count": 1,
   "metadata": {},
   "outputs": [
    {
     "data": {
      "application/javascript": [
       "$.getScript('https://kmahelona.github.io/ipython_notebook_goodies/ipython_notebook_toc.js')\n"
      ],
      "text/plain": [
       "<IPython.core.display.Javascript object>"
      ]
     },
     "metadata": {},
     "output_type": "display_data"
    }
   ],
   "source": [
    "%%javascript\n",
    "$.getScript('https://kmahelona.github.io/ipython_notebook_goodies/ipython_notebook_toc.js')"
   ]
  },
  {
   "cell_type": "markdown",
   "metadata": {},
   "source": [
    "# Introduction\n",
    "- This notebook is used to purely help with walking through the program and will not focus on explanations.\n",
    "- If you want to get a general overview of what each step does, please read the jupyter notebook entitled \"Tutorial\". \n",
    "- If you want information about the program on a technical level, please reach the code documentation entitled \"Documentation\")\n",
    "- Please select the directory of where the NeuroGPU program is located (i.e. \"../../NeuroGPU\") by editing the basepath below.\n",
    "- Once you have edited the base path, run the cell."
   ]
  },
  {
   "cell_type": "code",
   "execution_count": 2,
   "metadata": {},
   "outputs": [],
   "source": [
    "from extractModelHelper import *\n",
    "global template\n",
    "global working"
   ]
  },
  {
   "cell_type": "markdown",
   "metadata": {},
   "source": [
    "# Setting Working Directory\n",
    "\n",
    "- Here is where you will set the location of your working directory.\n",
    "- NeuroGPU location should be the NeuroGPU_Base Folder\n",
    "- Working directory will contain all the customizable files (e.g. stimulation files) before the NeuroGPU is run.\n",
    "- The working directory will be filled with default placeholders until you change them below.\n",
    "- Finally, you can also clear the working directory and reset to the default customizable files."
   ]
  },
  {
   "cell_type": "code",
   "execution_count": 3,
   "metadata": {
    "scrolled": true
   },
   "outputs": [
    {
     "data": {
      "application/vnd.jupyter.widget-view+json": {
       "model_id": "3104cc64a51349cea0965e656f21ef86",
       "version_major": 2,
       "version_minor": 0
      },
      "text/plain": [
       "Text(value='../NeuroGPU_Base', description='NeuroGPU location:', layout=Layout(width='600px'), style=Descripti…"
      ]
     },
     "metadata": {},
     "output_type": "display_data"
    },
    {
     "data": {
      "application/vnd.jupyter.widget-view+json": {
       "model_id": "aad8b879c0e2495186bfb9c3e24279a5",
       "version_major": 2,
       "version_minor": 0
      },
      "text/plain": [
       "Button(description='Select NeuroGPU Directory:', layout=Layout(width='300px'), style=ButtonStyle())"
      ]
     },
     "metadata": {},
     "output_type": "display_data"
    },
    {
     "data": {
      "application/vnd.jupyter.widget-view+json": {
       "model_id": "ebc4bfa665164b58a0aeea61e5a14f06",
       "version_major": 2,
       "version_minor": 0
      },
      "text/plain": [
       "Text(value='../Figures/Figure3_passive', description='Working Filepath:', layout=Layout(width='600px'), style=…"
      ]
     },
     "metadata": {},
     "output_type": "display_data"
    },
    {
     "data": {
      "application/vnd.jupyter.widget-view+json": {
       "model_id": "b15ba3578ef544c093a9bcaeea06ea9e",
       "version_major": 2,
       "version_minor": 0
      },
      "text/plain": [
       "Button(description='Select Working Directory:', layout=Layout(width='300px'), style=ButtonStyle())"
      ]
     },
     "metadata": {},
     "output_type": "display_data"
    },
    {
     "data": {
      "application/vnd.jupyter.widget-view+json": {
       "model_id": "70d811f4349440bea23282d693683c17",
       "version_major": 2,
       "version_minor": 0
      },
      "text/plain": [
       "Button(description='Generate/Rest Working Files:', layout=Layout(width='300px'), style=ButtonStyle())"
      ]
     },
     "metadata": {},
     "output_type": "display_data"
    },
    {
     "name": "stdout",
     "output_type": "stream",
     "text": [
      "Working files generated at: E:\\GitHub\\NeuroGPU\\Figures\\Figure2_BBP_TTPC\n",
      "E:\\GitHub\\NeuroGPU\\Figures\\Figure2_BBP_TTPC/runModel.hoc has been reset\n"
     ]
    }
   ],
   "source": [
    "init_working_dir()"
   ]
  },
  {
   "cell_type": "markdown",
   "metadata": {},
   "source": [
    "# Inputting Custom Files\n",
    "- Here is where you will implement your customized inputs.\n",
    "- Inputs include the voltage trace, parameters, and model file. \n",
    "- If you want to use the default inputs, you can skip this step.\n",
    "- If you want to use your own input files, please change the variables below to the paths of your input files. Make sure you test your inputs through Neuron first. After that, just run the cell below.\n"
   ]
  },
  {
   "cell_type": "code",
   "execution_count": 4,
   "metadata": {
    "scrolled": true
   },
   "outputs": [
    {
     "data": {
      "application/vnd.jupyter.widget-view+json": {
       "model_id": "47667dc81481407cade72e76871f7081",
       "version_major": 2,
       "version_minor": 0
      },
      "text/plain": [
       "Text(value='./params/params.csv', description='Parameter :', layout=Layout(width='400px'))"
      ]
     },
     "metadata": {},
     "output_type": "display_data"
    },
    {
     "data": {
      "application/vnd.jupyter.widget-view+json": {
       "model_id": "de9fe9c1b2894f7b9f2444ce33993c57",
       "version_major": 2,
       "version_minor": 0
      },
      "text/plain": [
       "Button(description='Select Parameter File:', layout=Layout(width='50%'), style=ButtonStyle())"
      ]
     },
     "metadata": {},
     "output_type": "display_data"
    },
    {
     "data": {
      "application/vnd.jupyter.widget-view+json": {
       "model_id": "437cd905915347a8b9688f8692ad0d78",
       "version_major": 2,
       "version_minor": 0
      },
      "text/plain": [
       "Text(value='./Stims/Step_8_.csv', description='Stimulation :', layout=Layout(width='400px'))"
      ]
     },
     "metadata": {},
     "output_type": "display_data"
    },
    {
     "data": {
      "application/vnd.jupyter.widget-view+json": {
       "model_id": "6e58253803e84dc6b0007b5300b13f33",
       "version_major": 2,
       "version_minor": 0
      },
      "text/plain": [
       "Button(description='Select Stimulation File:', layout=Layout(width='50%'), style=ButtonStyle())"
      ]
     },
     "metadata": {},
     "output_type": "display_data"
    },
    {
     "data": {
      "application/vnd.jupyter.widget-view+json": {
       "model_id": "037e72d431e4432087f13ba64f10e6e4",
       "version_major": 2,
       "version_minor": 0
      },
      "text/plain": [
       "Text(value='./mosinit.hoc', description='Model :', layout=Layout(width='400px'))"
      ]
     },
     "metadata": {},
     "output_type": "display_data"
    },
    {
     "data": {
      "application/vnd.jupyter.widget-view+json": {
       "model_id": "1a47e438921e4bb7a5301965aa4dbd63",
       "version_major": 2,
       "version_minor": 0
      },
      "text/plain": [
       "Button(description='Select Model File:', layout=Layout(width='50%'), style=ButtonStyle())"
      ]
     },
     "metadata": {},
     "output_type": "display_data"
    },
    {
     "data": {
      "application/vnd.jupyter.widget-view+json": {
       "model_id": "6ebf2027b7ee4f4a9cd9de06eb91326b",
       "version_major": 2,
       "version_minor": 0
      },
      "text/plain": [
       "Text(value='./Stims/times.csv', description='Times :', layout=Layout(width='400px'))"
      ]
     },
     "metadata": {},
     "output_type": "display_data"
    },
    {
     "data": {
      "application/vnd.jupyter.widget-view+json": {
       "model_id": "2bebd65c03a44244917eb7eef963897e",
       "version_major": 2,
       "version_minor": 0
      },
      "text/plain": [
       "Button(description='Select Times File:', layout=Layout(width='50%'), style=ButtonStyle())"
      ]
     },
     "metadata": {},
     "output_type": "display_data"
    },
    {
     "data": {
      "application/vnd.jupyter.widget-view+json": {
       "model_id": "689516fa644943afae6116f385a86eed",
       "version_major": 2,
       "version_minor": 0
      },
      "text/plain": [
       "Button(description='Integrate Files', layout=Layout(width='50%'), style=ButtonStyle())"
      ]
     },
     "metadata": {},
     "output_type": "display_data"
    },
    {
     "name": "stdout",
     "output_type": "stream",
     "text": [
      "time file is ./Stims/times.csv\n",
      "Input files successfully integrated\n"
     ]
    }
   ],
   "source": [
    "show_input_file_panel()"
   ]
  },
  {
   "cell_type": "markdown",
   "metadata": {},
   "source": [
    "# Inputting Running Variables\n",
    "- Here is where you will implement your customized inputs.\n",
    "- Inputs include the voltage trace, parameters, and model file. \n",
    "- If you want to use the default inputs, you can skip this step.\n",
    "- If you want to use your own input files, please change the variables below to the paths of your input files. Make sure you test your inputs through Neuron first. After that, just run the cell below.\n"
   ]
  },
  {
   "cell_type": "code",
   "execution_count": 5,
   "metadata": {},
   "outputs": [
    {
     "data": {
      "application/vnd.jupyter.widget-view+json": {
       "model_id": "663bb62b78374cb5ab0a72ba35efc8b9",
       "version_major": 2,
       "version_minor": 0
      },
      "text/plain": [
       "Text(value='3168', description='# Timestep ')"
      ]
     },
     "metadata": {},
     "output_type": "display_data"
    },
    {
     "data": {
      "application/vnd.jupyter.widget-view+json": {
       "model_id": "a476a6230aff4547a0ff7c83b6ce4f90",
       "version_major": 2,
       "version_minor": 0
      },
      "text/plain": [
       "Text(value='6', description='# Parameters')"
      ]
     },
     "metadata": {},
     "output_type": "display_data"
    },
    {
     "data": {
      "application/vnd.jupyter.widget-view+json": {
       "model_id": "fd739e84b2194edda4f29b59bdfb5118",
       "version_major": 2,
       "version_minor": 0
      },
      "text/plain": [
       "Text(value='24', description='# Models')"
      ]
     },
     "metadata": {},
     "output_type": "display_data"
    },
    {
     "data": {
      "application/vnd.jupyter.widget-view+json": {
       "model_id": "02a8b34fa3df4f57ba87fdb86d2f5f1f",
       "version_major": 2,
       "version_minor": 0
      },
      "text/plain": [
       "Text(value='1', description='# Traces ')"
      ]
     },
     "metadata": {},
     "output_type": "display_data"
    },
    {
     "data": {
      "application/vnd.jupyter.widget-view+json": {
       "model_id": "cbcd723c35f3444f8619b0d3f41f5b83",
       "version_major": 2,
       "version_minor": 0
      },
      "text/plain": [
       "Text(value='-80', description='V_init ')"
      ]
     },
     "metadata": {},
     "output_type": "display_data"
    },
    {
     "data": {
      "application/vnd.jupyter.widget-view+json": {
       "model_id": "ca9bef47894b41f69146ae4fcfaeba9d",
       "version_major": 2,
       "version_minor": 0
      },
      "text/plain": [
       "Text(value='1', description='Recalculate ECa? ')"
      ]
     },
     "metadata": {},
     "output_type": "display_data"
    },
    {
     "data": {
      "application/vnd.jupyter.widget-view+json": {
       "model_id": "1a05edc6109f40dc874fa938e4298542",
       "version_major": 2,
       "version_minor": 0
      },
      "text/plain": [
       "Button(description='Integrate Running Variables', layout=Layout(width='500px'), style=ButtonStyle())"
      ]
     },
     "metadata": {},
     "output_type": "display_data"
    },
    {
     "name": "stdout",
     "output_type": "stream",
     "text": [
      "../Figures/Figure3_passive\n",
      "Input files successfully integrated\n"
     ]
    }
   ],
   "source": [
    "\n",
    "show_run_var_panel()\n",
    "global working\n",
    "print(working)"
   ]
  },
  {
   "cell_type": "markdown",
   "metadata": {},
   "source": [
    "# Select your injection site\n",
    "## First make sure you compiled all your .mod file (nrnivmodl/mknrndll)\n",
    "- Here is where you will select where your point process will be injected at.\n",
    "- This code will extract the morphology of your cell and display all sections in a dropbox.\n",
    "- First, select the section where you would like to inject current.\n",
    "    - For sections where there are more than one type, use the slider to select the right one.\n",
    "- Then, you will need to specificy the location of your injected current on that section.\n",
    "    - Use the slider to select the location from 0 to 1 - 0 being the origin and 1 being the end\n"
   ]
  },
  {
   "cell_type": "code",
   "execution_count": 6,
   "metadata": {
    "scrolled": true
   },
   "outputs": [
    {
     "name": "stdout",
     "output_type": "stream",
     "text": [
      "../Figures/Figure3_passive\n",
      "E:\\GitHub\\NeuroGPU\\Figures\\Figure2_BBP_TTPC\n"
     ]
    },
    {
     "data": {
      "application/vnd.jupyter.widget-view+json": {
       "model_id": "71ffb8a857c44b649570219783ba50af",
       "version_major": 2,
       "version_minor": 0
      },
      "text/plain": [
       "Button(description='Create Injection Site', style=ButtonStyle())"
      ]
     },
     "metadata": {},
     "output_type": "display_data"
    },
    {
     "data": {
      "application/vnd.jupyter.widget-view+json": {
       "model_id": "78febc4c73f041cba28541a96f899a39",
       "version_major": 2,
       "version_minor": 0
      },
      "text/plain": [
       "FloatSlider(value=0.0, description='Section Location (0-1)', max=1.0, step=0.01)"
      ]
     },
     "metadata": {},
     "output_type": "display_data"
    },
    {
     "data": {
      "application/vnd.jupyter.widget-view+json": {
       "model_id": "8b8f7678bcdd4905a805301b25454303",
       "version_major": 2,
       "version_minor": 0
      },
      "text/plain": [
       "interactive(children=(Dropdown(description='Section:', options=('soma', 'dend', 'apic', 'axon', 'Exts'), value…"
      ]
     },
     "metadata": {},
     "output_type": "display_data"
    },
    {
     "name": "stdout",
     "output_type": "stream",
     "text": [
      "Injection site successfully integrated\n"
     ]
    }
   ],
   "source": [
    "global working\n",
    "print(working)\n",
    "print(os.getcwd())\n",
    "\n",
    "\n",
    "select_inj_site()\n"
   ]
  },
  {
   "cell_type": "markdown",
   "metadata": {},
   "source": [
    "# Running the Translation script\n",
    "Now that you have all the optional setup steps complete, you can now run the actual parsing script. Run the cell below."
   ]
  },
  {
   "cell_type": "code",
   "execution_count": 7,
   "metadata": {
    "scrolled": true
   },
   "outputs": [
    {
     "data": {
      "application/vnd.jupyter.widget-view+json": {
       "model_id": "0928c2cb7a0a435cb44a763dba8affde",
       "version_major": 2,
       "version_minor": 0
      },
      "text/plain": [
       "Button(description='Translate to CUDA Code', style=ButtonStyle())"
      ]
     },
     "metadata": {},
     "output_type": "display_data"
    },
    {
     "name": "stdout",
     "output_type": "stream",
     "text": [
      "E:\\GitHub\\NeuroGPU\\NeuroGPU_Base/scripts/pyscripts/auxilliary.py\n",
      "E:\\GitHub\\NeuroGPU\\NeuroGPU_Base/scripts/pyscripts/cell.py\n",
      "E:\\GitHub\\NeuroGPU\\NeuroGPU_Base/scripts/pyscripts/create_auxilliary_data_3.py\n",
      "E:\\GitHub\\NeuroGPU\\NeuroGPU_Base/scripts/pyscripts/DEAP_helper.py\n",
      "E:\\GitHub\\NeuroGPU\\NeuroGPU_Base/scripts/pyscripts/efel_ext.py\n",
      "E:\\GitHub\\NeuroGPU\\NeuroGPU_Base/scripts/pyscripts/exp_data_utils.py\n",
      "E:\\GitHub\\NeuroGPU\\NeuroGPU_Base/scripts/pyscripts/extractModel.py\n",
      "E:\\GitHub\\NeuroGPU\\NeuroGPU_Base/scripts/pyscripts/filepaths.py\n",
      "E:\\GitHub\\NeuroGPU\\NeuroGPU_Base/scripts/pyscripts/file_io.py\n",
      "E:\\GitHub\\NeuroGPU\\NeuroGPU_Base/scripts/pyscripts/generate_params_for_exploration.py\n",
      "E:\\GitHub\\NeuroGPU\\NeuroGPU_Base/scripts/pyscripts/get_parent_from_neuron.py\n",
      "E:\\GitHub\\NeuroGPU\\NeuroGPU_Base/scripts/pyscripts/injectV.py\n",
      "E:\\GitHub\\NeuroGPU\\NeuroGPU_Base/scripts/pyscripts/kinetic_template.txt\n",
      "E:\\GitHub\\NeuroGPU\\NeuroGPU_Base/scripts/pyscripts/loadBestIndvs.py\n",
      "E:\\GitHub\\NeuroGPU\\NeuroGPU_Base/scripts/pyscripts/make_tree_from_parent_vec.py\n",
      "E:\\GitHub\\NeuroGPU\\NeuroGPU_Base/scripts/pyscripts/membdef.h\n",
      "E:\\GitHub\\NeuroGPU\\NeuroGPU_Base/scripts/pyscripts/NeuroGPUFromPkl.py\n",
      "E:\\GitHub\\NeuroGPU\\NeuroGPU_Base/scripts/pyscripts/neurogpu_evaluator.py\n",
      "E:\\GitHub\\NeuroGPU\\NeuroGPU_Base/scripts/pyscripts/neuron_object.py\n",
      "E:\\GitHub\\NeuroGPU\\NeuroGPU_Base/scripts/pyscripts/nrn_structs.py\n",
      "E:\\GitHub\\NeuroGPU\\NeuroGPU_Base/scripts/pyscripts/optimize_parameters_genetic_alg.py\n",
      "E:\\GitHub\\NeuroGPU\\NeuroGPU_Base/scripts/pyscripts/preformance_figs.py\n",
      "E:\\GitHub\\NeuroGPU\\NeuroGPU_Base/scripts/pyscripts/pref_figs_unix.py\n",
      "E:\\GitHub\\NeuroGPU\\NeuroGPU_Base/scripts/pyscripts/proc_add_param_to_hoc_for_opt.py\n",
      "E:\\GitHub\\NeuroGPU\\NeuroGPU_Base/scripts/pyscripts/resampler.py\n",
      "E:\\GitHub\\NeuroGPU\\NeuroGPU_Base/scripts/pyscripts/stimsite.py\n",
      "E:\\GitHub\\NeuroGPU\\NeuroGPU_Base/scripts/pyscripts/stimV.py\n",
      "E:\\GitHub\\NeuroGPU\\NeuroGPU_Base/scripts/pyscripts/test2.py\n",
      "E:\\GitHub\\NeuroGPU\\NeuroGPU_Base/scripts/pyscripts/test2.pyc\n",
      "\t1 \n",
      "\t1 \n",
      "Setting temperature to 34.000000 C\n",
      "Setting simulation time step to 0.025000 ms\n",
      "\t1 \n",
      "\t1 \n",
      "\t1 \n",
      "\t1 \n",
      "\t1 \n",
      "\t1 \n",
      "\t1 \n",
      "\t1 \n",
      "\t1 \n",
      "\t1 \n",
      "\t1 \n",
      "\t1 \n",
      "**********************\n",
      "cADpyr232_L5_TTPC1_0fb1ca4724[0].soma[0]\n",
      "1 \n",
      "24 \n",
      "1 \n",
      "\t1 \n",
      "0\t0.983955\t0\t8e-005\t0.000143\t\n",
      "0.303472\t\n",
      "\t1 \n",
      "\t1 \n",
      "\t1 \n",
      "\t0 \n",
      "\t1 \n",
      "\t0 \n",
      "0\t0.983955\t0\t8e-005\t0.000143\t\n",
      "0.303472\t\n",
      "0\t0.983955\t0.010101\t8e-005\t0.000143\t\n",
      "0.303472\t\n",
      "0\t0.983955\t0.020202\t8e-005\t0.000143\t\n",
      "0.303472\t\n",
      "0\t0.983955\t0.030303\t8e-005\t0.000143\t\n",
      "0.303472\t\n",
      "0\t0.983955\t0.040404\t8e-005\t0.000143\t\n",
      "0.303472\t\n",
      "0\t0.983955\t0.0505051\t8e-005\t0.000143\t\n",
      "0.303472\t\n",
      "0\t0.983955\t0.0606061\t8e-005\t0.000143\t\n",
      "0.303472\t\n",
      "0\t0.983955\t0.0707071\t8e-005\t0.000143\t\n",
      "0.303472\t\n",
      "0\t0.983955\t0.0808081\t8e-005\t0.000143\t\n",
      "0.303472\t\n",
      "0\t0.983955\t0.0909091\t8e-005\t0.000143\t\n",
      "0.303472\t\n",
      "0\t0.983955\t0.10101\t8e-005\t0.000143\t\n",
      "0.303472\t\n",
      "0\t0.983955\t0.111111\t8e-005\t0.000143\t\n",
      "0.303472\t\n",
      "0\t0.983955\t0.121212\t8e-005\t0.000143\t\n",
      "0.303472\t\n",
      "0\t0.983955\t0.131313\t8e-005\t0.000143\t\n",
      "0.303472\t\n",
      "0\t0.983955\t0.141414\t8e-005\t0.000143\t\n",
      "0.303472\t\n",
      "0\t0.983955\t0.151515\t8e-005\t0.000143\t\n",
      "0.303472\t\n",
      "0\t0.983955\t0.161616\t8e-005\t0.000143\t\n",
      "0.303472\t\n",
      "0\t0.983955\t0.171717\t8e-005\t0.000143\t\n",
      "0.303472\t\n",
      "0\t0.983955\t0.181818\t8e-005\t0.000143\t\n",
      "0.303472\t\n",
      "0\t0.983955\t0.191919\t8e-005\t0.000143\t\n",
      "0.303472\t\n",
      "0\t0.983955\t0.20202\t8e-005\t0.000143\t\n",
      "0.303472\t\n",
      "0\t0.983955\t0.212121\t8e-005\t0.000143\t\n",
      "0.303472\t\n",
      "0\t0.983955\t0.222222\t8e-005\t0.000143\t\n",
      "0.303472\t\n",
      "0\t0.983955\t0.232323\t8e-005\t0.000143\t\n",
      "0.303472\t\n",
      "\t1 \n",
      "\t1 \n",
      "\t1 \n",
      "cADpyr232_L5_TTPC1_0fb1ca4724[0].soma[0]\n",
      "\t1 \n",
      "\t1 \n",
      "Setting temperature to 34.000000 C\n",
      "Setting simulation time step to 0.025000 ms\n",
      "\t1 \n",
      "\t1 \n",
      "\t1 \n",
      "\t1 \n",
      "\t1 \n",
      "\t1 \n",
      "\t1 \n",
      "\t1 \n",
      "\t1 \n",
      "\t1 \n",
      "\t1 \n",
      "\t1 \n",
      "**********************\n",
      "cADpyr232_L5_TTPC1_0fb1ca4724[0].soma[0]\n",
      "1 \n",
      "24 \n",
      "1 \n",
      "\t1 \n",
      "0\t0.983955\t0\t8e-005\t0.000143\t\n",
      "0.303472\t\n",
      "\t1 \n",
      "\t1 \n",
      "\t1 \n",
      "parsing Ca_HVA.mod\n",
      "parsing Ca_LVAst.mod\n",
      "parsing CaDynamics_E2.mod\n",
      "parsing Ih.mod\n",
      "parsing Im.mod\n",
      "parsing K_Pst.mod\n",
      "parsing K_Tst.mod\n",
      "parsing Nap_Et2.mod\n",
      "parsing NaTa_t.mod\n",
      "parsing NaTs2_t.mod\n",
      "parsing passive.mod2\n",
      "parsing SK_E2.mod\n",
      "parsing SKv3_1.mod\n",
      "parsing Ca_HVA\n",
      "Solve method not cnexp/sparse! in Ca_HVA\n",
      "parsing Ca_LVAst\n",
      "Solve method not cnexp/sparse! in Ca_LVAst\n",
      "parsing CaDynamics_E2\n",
      "Solve method not cnexp/sparse! in CaDynamics_E2\n",
      "parsing Ih\n",
      "Solve method not cnexp/sparse! in Ih\n",
      "parsing Im\n",
      "Solve method not cnexp/sparse! in Im\n",
      "parsing K_Pst\n",
      "Solve method not cnexp/sparse! in K_Pst\n",
      "parsing K_Tst\n",
      "Solve method not cnexp/sparse! in K_Tst\n",
      "parsing Nap_Et2\n",
      "Solve method not cnexp/sparse! in Nap_Et2\n",
      "parsing NaTa_t\n",
      "Solve method not cnexp/sparse! in NaTa_t\n",
      "parsing NaTs2_t\n",
      "Solve method not cnexp/sparse! in NaTs2_t\n",
      "parsing pas\n",
      "no solve in breakpoint\n",
      "parsing SK_E2\n",
      "Solve method not cnexp/sparse! in SK_E2\n",
      "parsing SKv3_1\n",
      "Solve method not cnexp/sparse! in SKv3_1\n",
      "0\t0.983955\t0\t8e-005\t0.000143\t\n",
      "0.303472\t\n",
      "./Data/mosinit.pkl\n",
      "in procadd\n",
      "1\n",
      "2\n",
      "3\n",
      "4\n",
      "5\n",
      "6\n",
      "7\n",
      "8\n",
      "9\n",
      "10\n",
      "11\n",
      "12\n",
      "13\n",
      "running runmodel_param\n",
      "\t1 \n",
      "\t1 \n",
      "2,511\n",
      "3,510\n",
      "4,509\n",
      "5,508\n",
      "6,507\n",
      "7,506\n",
      "8,505\n",
      "9,504\n",
      "10,503\n",
      "11,502\n",
      "12,501\n",
      "13,500\n",
      "14,499\n",
      "15,498\n",
      "16,497\n",
      "17,496\n",
      "18,495\n",
      "19,494\n",
      "20,493\n",
      "21,492\n",
      "22,491\n",
      "23,490\n",
      "24,489\n",
      "25,488\n",
      "26,487\n",
      "27,486\n",
      "28,485\n",
      "29,484\n",
      "30,483\n",
      "31,482\n",
      "32,481\n",
      "33,480\n",
      "34,479\n",
      "35,478\n",
      "36,477\n",
      "37,476\n",
      "38,475\n",
      "39,474\n",
      "40,473\n",
      "41,472\n",
      "42,471\n",
      "43,470\n",
      "44,469\n",
      "45,468\n",
      "46,467\n",
      "47,466\n",
      "48,465\n",
      "49,464\n",
      "50,463\n",
      "51,462\n",
      "52,461\n",
      "53,460\n",
      "54,459\n",
      "55,458\n",
      "56,457\n",
      "57,456\n",
      "58,455\n",
      "59,454\n",
      "60,453\n",
      "61,452\n",
      "62,451\n",
      "63,450\n",
      "64,449\n",
      "65,448\n",
      "66,447\n",
      "67,446\n",
      "68,445\n",
      "69,444\n",
      "70,443\n",
      "71,442\n",
      "72,441\n",
      "73,440\n",
      "74,439\n",
      "75,438\n",
      "76,437\n",
      "77,436\n",
      "78,435\n",
      "79,434\n",
      "80,433\n",
      "81,432\n",
      "82,431\n",
      "83,430\n",
      "84,429\n",
      "85,428\n",
      "86,427\n",
      "87,426\n",
      "88,425\n",
      "89,424\n",
      "90,423\n",
      "91,422\n",
      "92,421\n",
      "93,420\n",
      "94,419\n",
      "95,418\n",
      "96,417\n",
      "97,416\n",
      "98,415\n",
      "99,414\n",
      "100,413\n",
      "101,412\n",
      "102,411\n",
      "103,410\n",
      "104,409\n",
      "105,408\n",
      "106,407\n",
      "107,406\n",
      "108,405\n",
      "109,404\n",
      "110,403\n",
      "111,402\n",
      "112,401\n",
      "113,400\n",
      "114,399\n",
      "115,398\n",
      "116,397\n",
      "117,396\n",
      "118,395\n",
      "119,394\n",
      "120,393\n",
      "121,392\n",
      "122,391\n",
      "123,390\n",
      "124,389\n",
      "125,388\n",
      "126,387\n",
      "127,386\n",
      "128,385\n",
      "129,384\n",
      "130,383\n",
      "131,382\n",
      "132,381\n",
      "133,380\n",
      "134,379\n",
      "135,378\n",
      "136,377\n",
      "137,376\n",
      "138,375\n",
      "139,374\n",
      "140,373\n",
      "141,372\n",
      "142,371\n",
      "143,370\n",
      "144,369\n",
      "145,368\n",
      "146,367\n",
      "147,366\n",
      "148,365\n",
      "149,364\n",
      "150,363\n",
      "151,362\n",
      "152,361\n",
      "153,360\n",
      "154,359\n",
      "155,358\n",
      "156,357\n",
      "157,356\n",
      "158,355\n",
      "159,354\n",
      "160,353\n",
      "161,352\n",
      "162,351\n",
      "163,350\n",
      "164,349\n",
      "165,348\n",
      "166,347\n",
      "167,346\n",
      "168,345\n",
      "169,344\n",
      "170,343\n",
      "171,342\n",
      "172,341\n",
      "173,340\n",
      "174,339\n",
      "175,338\n",
      "176,337\n",
      "177,336\n",
      "178,335\n",
      "179,334\n",
      "180,333\n",
      "181,332\n",
      "182,331\n",
      "183,330\n",
      "184,329\n",
      "185,328\n",
      "186,327\n",
      "187,326\n",
      "188,325\n",
      "189,324\n",
      "190,323\n",
      "191,322\n",
      "192,321\n",
      "193,320\n",
      "194,319\n",
      "195,318\n",
      "196,317\n",
      "197,316\n",
      "198,315\n",
      "199,314\n",
      "200,313\n",
      "201,312\n",
      "202,311\n",
      "203,310\n",
      "204,309\n",
      "205,308\n",
      "206,307\n",
      "207,306\n",
      "208,305\n",
      "209,304\n",
      "210,303\n",
      "211,302\n",
      "212,301\n",
      "213,300\n",
      "214,299\n",
      "215,298\n",
      "216,297\n",
      "217,296\n",
      "218,295\n",
      "219,294\n",
      "220,293\n",
      "221,292\n",
      "222,291\n",
      "223,290\n",
      "224,289\n",
      "225,288\n",
      "226,287\n",
      "227,286\n",
      "228,285\n",
      "229,284\n",
      "230,283\n",
      "231,282\n",
      "232,281\n",
      "233,280\n",
      "234,279\n",
      "235,278\n",
      "236,277\n",
      "237,276\n",
      "238,275\n",
      "239,274\n",
      "240,273\n",
      "241,272\n",
      "242,271\n",
      "243,270\n",
      "244,269\n",
      "245,268\n",
      "246,267\n",
      "247,266\n",
      "248,265\n",
      "249,264\n",
      "250,263\n",
      "251,262\n",
      "252,261\n",
      "253,260\n",
      "254,259\n",
      "255,258\n",
      "256,257\n",
      "257,256\n",
      "258,255\n",
      "259,254\n",
      "260,253\n",
      "261,252\n",
      "262,251\n",
      "263,250\n",
      "264,249\n",
      "265,248\n",
      "266,247\n",
      "267,246\n",
      "268,245\n",
      "269,244\n",
      "270,243\n",
      "271,242\n",
      "272,241\n",
      "273,240\n",
      "274,239\n",
      "275,238\n",
      "276,237\n",
      "277,236\n",
      "278,235\n",
      "279,234\n",
      "280,233\n",
      "281,232\n",
      "282,231\n",
      "283,230\n",
      "284,229\n",
      "285,228\n",
      "286,227\n",
      "287,226\n",
      "288,225\n",
      "289,224\n",
      "290,223\n",
      "291,222\n",
      "292,221\n",
      "293,220\n",
      "294,219\n",
      "295,218\n",
      "296,217\n",
      "297,216\n",
      "298,215\n",
      "299,214\n",
      "300,213\n",
      "301,212\n",
      "302,211\n",
      "303,210\n",
      "304,209\n",
      "305,208\n",
      "306,207\n",
      "307,206\n",
      "308,205\n",
      "309,204\n",
      "310,203\n",
      "311,202\n",
      "312,201\n",
      "313,200\n",
      "314,199\n",
      "315,198\n",
      "316,197\n",
      "317,196\n",
      "318,195\n",
      "319,194\n",
      "320,193\n",
      "321,192\n",
      "322,191\n",
      "323,190\n",
      "324,189\n",
      "325,188\n",
      "326,187\n",
      "327,186\n",
      "328,185\n",
      "329,184\n",
      "330,183\n",
      "331,182\n",
      "332,181\n",
      "333,180\n",
      "334,179\n",
      "335,178\n",
      "336,177\n",
      "337,176\n",
      "338,175\n",
      "339,174\n",
      "340,173\n",
      "341,172\n",
      "342,171\n",
      "343,170\n",
      "344,169\n",
      "345,168\n",
      "346,167\n",
      "347,166\n",
      "348,165\n",
      "349,164\n",
      "350,163\n",
      "351,162\n",
      "352,161\n",
      "353,160\n",
      "354,159\n",
      "355,158\n",
      "356,157\n",
      "357,156\n",
      "358,155\n",
      "359,154\n",
      "360,153\n",
      "361,152\n",
      "362,151\n",
      "363,150\n",
      "364,149\n",
      "365,148\n",
      "366,147\n",
      "367,146\n",
      "368,145\n",
      "369,144\n",
      "370,143\n",
      "371,142\n",
      "372,141\n",
      "373,140\n",
      "374,139\n",
      "375,138\n",
      "376,137\n",
      "377,136\n",
      "378,135\n",
      "379,134\n",
      "380,133\n",
      "381,132\n",
      "382,131\n",
      "383,130\n",
      "384,129\n",
      "385,128\n",
      "386,127\n",
      "387,126\n",
      "388,125\n",
      "389,124\n",
      "390,123\n",
      "391,122\n",
      "392,121\n",
      "393,120\n",
      "394,119\n",
      "395,118\n",
      "396,117\n",
      "397,116\n",
      "398,115\n",
      "399,114\n",
      "400,113\n",
      "401,112\n",
      "402,111\n",
      "403,110\n",
      "404,109\n",
      "405,108\n",
      "406,107\n",
      "407,106\n",
      "408,105\n",
      "409,104\n",
      "410,103\n",
      "411,102\n",
      "412,101\n",
      "413,100\n",
      "414,99\n",
      "415,98\n",
      "416,97\n",
      "417,96\n",
      "418,95\n",
      "419,94\n",
      "420,93\n",
      "421,92\n",
      "422,91\n",
      "423,90\n",
      "424,89\n",
      "425,88\n",
      "426,87\n",
      "427,86\n",
      "428,85\n",
      "429,84\n",
      "430,83\n",
      "431,82\n",
      "432,81\n",
      "433,80\n",
      "434,79\n",
      "435,78\n",
      "436,77\n",
      "437,76\n",
      "438,75\n",
      "439,74\n",
      "440,73\n",
      "441,72\n",
      "442,71\n",
      "443,70\n",
      "444,69\n",
      "445,68\n",
      "446,67\n",
      "447,66\n",
      "448,65\n",
      "449,64\n",
      "450,63\n",
      "451,62\n",
      "452,61\n",
      "453,60\n",
      "454,59\n",
      "455,58\n",
      "456,57\n",
      "457,56\n",
      "458,55\n",
      "459,54\n",
      "460,53\n",
      "461,52\n",
      "462,51\n",
      "463,50\n",
      "464,49\n",
      "465,48\n",
      "466,47\n",
      "467,46\n",
      "468,45\n",
      "469,44\n",
      "470,43\n",
      "471,42\n",
      "472,41\n",
      "473,40\n",
      "474,39\n",
      "475,38\n",
      "476,37\n",
      "477,36\n",
      "478,35\n",
      "479,34\n",
      "480,33\n",
      "481,32\n",
      "482,31\n",
      "483,30\n",
      "484,29\n",
      "485,28\n",
      "486,27\n",
      "487,26\n",
      "488,25\n",
      "489,24\n",
      "490,23\n",
      "491,22\n",
      "492,21\n",
      "493,20\n",
      "494,19\n",
      "495,18\n",
      "496,17\n",
      "497,16\n",
      "498,15\n",
      "499,14\n",
      "500,13\n",
      "501,12\n",
      "502,11\n",
      "503,10\n",
      "504,9\n",
      "505,8\n",
      "506,7\n",
      "507,6\n",
      "508,5\n",
      "509,4\n",
      "510,3\n",
      "511,2\n",
      "512,1\n",
      "Finished writing AllModels.h,cpp,cu,cuh\n",
      "what to do?\n",
      "Finished NMODLtoC_Main.\n",
      "done with parse_models\n"
     ]
    }
   ],
   "source": [
    "\n",
    "run_trans_script_gui()\n"
   ]
  },
  {
   "cell_type": "markdown",
   "metadata": {},
   "source": [
    "# Notes\n",
    "if translating the code failed please run extractmodel.py from your working directory. If that fails please submit a new \n",
    "<a href=\"https://github.com/roybens/NeuroGPU/issues/new/ \">Issue</a> or contact bens.roy@gmail.com\n"
   ]
  },
  {
   "cell_type": "markdown",
   "metadata": {},
   "source": [
    "# Ported Model\n",
    "Now you should find the ported model in the NeuroGPU folder named at extractModel.py "
   ]
  },
  {
   "cell_type": "markdown",
   "metadata": {},
   "source": []
  }
 ],
 "metadata": {
  "kernelspec": {
   "display_name": "Python 3",
   "language": "python",
   "name": "python3"
  },
  "language_info": {
   "codemirror_mode": {
    "name": "ipython",
    "version": 3
   },
   "file_extension": ".py",
   "mimetype": "text/x-python",
   "name": "python",
   "nbconvert_exporter": "python",
   "pygments_lexer": "ipython3",
   "version": "3.7.3"
  }
 },
 "nbformat": 4,
 "nbformat_minor": 2
}
