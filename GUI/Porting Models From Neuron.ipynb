{
 "cells": [
  {
   "cell_type": "markdown",
   "metadata": {},
   "source": [
    "<h1 id=\"tocheading\">Table of Contents</h1>\n",
    "<div id=\"toc\"></div>\n",
    "\n",
    "Run the code below to use the table of contents."
   ]
  },
  {
   "cell_type": "code",
   "execution_count": 3,
   "metadata": {},
   "outputs": [
    {
     "data": {
      "application/javascript": [
       "$.getScript('https://kmahelona.github.io/ipython_notebook_goodies/ipython_notebook_toc.js')\n"
      ],
      "text/plain": [
       "<IPython.core.display.Javascript object>"
      ]
     },
     "metadata": {},
     "output_type": "display_data"
    }
   ],
   "source": [
    "%%javascript\n",
    "$.getScript('https://kmahelona.github.io/ipython_notebook_goodies/ipython_notebook_toc.js')"
   ]
  },
  {
   "cell_type": "markdown",
   "metadata": {},
   "source": [
    "# Introduction\n",
    "- This notebook is used to purely help with walking through the program and will not focus on explanations.\n",
    "- If you want to get a general overview of what each step does, please read the jupyter notebook entitled \"Tutorial\". \n",
    "- If you want information about the program on a technical level, please reach the code documentation entitled \"Documentation\")\n",
    "- Please select the directory of where the NeuroGPU program is located (i.e. \"../../NeuroGPU\") by editing the basepath below.\n",
    "- Once you have edited the base path, run the cell."
   ]
  },
  {
   "cell_type": "code",
   "execution_count": 4,
   "metadata": {},
   "outputs": [],
   "source": [
    "from extractModelHelper import *\n",
    "global template\n",
    "global working"
   ]
  },
  {
   "cell_type": "markdown",
   "metadata": {},
   "source": [
    "# Setting Working Directory\n",
    "\n",
    "- Here is where you will set the location of your working directory.\n",
    "- NeuroGPU location should be the NeuroGPU_Base Folder\n",
    "- Working directory will contain all the customizable files (e.g. stimulation files) before the NeuroGPU is run.\n",
    "- The working directory will be filled with default placeholders until you change them below.\n",
    "- Finally, you can also clear the working directory and reset to the default customizable files."
   ]
  },
  {
   "cell_type": "code",
   "execution_count": 11,
   "metadata": {
    "scrolled": true
   },
   "outputs": [
    {
     "data": {
      "application/vnd.jupyter.widget-view+json": {
       "model_id": "78c35f11582642c0a45771496bfd7ca5",
       "version_major": 2,
       "version_minor": 0
      },
      "text/plain": [
       "Text(value='../NeuroGPU_Base', description='NeuroGPU location:', layout=Layout(width='600px'), style=Descripti…"
      ]
     },
     "metadata": {},
     "output_type": "display_data"
    },
    {
     "data": {
      "application/vnd.jupyter.widget-view+json": {
       "model_id": "64275cb87db248cdb02391adcfe60d63",
       "version_major": 2,
       "version_minor": 0
      },
      "text/plain": [
       "Button(description='Select NeuroGPU Directory:', layout=Layout(width='300px'), style=ButtonStyle())"
      ]
     },
     "metadata": {},
     "output_type": "display_data"
    },
    {
     "data": {
      "application/vnd.jupyter.widget-view+json": {
       "model_id": "c2bbba12fd0a4f6db0e015490a212c40",
       "version_major": 2,
       "version_minor": 0
      },
      "text/plain": [
       "Text(value='../Figures/Figure3_passive', description='Working Filepath:', layout=Layout(width='600px'), style=…"
      ]
     },
     "metadata": {},
     "output_type": "display_data"
    },
    {
     "data": {
      "application/vnd.jupyter.widget-view+json": {
       "model_id": "b13b6da27f134abfa1075d758f693c87",
       "version_major": 2,
       "version_minor": 0
      },
      "text/plain": [
       "Button(description='Select Working Directory:', layout=Layout(width='300px'), style=ButtonStyle())"
      ]
     },
     "metadata": {},
     "output_type": "display_data"
    },
    {
     "data": {
      "application/vnd.jupyter.widget-view+json": {
       "model_id": "2e4b956c0eba44db95af3bcc6e371ee6",
       "version_major": 2,
       "version_minor": 0
      },
      "text/plain": [
       "Button(description='Generate/Rest Working Files:', layout=Layout(width='300px'), style=ButtonStyle())"
      ]
     },
     "metadata": {},
     "output_type": "display_data"
    },
    {
     "name": "stdout",
     "output_type": "stream",
     "text": [
      "Working files generated at: E:\\GitHub\\NeuroGPU\\Figures\\Figure2_BBP_CC\n",
      "E:\\GitHub\\NeuroGPU\\Figures\\Figure2_BBP_CC/runModel.hoc has been reset\n"
     ]
    }
   ],
   "source": [
    "init_working_dir()"
   ]
  },
  {
   "cell_type": "markdown",
   "metadata": {},
   "source": [
    "# Inputting Custom Files\n",
    "- Here is where you will implement your customized inputs.\n",
    "- Inputs include the voltage trace, parameters, and model file. \n",
    "- If you want to use the default inputs, you can skip this step.\n",
    "- If you want to use your own input files, please change the variables below to the paths of your input files. Make sure you test your inputs through Neuron first. After that, just run the cell below.\n"
   ]
  },
  {
   "cell_type": "code",
   "execution_count": 12,
   "metadata": {
    "scrolled": true
   },
   "outputs": [
    {
     "data": {
      "application/vnd.jupyter.widget-view+json": {
       "model_id": "09c69e21e74c44c59246fb60c901a05e",
       "version_major": 2,
       "version_minor": 0
      },
      "text/plain": [
       "Text(value='./params/params.csv', description='Parameter :', layout=Layout(width='400px'))"
      ]
     },
     "metadata": {},
     "output_type": "display_data"
    },
    {
     "data": {
      "application/vnd.jupyter.widget-view+json": {
       "model_id": "94c7f07cf55a4671b8afa48614ed0a8e",
       "version_major": 2,
       "version_minor": 0
      },
      "text/plain": [
       "Button(description='Select Parameter File:', layout=Layout(width='50%'), style=ButtonStyle())"
      ]
     },
     "metadata": {},
     "output_type": "display_data"
    },
    {
     "data": {
      "application/vnd.jupyter.widget-view+json": {
       "model_id": "e32d8b7410bd435d9e82fee42db258d5",
       "version_major": 2,
       "version_minor": 0
      },
      "text/plain": [
       "Text(value='./Stims/Step_8_.csv', description='Stimulation :', layout=Layout(width='400px'))"
      ]
     },
     "metadata": {},
     "output_type": "display_data"
    },
    {
     "data": {
      "application/vnd.jupyter.widget-view+json": {
       "model_id": "7f01d426e6114658a0d5affe8443446f",
       "version_major": 2,
       "version_minor": 0
      },
      "text/plain": [
       "Button(description='Select Stimulation File:', layout=Layout(width='50%'), style=ButtonStyle())"
      ]
     },
     "metadata": {},
     "output_type": "display_data"
    },
    {
     "data": {
      "application/vnd.jupyter.widget-view+json": {
       "model_id": "404a74446a4c48c9b6f5b342e5a7cdd4",
       "version_major": 2,
       "version_minor": 0
      },
      "text/plain": [
       "Text(value='./mosinit.hoc', description='Model :', layout=Layout(width='400px'))"
      ]
     },
     "metadata": {},
     "output_type": "display_data"
    },
    {
     "data": {
      "application/vnd.jupyter.widget-view+json": {
       "model_id": "c69d5d8fa4c94581ab81b96a8ac4c054",
       "version_major": 2,
       "version_minor": 0
      },
      "text/plain": [
       "Button(description='Select Model File:', layout=Layout(width='50%'), style=ButtonStyle())"
      ]
     },
     "metadata": {},
     "output_type": "display_data"
    },
    {
     "data": {
      "application/vnd.jupyter.widget-view+json": {
       "model_id": "b3a7c667446548ff884b207c15ff9216",
       "version_major": 2,
       "version_minor": 0
      },
      "text/plain": [
       "Text(value='./Stims/times.csv', description='Times :', layout=Layout(width='400px'))"
      ]
     },
     "metadata": {},
     "output_type": "display_data"
    },
    {
     "data": {
      "application/vnd.jupyter.widget-view+json": {
       "model_id": "567c7fd3413a43eb81e00963e8636dfa",
       "version_major": 2,
       "version_minor": 0
      },
      "text/plain": [
       "Button(description='Select Times File:', layout=Layout(width='50%'), style=ButtonStyle())"
      ]
     },
     "metadata": {},
     "output_type": "display_data"
    },
    {
     "data": {
      "application/vnd.jupyter.widget-view+json": {
       "model_id": "a3c7dc562ca34e1883137361b4a2ec4d",
       "version_major": 2,
       "version_minor": 0
      },
      "text/plain": [
       "Button(description='Integrate Files', layout=Layout(width='50%'), style=ButtonStyle())"
      ]
     },
     "metadata": {},
     "output_type": "display_data"
    },
    {
     "name": "stdout",
     "output_type": "stream",
     "text": [
      "time file is ./Stims/times.csv\n",
      "Input files successfully integrated\n"
     ]
    }
   ],
   "source": [
    "show_input_file_panel()"
   ]
  },
  {
   "cell_type": "markdown",
   "metadata": {},
   "source": [
    "# Inputting Running Variables\n",
    "- Here is where you will implement your customized inputs.\n",
    "- Inputs include the voltage trace, parameters, and model file. \n",
    "- If you want to use the default inputs, you can skip this step.\n",
    "- If you want to use your own input files, please change the variables below to the paths of your input files. Make sure you test your inputs through Neuron first. After that, just run the cell below.\n"
   ]
  },
  {
   "cell_type": "code",
   "execution_count": 13,
   "metadata": {},
   "outputs": [
    {
     "data": {
      "application/vnd.jupyter.widget-view+json": {
       "model_id": "c22a3696dd474a97a457a69c7eed4419",
       "version_major": 2,
       "version_minor": 0
      },
      "text/plain": [
       "Text(value='3168', description='# Timestep ')"
      ]
     },
     "metadata": {},
     "output_type": "display_data"
    },
    {
     "data": {
      "application/vnd.jupyter.widget-view+json": {
       "model_id": "69973b7bc2534a058fbb588ba05ba024",
       "version_major": 2,
       "version_minor": 0
      },
      "text/plain": [
       "Text(value='3', description='# Parameters')"
      ]
     },
     "metadata": {},
     "output_type": "display_data"
    },
    {
     "data": {
      "application/vnd.jupyter.widget-view+json": {
       "model_id": "6b39c407ae624b7aa711d64fb7bcc62d",
       "version_major": 2,
       "version_minor": 0
      },
      "text/plain": [
       "Text(value='1', description='# Models')"
      ]
     },
     "metadata": {},
     "output_type": "display_data"
    },
    {
     "data": {
      "application/vnd.jupyter.widget-view+json": {
       "model_id": "e6247086efb04dfda0ca73f8f3c45bb8",
       "version_major": 2,
       "version_minor": 0
      },
      "text/plain": [
       "Text(value='1', description='# Traces ')"
      ]
     },
     "metadata": {},
     "output_type": "display_data"
    },
    {
     "data": {
      "application/vnd.jupyter.widget-view+json": {
       "model_id": "82e68228cc26404283250a9cf3483b79",
       "version_major": 2,
       "version_minor": 0
      },
      "text/plain": [
       "Text(value='-80', description='V_init ')"
      ]
     },
     "metadata": {},
     "output_type": "display_data"
    },
    {
     "data": {
      "application/vnd.jupyter.widget-view+json": {
       "model_id": "df257ff999464c4781dbd2c2c2072cf0",
       "version_major": 2,
       "version_minor": 0
      },
      "text/plain": [
       "Text(value='1', description='Recalculate ECa? ')"
      ]
     },
     "metadata": {},
     "output_type": "display_data"
    },
    {
     "data": {
      "application/vnd.jupyter.widget-view+json": {
       "model_id": "ae0ebf353d944fcd8f0c5412d8eb58d4",
       "version_major": 2,
       "version_minor": 0
      },
      "text/plain": [
       "Button(description='Integrate Running Variables', layout=Layout(width='500px'), style=ButtonStyle())"
      ]
     },
     "metadata": {},
     "output_type": "display_data"
    },
    {
     "name": "stdout",
     "output_type": "stream",
     "text": [
      "../Figures/Figure3_passive\n",
      "Input files successfully integrated\n"
     ]
    }
   ],
   "source": [
    "\n",
    "show_run_var_panel()\n",
    "global working\n",
    "print(working)"
   ]
  },
  {
   "cell_type": "markdown",
   "metadata": {},
   "source": [
    "# Select your injection site\n",
    "## First make sure you compiled all your .mod file (nrnivmodl/mknrndll)\n",
    "- Here is where you will select where your point process will be injected at.\n",
    "- This code will extract the morphology of your cell and display all sections in a dropbox.\n",
    "- First, select the section where you would like to inject current.\n",
    "    - For sections where there are more than one type, use the slider to select the right one.\n",
    "- Then, you will need to specificy the location of your injected current on that section.\n",
    "    - Use the slider to select the location from 0 to 1 - 0 being the origin and 1 being the end\n"
   ]
  },
  {
   "cell_type": "code",
   "execution_count": 14,
   "metadata": {
    "scrolled": true
   },
   "outputs": [
    {
     "name": "stdout",
     "output_type": "stream",
     "text": [
      "../Figures/Figure3_passive\n",
      "E:\\GitHub\\NeuroGPU\\Figures\\Figure2_BBP_CC\n"
     ]
    },
    {
     "data": {
      "application/vnd.jupyter.widget-view+json": {
       "model_id": "f7aca50646514cb18092e24c64c02ba7",
       "version_major": 2,
       "version_minor": 0
      },
      "text/plain": [
       "Button(description='Create Injection Site', style=ButtonStyle())"
      ]
     },
     "metadata": {},
     "output_type": "display_data"
    },
    {
     "data": {
      "application/vnd.jupyter.widget-view+json": {
       "model_id": "a5a72cffc7a2465aa7fb1ff084d8e991",
       "version_major": 2,
       "version_minor": 0
      },
      "text/plain": [
       "FloatSlider(value=0.0, description='Section Location (0-1)', max=1.0, step=0.01)"
      ]
     },
     "metadata": {},
     "output_type": "display_data"
    },
    {
     "data": {
      "application/vnd.jupyter.widget-view+json": {
       "model_id": "10b196d5a41d49f5b00e50d88e80a381",
       "version_major": 2,
       "version_minor": 0
      },
      "text/plain": [
       "interactive(children=(Dropdown(description='Section:', options=('soma', 'dend', 'axon', 'Exts'), value='soma')…"
      ]
     },
     "metadata": {},
     "output_type": "display_data"
    },
    {
     "name": "stdout",
     "output_type": "stream",
     "text": [
      "Injection site successfully integrated\n"
     ]
    }
   ],
   "source": [
    "global working\n",
    "print(working)\n",
    "print(os.getcwd())\n",
    "\n",
    "\n",
    "select_inj_site()\n"
   ]
  },
  {
   "cell_type": "markdown",
   "metadata": {},
   "source": [
    "# Running the Translation script\n",
    "Now that you have all the optional setup steps complete, you can now run the actual parsing script. Run the cell below."
   ]
  },
  {
   "cell_type": "code",
   "execution_count": 15,
   "metadata": {
    "scrolled": true
   },
   "outputs": [
    {
     "data": {
      "application/vnd.jupyter.widget-view+json": {
       "model_id": "9d0a340cd5f945a182f4bf9a0e0511f5",
       "version_major": 2,
       "version_minor": 0
      },
      "text/plain": [
       "Button(description='Translate to CUDA Code', style=ButtonStyle())"
      ]
     },
     "metadata": {},
     "output_type": "display_data"
    },
    {
     "name": "stdout",
     "output_type": "stream",
     "text": [
      "E:\\GitHub\\NeuroGPU\\NeuroGPU_Base/scripts/pyscripts/auxilliary.py\n",
      "E:\\GitHub\\NeuroGPU\\NeuroGPU_Base/scripts/pyscripts/cell.py\n",
      "E:\\GitHub\\NeuroGPU\\NeuroGPU_Base/scripts/pyscripts/create_auxilliary_data_3.py\n",
      "E:\\GitHub\\NeuroGPU\\NeuroGPU_Base/scripts/pyscripts/DEAP_helper.py\n",
      "E:\\GitHub\\NeuroGPU\\NeuroGPU_Base/scripts/pyscripts/efel_ext.py\n",
      "E:\\GitHub\\NeuroGPU\\NeuroGPU_Base/scripts/pyscripts/exp_data_utils.py\n",
      "E:\\GitHub\\NeuroGPU\\NeuroGPU_Base/scripts/pyscripts/extractModel.py\n",
      "E:\\GitHub\\NeuroGPU\\NeuroGPU_Base/scripts/pyscripts/extractModel_mappings.py\n",
      "E:\\GitHub\\NeuroGPU\\NeuroGPU_Base/scripts/pyscripts/filepaths.py\n",
      "E:\\GitHub\\NeuroGPU\\NeuroGPU_Base/scripts/pyscripts/file_io.py\n",
      "E:\\GitHub\\NeuroGPU\\NeuroGPU_Base/scripts/pyscripts/generate_params_for_exploration.py\n",
      "E:\\GitHub\\NeuroGPU\\NeuroGPU_Base/scripts/pyscripts/get_parent_from_neuron.py\n",
      "E:\\GitHub\\NeuroGPU\\NeuroGPU_Base/scripts/pyscripts/injectV.py\n",
      "E:\\GitHub\\NeuroGPU\\NeuroGPU_Base/scripts/pyscripts/kinetic_template.txt\n",
      "E:\\GitHub\\NeuroGPU\\NeuroGPU_Base/scripts/pyscripts/loadBestIndvs.py\n",
      "E:\\GitHub\\NeuroGPU\\NeuroGPU_Base/scripts/pyscripts/make_tree_from_parent_vec.py\n",
      "E:\\GitHub\\NeuroGPU\\NeuroGPU_Base/scripts/pyscripts/membdef.h\n",
      "E:\\GitHub\\NeuroGPU\\NeuroGPU_Base/scripts/pyscripts/NeuroGPUFromPkl.py\n",
      "E:\\GitHub\\NeuroGPU\\NeuroGPU_Base/scripts/pyscripts/neurogpu_evaluator.py\n",
      "E:\\GitHub\\NeuroGPU\\NeuroGPU_Base/scripts/pyscripts/neuron_object.py\n",
      "E:\\GitHub\\NeuroGPU\\NeuroGPU_Base/scripts/pyscripts/nrn_structs.py\n",
      "E:\\GitHub\\NeuroGPU\\NeuroGPU_Base/scripts/pyscripts/optimize_parameters_genetic_alg.py\n",
      "E:\\GitHub\\NeuroGPU\\NeuroGPU_Base/scripts/pyscripts/preformance_figs.py\n",
      "E:\\GitHub\\NeuroGPU\\NeuroGPU_Base/scripts/pyscripts/pref_figs_unix.py\n",
      "E:\\GitHub\\NeuroGPU\\NeuroGPU_Base/scripts/pyscripts/proc_add_param_to_hoc_for_opt.py\n",
      "E:\\GitHub\\NeuroGPU\\NeuroGPU_Base/scripts/pyscripts/resampler.py\n",
      "E:\\GitHub\\NeuroGPU\\NeuroGPU_Base/scripts/pyscripts/stimsite.py\n",
      "E:\\GitHub\\NeuroGPU\\NeuroGPU_Base/scripts/pyscripts/stimV.py\n",
      "E:\\GitHub\\NeuroGPU\\NeuroGPU_Base/scripts/pyscripts/test2.py\n",
      "E:\\GitHub\\NeuroGPU\\NeuroGPU_Base/scripts/pyscripts/test2.pyc\n",
      "NEURON -- VERSION 7.7.2 7.7 (2b7985ba) 2019-06-20\n",
      "Duke, Yale, and the BlueBrain Project -- Copyright 1984-2018\n",
      "See http://neuron.yale.edu/neuron/credits\n",
      "\n",
      "\t1 \n",
      "\t1 \n",
      "Setting temperature to 34.000000 C\n",
      "Setting simulation time step to 0.025000 ms\n",
      "\t1 \n",
      "\t1 \n",
      "\t1 \n",
      "\t1 \n",
      "\t1 \n",
      "\t1 \n",
      "\t1 \n",
      "\t1 \n",
      "\t1 \n",
      "\t1 \n",
      "\t1 \n",
      "\t1 \n",
      "**********************\n",
      "dNAC222_L5_ChC_75c658c9b8[0].soma[0]\n",
      "1 \n",
      "1 \n",
      "1 \n",
      "\t1 \n",
      "5\t0.9\t0.0892\t\n",
      "\t1 \n",
      "\t1 \n",
      "\t1 \n",
      "\t0 \n",
      "\t1 \n",
      "\t0 \n",
      "5\t0.9\t0.0892\t\n",
      "\t1 \n",
      "\t1 \n",
      "\t1 \n",
      "dNAC222_L5_ChC_75c658c9b8[0].soma[0]\n",
      "Additional mechanisms from files\n",
      " Ca.mod CaDynamics_E2.mod Ca_LVAst.mod Ih.mod Im.mod K_Pst.mod K_Tst.mod KdShu2007.mod NaTa_t.mod NaTs2_t.mod Nap_Et2.mod SK_E2.mod SKv3_1.mod branching.mod\n",
      "Notice: dNAC222_L5_ChC_75c658c9b8[0].dend[50](0) had previously been connected to parent dNAC222_L5_ChC_75c658c9b8[0].soma[0](0.5)\n",
      "Notice: dNAC222_L5_ChC_75c658c9b8[0].dend[0](0) had previously been connected to parent dNAC222_L5_ChC_75c658c9b8[0].soma[0](0.5)\n",
      "Notice: dNAC222_L5_ChC_75c658c9b8[0].axon[0](0) had previously been connected to parent dNAC222_L5_ChC_75c658c9b8[0].soma[0](1)\n",
      "E:\\GitHub\\NeuroGPU\\Figures\\Figure2_BBP_CC\\proc_add_param_to_hoc_for_opt.py:74: VisibleDeprecationWarning: Creating an ndarray from ragged nested sequences (which is a list-or-tuple of lists-or-tuples-or ndarrays with different lengths or shapes) is deprecated. If you meant to do this, you must specify 'dtype=object' when creating the ndarray\n",
      "  param_start_i += list(np.cumsum(cell_numel(np.array(all_parameters_non_global_c))))\n",
      "E:\\GitHub\\NeuroGPU\\Figures\\Figure2_BBP_CC\\proc_add_param_to_hoc_for_opt.py:126: VisibleDeprecationWarning: Creating an ndarray from ragged nested sequences (which is a list-or-tuple of lists-or-tuples-or ndarrays with different lengths or shapes) is deprecated. If you meant to do this, you must specify 'dtype=object' when creating the ndarray\n",
      "  reversals_c = np.array(reversals_c)\n",
      "E:\\GitHub\\NeuroGPU\\Figures\\Figure2_BBP_CC\\make_tree_from_parent_vec.py:21: VisibleDeprecationWarning: Creating an ndarray from ragged nested sequences (which is a list-or-tuple of lists-or-tuples-or ndarrays with different lengths or shapes) is deprecated. If you meant to do this, you must specify 'dtype=object' when creating the ndarray\n",
      "  Related = np.array([np.where(Fathers[i] == Ks)[0] for i in range(Fathers.size)])\n",
      "E:\\GitHub\\NeuroGPU\\Figures\\Figure2_BBP_CC\\create_auxilliary_data_3.py:195: VisibleDeprecationWarning: Creating an ndarray from ragged nested sequences (which is a list-or-tuple of lists-or-tuples-or ndarrays with different lengths or shapes) is deprecated. If you meant to do this, you must specify 'dtype=object' when creating the ndarray\n",
      "  LRelated = np.array(LRelated)\n",
      "\t1 \n",
      "\t1 \n",
      "Setting temperature to 34.000000 C\n",
      "Setting simulation time step to 0.025000 ms\n",
      "\t1 \n",
      "\t1 \n",
      "\t1 \n",
      "\t1 \n",
      "\t1 \n",
      "\t1 \n",
      "\t1 \n",
      "\t1 \n",
      "\t1 \n",
      "\t1 \n",
      "\t1 \n",
      "\t1 \n",
      "**********************\n",
      "dNAC222_L5_ChC_75c658c9b8[0].soma[0]\n",
      "1 \n",
      "1 \n",
      "1 \n",
      "\t1 \n",
      "5\t0.9\t0.0892\t\n",
      "\t1 \n",
      "\t1 \n",
      "\t1 \n",
      "parsing Ca.mod\n",
      "parsing Ca_LVAst.mod\n",
      "parsing CaDynamics_E2.mod\n",
      "parsing Ih.mod\n",
      "parsing Im.mod\n",
      "parsing K_Pst.mod\n",
      "parsing K_Tst.mod\n",
      "parsing KdShu2007.mod\n",
      "unknown     THREADSAFE\n",
      "unknown\t\n",
      "parsing Nap_Et2.mod\n",
      "parsing NaTa_t.mod\n",
      "parsing NaTs2_t.mod\n",
      "parsing passive.mod2\n",
      "parsing SK_E2.mod\n",
      "parsing SKv3_1.mod\n",
      "parsing Ca\n",
      "Solve method not cnexp/sparse! in Ca\n",
      "parsing Ca_LVAst\n",
      "Solve method not cnexp/sparse! in Ca_LVAst\n",
      "parsing CaDynamics_E2\n",
      "Solve method not cnexp/sparse! in CaDynamics_E2\n",
      "parsing Ih\n",
      "Solve method not cnexp/sparse! in Ih\n",
      "parsing Im\n",
      "Solve method not cnexp/sparse! in Im\n",
      "parsing K_Pst\n",
      "Solve method not cnexp/sparse! in K_Pst\n",
      "parsing K_Tst\n",
      "Solve method not cnexp/sparse! in K_Tst\n",
      "parsing KdShu2007\n",
      "Solve method not cnexp/sparse! in KdShu2007\n",
      "parsing Nap_Et2\n",
      "Solve method not cnexp/sparse! in Nap_Et2\n",
      "parsing NaTa_t\n",
      "Solve method not cnexp/sparse! in NaTa_t\n",
      "parsing NaTs2_t\n",
      "Solve method not cnexp/sparse! in NaTs2_t\n",
      "parsing pas\n",
      "no solve in breakpoint\n",
      "parsing SK_E2\n",
      "Solve method not cnexp/sparse! in SK_E2\n",
      "parsing SKv3_1\n",
      "Solve method not cnexp/sparse! in SKv3_1\n",
      "5\t0.9\t0.0892\t\n",
      "./Data/mosinit.pkl\n",
      "in procadd\n",
      "1\n",
      "2\n",
      "3\n",
      "4\n",
      "5\n",
      "6\n",
      "7\n",
      "8\n",
      "9\n",
      "10\n",
      "11\n",
      "12\n",
      "13\n",
      "14\n",
      "running runmodel_param\n",
      "\t1 \n",
      "\t1 \n",
      "2,223\n",
      "3,222\n",
      "4,221\n",
      "5,220\n",
      "6,219\n",
      "7,218\n",
      "8,217\n",
      "9,216\n",
      "10,215\n",
      "11,214\n",
      "12,213\n",
      "13,212\n",
      "14,211\n",
      "15,210\n",
      "16,209\n",
      "17,208\n",
      "18,207\n",
      "19,206\n",
      "20,205\n",
      "21,204\n",
      "22,203\n",
      "23,202\n",
      "24,201\n",
      "25,200\n",
      "26,199\n",
      "27,198\n",
      "28,197\n",
      "29,196\n",
      "30,195\n",
      "31,194\n",
      "32,193\n",
      "33,192\n",
      "34,191\n",
      "35,190\n",
      "36,189\n",
      "37,188\n",
      "38,187\n",
      "39,186\n",
      "40,185\n",
      "41,184\n",
      "42,183\n",
      "43,182\n",
      "44,181\n",
      "45,180\n",
      "46,179\n",
      "47,178\n",
      "48,177\n",
      "49,176\n",
      "50,175\n",
      "51,174\n",
      "52,173\n",
      "53,172\n",
      "54,171\n",
      "55,170\n",
      "56,169\n",
      "57,168\n",
      "58,167\n",
      "59,166\n",
      "60,165\n",
      "61,164\n",
      "62,163\n",
      "63,162\n",
      "64,161\n",
      "65,160\n",
      "66,159\n",
      "67,158\n",
      "68,157\n",
      "69,156\n",
      "70,155\n",
      "71,154\n",
      "72,153\n",
      "73,152\n",
      "74,151\n",
      "75,150\n",
      "76,149\n",
      "77,148\n",
      "78,147\n",
      "79,146\n",
      "80,145\n",
      "81,144\n",
      "82,143\n",
      "83,142\n",
      "84,141\n",
      "85,140\n",
      "86,139\n",
      "87,138\n",
      "88,137\n",
      "89,136\n",
      "90,135\n",
      "91,134\n",
      "92,133\n",
      "93,132\n",
      "94,131\n",
      "95,130\n",
      "96,129\n",
      "97,128\n",
      "98,127\n",
      "99,126\n",
      "100,125\n",
      "101,124\n",
      "102,123\n",
      "103,122\n",
      "104,121\n",
      "105,120\n",
      "106,119\n",
      "107,118\n",
      "108,117\n",
      "109,116\n",
      "110,115\n",
      "111,114\n",
      "112,113\n",
      "113,112\n",
      "114,111\n",
      "115,110\n",
      "116,109\n",
      "117,108\n",
      "118,107\n",
      "119,106\n",
      "120,105\n",
      "121,104\n",
      "122,103\n",
      "123,102\n",
      "124,101\n",
      "125,100\n",
      "126,99\n",
      "127,98\n",
      "128,97\n",
      "129,96\n",
      "130,95\n",
      "131,94\n",
      "132,93\n",
      "133,92\n",
      "134,91\n",
      "135,90\n",
      "136,89\n",
      "137,88\n",
      "138,87\n",
      "139,86\n",
      "140,85\n",
      "141,84\n",
      "142,83\n",
      "143,82\n",
      "144,81\n",
      "145,80\n",
      "146,79\n",
      "147,78\n",
      "148,77\n",
      "149,76\n",
      "150,75\n",
      "151,74\n",
      "152,73\n",
      "153,72\n",
      "154,71\n",
      "155,70\n",
      "156,69\n",
      "157,68\n",
      "158,67\n",
      "159,66\n",
      "160,65\n",
      "161,64\n",
      "162,63\n",
      "163,62\n",
      "164,61\n",
      "165,60\n",
      "166,59\n",
      "167,58\n",
      "168,57\n",
      "169,56\n",
      "170,55\n",
      "171,54\n",
      "172,53\n",
      "173,52\n",
      "174,51\n",
      "175,50\n",
      "176,49\n",
      "177,48\n",
      "178,47\n",
      "179,46\n",
      "180,45\n",
      "181,44\n",
      "182,43\n",
      "183,42\n",
      "184,41\n",
      "185,40\n",
      "186,39\n",
      "187,38\n",
      "188,37\n",
      "189,36\n",
      "190,35\n",
      "191,34\n",
      "192,33\n",
      "193,32\n",
      "194,31\n",
      "195,30\n",
      "196,29\n",
      "197,28\n",
      "198,27\n",
      "199,26\n",
      "200,25\n",
      "201,24\n",
      "202,23\n",
      "203,22\n",
      "204,21\n",
      "205,20\n",
      "206,19\n",
      "207,18\n",
      "208,17\n",
      "209,16\n",
      "210,15\n",
      "211,14\n",
      "212,13\n",
      "213,12\n",
      "214,11\n",
      "215,10\n",
      "216,9\n",
      "217,8\n",
      "218,7\n",
      "219,6\n",
      "220,5\n",
      "221,4\n",
      "222,3\n",
      "223,2\n",
      "224,1\n",
      "Finished writing AllModels.h,cpp,cu,cuh\n",
      "what to do?\n",
      "Finished NMODLtoC_Main.\n",
      "done with parse_models\n",
      "E:/GitHub/NeuroGPU/NeuroGPU_Base/VS/pyNeuroGPU_win/\n",
      "C:/pyNeuroGPU_win66\n",
      "./Data/BasicConst*.csv\n",
      "./Data\\BasicConstSeg.csv\n",
      "./Data\\BasicConstSegP.csv\n",
      "E:/GitHub/NeuroGPU/NeuroGPU_Base/VS/pyNeuroGPU_win//NeuroGPU6/kernel.cu\n",
      "E:/GitHub/NeuroGPU/NeuroGPU_Base/VS/pyNeuroGPU_win//NeuroGPU6/MainC.cu\n",
      "E:/GitHub/NeuroGPU/NeuroGPU_Base/VS/pyNeuroGPU_win//NeuroGPU6/Makefile\n",
      "E:/GitHub/NeuroGPU/NeuroGPU_Base/VS/pyNeuroGPU_win//NeuroGPU6/Util.cu\n",
      "E:/GitHub/NeuroGPU/NeuroGPU_Base/VS/pyNeuroGPU_win//NeuroGPU6/Util.h\n",
      "E:/GitHub/NeuroGPU/NeuroGPU_Base/VS/pyNeuroGPU_win//NeuroGPU6/CudaStuff.cu\n",
      "E:/GitHub/NeuroGPU/NeuroGPU_Base/VS/pyNeuroGPU_win//NeuroGPU6/CudaStuff.cuh\n",
      "./Data/BasicConst*.csv\n",
      "./Data\\BasicConstSeg.csv\n",
      "./Data\\BasicConstSegP.csv\n",
      "created new reference file\n",
      "Notice: dNAC222_L5_ChC_75c658c9b8[0].dend[50](0) had previously been connected to parent dNAC222_L5_ChC_75c658c9b8[0].soma[0](0.5)\n",
      "Notice: dNAC222_L5_ChC_75c658c9b8[0].dend[0](0) had previously been connected to parent dNAC222_L5_ChC_75c658c9b8[0].soma[0](0.5)\n",
      "Notice: dNAC222_L5_ChC_75c658c9b8[0].axon[0](0) had previously been connected to parent dNAC222_L5_ChC_75c658c9b8[0].soma[0](1)\n"
     ]
    }
   ],
   "source": [
    "\n",
    "run_trans_script_gui()\n"
   ]
  },
  {
   "cell_type": "markdown",
   "metadata": {},
   "source": [
    "# Notes\n",
    "if translating the code failed please run extractmodel.py from your working directory. If that fails please submit a new \n",
    "<a href=\"https://github.com/roybens/NeuroGPU/issues/new/ \">Issue</a> or contact bens.roy@gmail.com\n"
   ]
  },
  {
   "cell_type": "markdown",
   "metadata": {},
   "source": [
    "# Ported Model\n",
    "Now you should find the ported model in the NeuroGPU folder named at extractModel.py "
   ]
  },
  {
   "cell_type": "markdown",
   "metadata": {},
   "source": []
  }
 ],
 "metadata": {
  "kernelspec": {
   "display_name": "Python 3",
   "language": "python",
   "name": "python3"
  },
  "language_info": {
   "codemirror_mode": {
    "name": "ipython",
    "version": 3
   },
   "file_extension": ".py",
   "mimetype": "text/x-python",
   "name": "python",
   "nbconvert_exporter": "python",
   "pygments_lexer": "ipython3",
   "version": "3.7.9"
  }
 },
 "nbformat": 4,
 "nbformat_minor": 2
}
