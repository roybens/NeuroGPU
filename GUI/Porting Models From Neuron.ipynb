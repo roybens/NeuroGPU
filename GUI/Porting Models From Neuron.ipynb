{
 "cells": [
  {
   "cell_type": "markdown",
   "metadata": {},
   "source": [
    "<h1 id=\"tocheading\">Table of Contents</h1>\n",
    "<div id=\"toc\"></div>\n",
    "\n",
    "Run the code below to use the table of contents."
   ]
  },
  {
   "cell_type": "code",
   "execution_count": 1,
   "metadata": {},
   "outputs": [
    {
     "data": {
      "application/javascript": [
       "$.getScript('https://kmahelona.github.io/ipython_notebook_goodies/ipython_notebook_toc.js')\n"
      ],
      "text/plain": [
       "<IPython.core.display.Javascript object>"
      ]
     },
     "metadata": {},
     "output_type": "display_data"
    }
   ],
   "source": [
    "%%javascript\n",
    "$.getScript('https://kmahelona.github.io/ipython_notebook_goodies/ipython_notebook_toc.js')"
   ]
  },
  {
   "cell_type": "markdown",
   "metadata": {},
   "source": [
    "# Introduction\n",
    "- This notebook is used to purely help with walking through the program and will not focus on explanations.\n",
    "- If you want to get a general overview of what each step does, please read the jupyter notebook entitled \"Tutorial\". \n",
    "- If you want information about the program on a technical level, please reach the code documentation entitled \"Documentation\")\n",
    "- Please select the directory of where the NeuroGPU program is located (i.e. \"../../NeuroGPU\") by editing the basepath below.\n",
    "- Once you have edited the base path, run the cell."
   ]
  },
  {
   "cell_type": "code",
   "execution_count": 2,
   "metadata": {},
   "outputs": [],
   "source": [
    "from extractModelHelper import *\n",
    "global template\n",
    "global working"
   ]
  },
  {
   "cell_type": "markdown",
   "metadata": {},
   "source": [
    "# Setting Working Directory\n",
    "\n",
    "- Here is where you will set the location of your working directory.\n",
    "- NeuroGPU location should be the NeuroGPU_Base Folder\n",
    "- Working directory will contain all the customizable files (e.g. stimulation files) before the NeuroGPU is run.\n",
    "- The working directory will be filled with default placeholders until you change them below.\n",
    "- Finally, you can also clear the working directory and reset to the default customizable files."
   ]
  },
  {
   "cell_type": "code",
   "execution_count": 3,
   "metadata": {
    "scrolled": true
   },
   "outputs": [
    {
     "data": {
      "application/vnd.jupyter.widget-view+json": {
       "model_id": "b571a6887d004bc386cb76b7ae5c5021",
       "version_major": 2,
       "version_minor": 0
      },
      "text/plain": [
       "Text(value='../NeuroGPU_Base', description='NeuroGPU location:', layout=Layout(width='600px'), style=Descripti…"
      ]
     },
     "metadata": {},
     "output_type": "display_data"
    },
    {
     "data": {
      "application/vnd.jupyter.widget-view+json": {
       "model_id": "995e3a2dcb1b4c78be9ffae294af383e",
       "version_major": 2,
       "version_minor": 0
      },
      "text/plain": [
       "Button(description='Select NeuroGPU Directory:', layout=Layout(width='300px'), style=ButtonStyle())"
      ]
     },
     "metadata": {},
     "output_type": "display_data"
    },
    {
     "data": {
      "application/vnd.jupyter.widget-view+json": {
       "model_id": "878b51733b244bb7ad6e87c123b22e41",
       "version_major": 2,
       "version_minor": 0
      },
      "text/plain": [
       "Text(value='../Figures/Figure3_passive', description='Working Filepath:', layout=Layout(width='600px'), style=…"
      ]
     },
     "metadata": {},
     "output_type": "display_data"
    },
    {
     "data": {
      "application/vnd.jupyter.widget-view+json": {
       "model_id": "ee9493ea29e1437ca2a356c2cf791aa0",
       "version_major": 2,
       "version_minor": 0
      },
      "text/plain": [
       "Button(description='Select Working Directory:', layout=Layout(width='300px'), style=ButtonStyle())"
      ]
     },
     "metadata": {},
     "output_type": "display_data"
    },
    {
     "data": {
      "application/vnd.jupyter.widget-view+json": {
       "model_id": "8e2d57f366f64b9b8e59c4b4b16c81ab",
       "version_major": 2,
       "version_minor": 0
      },
      "text/plain": [
       "Button(description='Generate/Rest Working Files:', layout=Layout(width='300px'), style=ButtonStyle())"
      ]
     },
     "metadata": {},
     "output_type": "display_data"
    },
    {
     "name": "stdout",
     "output_type": "stream",
     "text": [
      "Working files generated at: E:\\Workspace\\Optimization\\SCN2A_BBP\\SCN2AClean\n",
      "E:\\Workspace\\Optimization\\SCN2A_BBP\\SCN2AClean/runModel.hoc has been reset\n"
     ]
    }
   ],
   "source": [
    "init_working_dir()"
   ]
  },
  {
   "cell_type": "markdown",
   "metadata": {},
   "source": [
    "# Inputting Custom Files\n",
    "- Here is where you will implement your customized inputs.\n",
    "- Inputs include the voltage trace, parameters, and model file. \n",
    "- If you want to use the default inputs, you can skip this step.\n",
    "- If you want to use your own input files, please change the variables below to the paths of your input files. Make sure you test your inputs through Neuron first. After that, just run the cell below.\n"
   ]
  },
  {
   "cell_type": "code",
   "execution_count": 4,
   "metadata": {
    "scrolled": true
   },
   "outputs": [
    {
     "data": {
      "application/vnd.jupyter.widget-view+json": {
       "model_id": "da6b8507f28e4113aaebbe2e51871d2e",
       "version_major": 2,
       "version_minor": 0
      },
      "text/plain": [
       "Text(value='./params/params.csv', description='Parameter :', layout=Layout(width='400px'))"
      ]
     },
     "metadata": {},
     "output_type": "display_data"
    },
    {
     "data": {
      "application/vnd.jupyter.widget-view+json": {
       "model_id": "92a39b094f514a519f49a636452c037f",
       "version_major": 2,
       "version_minor": 0
      },
      "text/plain": [
       "Button(description='Select Parameter File:', layout=Layout(width='50%'), style=ButtonStyle())"
      ]
     },
     "metadata": {},
     "output_type": "display_data"
    },
    {
     "data": {
      "application/vnd.jupyter.widget-view+json": {
       "model_id": "e3002aac95f842208a15aea7b533d3f4",
       "version_major": 2,
       "version_minor": 0
      },
      "text/plain": [
       "Text(value='./Stims/Step_8_.csv', description='Stimulation :', layout=Layout(width='400px'))"
      ]
     },
     "metadata": {},
     "output_type": "display_data"
    },
    {
     "data": {
      "application/vnd.jupyter.widget-view+json": {
       "model_id": "bebd428defb24a3bac79211d4e2d6bef",
       "version_major": 2,
       "version_minor": 0
      },
      "text/plain": [
       "Button(description='Select Stimulation File:', layout=Layout(width='50%'), style=ButtonStyle())"
      ]
     },
     "metadata": {},
     "output_type": "display_data"
    },
    {
     "data": {
      "application/vnd.jupyter.widget-view+json": {
       "model_id": "fb537496b84d48a193f346ecf6d91c34",
       "version_major": 2,
       "version_minor": 0
      },
      "text/plain": [
       "Text(value='./mosinit.hoc', description='Model :', layout=Layout(width='400px'))"
      ]
     },
     "metadata": {},
     "output_type": "display_data"
    },
    {
     "data": {
      "application/vnd.jupyter.widget-view+json": {
       "model_id": "d369a2a5f7fc4753a9b68daa53633856",
       "version_major": 2,
       "version_minor": 0
      },
      "text/plain": [
       "Button(description='Select Model File:', layout=Layout(width='50%'), style=ButtonStyle())"
      ]
     },
     "metadata": {},
     "output_type": "display_data"
    },
    {
     "data": {
      "application/vnd.jupyter.widget-view+json": {
       "model_id": "1770464147c7482c976060e3cd703acf",
       "version_major": 2,
       "version_minor": 0
      },
      "text/plain": [
       "Text(value='./Stims/times.csv', description='Times :', layout=Layout(width='400px'))"
      ]
     },
     "metadata": {},
     "output_type": "display_data"
    },
    {
     "data": {
      "application/vnd.jupyter.widget-view+json": {
       "model_id": "fa7f4b72498a401a8f8b1b886b648ddb",
       "version_major": 2,
       "version_minor": 0
      },
      "text/plain": [
       "Button(description='Select Times File:', layout=Layout(width='50%'), style=ButtonStyle())"
      ]
     },
     "metadata": {},
     "output_type": "display_data"
    },
    {
     "data": {
      "application/vnd.jupyter.widget-view+json": {
       "model_id": "ccf584e1274b492591827ca35e0c6fea",
       "version_major": 2,
       "version_minor": 0
      },
      "text/plain": [
       "Button(description='Integrate Files', layout=Layout(width='50%'), style=ButtonStyle())"
      ]
     },
     "metadata": {},
     "output_type": "display_data"
    },
    {
     "name": "stdout",
     "output_type": "stream",
     "text": [
      "time file is ./Stims/times.csv\n",
      "Input files successfully integrated\n"
     ]
    }
   ],
   "source": [
    "show_input_file_panel()"
   ]
  },
  {
   "cell_type": "markdown",
   "metadata": {},
   "source": [
    "# Inputting Running Variables\n",
    "- Here is where you will implement your customized inputs.\n",
    "- Inputs include the voltage trace, parameters, and model file. \n",
    "- If you want to use the default inputs, you can skip this step.\n",
    "- If you want to use your own input files, please change the variables below to the paths of your input files. Make sure you test your inputs through Neuron first. After that, just run the cell below.\n"
   ]
  },
  {
   "cell_type": "code",
   "execution_count": 5,
   "metadata": {},
   "outputs": [
    {
     "data": {
      "application/vnd.jupyter.widget-view+json": {
       "model_id": "9e222608768949dbba48330ce632fed7",
       "version_major": 2,
       "version_minor": 0
      },
      "text/plain": [
       "Text(value='5000', description='# Timestep ')"
      ]
     },
     "metadata": {},
     "output_type": "display_data"
    },
    {
     "data": {
      "application/vnd.jupyter.widget-view+json": {
       "model_id": "7704ee2b22a74eaa881d9aeb474a45ec",
       "version_major": 2,
       "version_minor": 0
      },
      "text/plain": [
       "Text(value='14', description='# Parameters')"
      ]
     },
     "metadata": {},
     "output_type": "display_data"
    },
    {
     "data": {
      "application/vnd.jupyter.widget-view+json": {
       "model_id": "be68f118519d472db125a0412ad4dbe9",
       "version_major": 2,
       "version_minor": 0
      },
      "text/plain": [
       "Text(value='1', description='# Models')"
      ]
     },
     "metadata": {},
     "output_type": "display_data"
    },
    {
     "data": {
      "application/vnd.jupyter.widget-view+json": {
       "model_id": "6652c848796c4ef7a2a33133184776ea",
       "version_major": 2,
       "version_minor": 0
      },
      "text/plain": [
       "Text(value='1', description='# Traces ')"
      ]
     },
     "metadata": {},
     "output_type": "display_data"
    },
    {
     "data": {
      "application/vnd.jupyter.widget-view+json": {
       "model_id": "1fc0bb5fd86b4ab882711d3290e1dcb7",
       "version_major": 2,
       "version_minor": 0
      },
      "text/plain": [
       "Text(value='-80', description='V_init ')"
      ]
     },
     "metadata": {},
     "output_type": "display_data"
    },
    {
     "data": {
      "application/vnd.jupyter.widget-view+json": {
       "model_id": "b489201655f44311ba4af92dfb895aad",
       "version_major": 2,
       "version_minor": 0
      },
      "text/plain": [
       "Text(value='1', description='Recalculate ECa? ')"
      ]
     },
     "metadata": {},
     "output_type": "display_data"
    },
    {
     "data": {
      "application/vnd.jupyter.widget-view+json": {
       "model_id": "03b257833e9849e5936370b598696bd5",
       "version_major": 2,
       "version_minor": 0
      },
      "text/plain": [
       "Button(description='Integrate Running Variables', layout=Layout(width='500px'), style=ButtonStyle())"
      ]
     },
     "metadata": {},
     "output_type": "display_data"
    },
    {
     "name": "stdout",
     "output_type": "stream",
     "text": [
      "../Figures/Figure3_passive\n",
      "Input files successfully integrated\n"
     ]
    }
   ],
   "source": [
    "\n",
    "show_run_var_panel()\n",
    "global working\n",
    "print(working)"
   ]
  },
  {
   "cell_type": "markdown",
   "metadata": {},
   "source": [
    "# Select your injection site\n",
    "## First make sure you compiled all your .mod file (nrnivmodl/mknrndll)\n",
    "- Here is where you will select where your point process will be injected at.\n",
    "- This code will extract the morphology of your cell and display all sections in a dropbox.\n",
    "- First, select the section where you would like to inject current.\n",
    "    - For sections where there are more than one type, use the slider to select the right one.\n",
    "- Then, you will need to specificy the location of your injected current on that section.\n",
    "    - Use the slider to select the location from 0 to 1 - 0 being the origin and 1 being the end\n"
   ]
  },
  {
   "cell_type": "code",
   "execution_count": 6,
   "metadata": {
    "scrolled": true
   },
   "outputs": [
    {
     "name": "stdout",
     "output_type": "stream",
     "text": [
      "../Figures/Figure3_passive\n",
      "E:\\Workspace\\Optimization\\SCN2A_BBP\\SCN2AClean\n"
     ]
    },
    {
     "data": {
      "application/vnd.jupyter.widget-view+json": {
       "model_id": "83ac1529cd9b43b49bf7f1ad3bc314ff",
       "version_major": 2,
       "version_minor": 0
      },
      "text/plain": [
       "Button(description='Create Injection Site', style=ButtonStyle())"
      ]
     },
     "metadata": {},
     "output_type": "display_data"
    },
    {
     "data": {
      "application/vnd.jupyter.widget-view+json": {
       "model_id": "577da1c0efd345a488895ac1ff5fcc10",
       "version_major": 2,
       "version_minor": 0
      },
      "text/plain": [
       "FloatSlider(value=0.0, description='Section Location (0-1)', max=1.0, step=0.01)"
      ]
     },
     "metadata": {},
     "output_type": "display_data"
    },
    {
     "data": {
      "application/vnd.jupyter.widget-view+json": {
       "model_id": "8b43cf32d2234a429982a3bf7ea578fc",
       "version_major": 2,
       "version_minor": 0
      },
      "text/plain": [
       "interactive(children=(Dropdown(description='Section:', options=('soma', 'dend', 'apic', 'axon', 'Exts'), value…"
      ]
     },
     "metadata": {},
     "output_type": "display_data"
    },
    {
     "name": "stdout",
     "output_type": "stream",
     "text": [
      "Injection site successfully integrated\n"
     ]
    }
   ],
   "source": [
    "global working\n",
    "print(working)\n",
    "print(os.getcwd())\n",
    "\n",
    "\n",
    "select_inj_site()\n"
   ]
  },
  {
   "cell_type": "markdown",
   "metadata": {},
   "source": [
    "# Running the Translation script\n",
    "Now that you have all the optional setup steps complete, you can now run the actual parsing script. Run the cell below."
   ]
  },
  {
   "cell_type": "code",
   "execution_count": 7,
   "metadata": {
    "scrolled": true
   },
   "outputs": [
    {
     "data": {
      "application/vnd.jupyter.widget-view+json": {
       "model_id": "0a451eaf0a704131bf0643df8cd1902d",
       "version_major": 2,
       "version_minor": 0
      },
      "text/plain": [
       "Button(description='Translate to CUDA Code', style=ButtonStyle())"
      ]
     },
     "metadata": {},
     "output_type": "display_data"
    },
    {
     "name": "stdout",
     "output_type": "stream",
     "text": [
      "E:\\GitHub\\NeuroGPU\\NeuroGPU_Base/scripts/pyscripts/auxilliary.py\n",
      "E:\\GitHub\\NeuroGPU\\NeuroGPU_Base/scripts/pyscripts/cell.py\n",
      "E:\\GitHub\\NeuroGPU\\NeuroGPU_Base/scripts/pyscripts/create_auxilliary_data_3.py\n",
      "E:\\GitHub\\NeuroGPU\\NeuroGPU_Base/scripts/pyscripts/DEAP_helper.py\n",
      "E:\\GitHub\\NeuroGPU\\NeuroGPU_Base/scripts/pyscripts/efel_ext.py\n",
      "E:\\GitHub\\NeuroGPU\\NeuroGPU_Base/scripts/pyscripts/exp_data_utils.py\n",
      "E:\\GitHub\\NeuroGPU\\NeuroGPU_Base/scripts/pyscripts/extractModel.py\n",
      "E:\\GitHub\\NeuroGPU\\NeuroGPU_Base/scripts/pyscripts/filepaths.py\n",
      "E:\\GitHub\\NeuroGPU\\NeuroGPU_Base/scripts/pyscripts/file_io.py\n",
      "E:\\GitHub\\NeuroGPU\\NeuroGPU_Base/scripts/pyscripts/generate_params_for_exploration.py\n",
      "E:\\GitHub\\NeuroGPU\\NeuroGPU_Base/scripts/pyscripts/get_parent_from_neuron.py\n",
      "E:\\GitHub\\NeuroGPU\\NeuroGPU_Base/scripts/pyscripts/injectV.py\n",
      "E:\\GitHub\\NeuroGPU\\NeuroGPU_Base/scripts/pyscripts/kinetic_template.txt\n",
      "E:\\GitHub\\NeuroGPU\\NeuroGPU_Base/scripts/pyscripts/loadBestIndvs.py\n",
      "E:\\GitHub\\NeuroGPU\\NeuroGPU_Base/scripts/pyscripts/make_tree_from_parent_vec.py\n",
      "E:\\GitHub\\NeuroGPU\\NeuroGPU_Base/scripts/pyscripts/membdef.h\n",
      "E:\\GitHub\\NeuroGPU\\NeuroGPU_Base/scripts/pyscripts/NeuroGPUFromPkl.py\n",
      "E:\\GitHub\\NeuroGPU\\NeuroGPU_Base/scripts/pyscripts/neurogpu_evaluator.py\n",
      "E:\\GitHub\\NeuroGPU\\NeuroGPU_Base/scripts/pyscripts/neuron_object.py\n",
      "E:\\GitHub\\NeuroGPU\\NeuroGPU_Base/scripts/pyscripts/nrn_structs.py\n",
      "E:\\GitHub\\NeuroGPU\\NeuroGPU_Base/scripts/pyscripts/optimize_parameters_genetic_alg.py\n",
      "E:\\GitHub\\NeuroGPU\\NeuroGPU_Base/scripts/pyscripts/preformance_figs.py\n",
      "E:\\GitHub\\NeuroGPU\\NeuroGPU_Base/scripts/pyscripts/pref_figs_unix.py\n",
      "E:\\GitHub\\NeuroGPU\\NeuroGPU_Base/scripts/pyscripts/proc_add_param_to_hoc_for_opt.py\n",
      "E:\\GitHub\\NeuroGPU\\NeuroGPU_Base/scripts/pyscripts/resampler.py\n",
      "E:\\GitHub\\NeuroGPU\\NeuroGPU_Base/scripts/pyscripts/stimsite.py\n",
      "E:\\GitHub\\NeuroGPU\\NeuroGPU_Base/scripts/pyscripts/stimV.py\n",
      "E:\\GitHub\\NeuroGPU\\NeuroGPU_Base/scripts/pyscripts/test2.py\n",
      "E:\\GitHub\\NeuroGPU\\NeuroGPU_Base/scripts/pyscripts/test2.pyc\n",
      "NEURON -- VERSION 7.7.2 7.7 (2b7985ba) 2019-06-20\n",
      "Duke, Yale, and the BlueBrain Project -- Copyright 1984-2018\n",
      "See http://neuron.yale.edu/neuron/credits\n",
      "\n",
      "\t1 \n",
      "\t1 \n",
      "Setting temperature to 34.000000 C\n",
      "Setting simulation time step to 0.100000 ms\n",
      "\t1 \n",
      "\t1 \n",
      "\t1 \n",
      "\t1 \n",
      "\t1 \n",
      "\t1 \n",
      "\t1 \n",
      "\t1 \n",
      "\t1 \n",
      "\t1 \n",
      "axon updated\n",
      "\t1 \n",
      "\t1 \n",
      "\t1 \n",
      "**********************\n",
      "cADpyr232_L5_TTPC1_0fb1ca4724[0].soma[0]\n",
      "1 \n",
      "1 \n",
      "1 \n",
      "\t1 \n",
      "axon updated\n",
      "\t1 \n",
      "\t1 \n",
      "\t1 \n",
      "\t0 \n",
      "\t1 \n",
      "\t0 \n",
      "axon updated\n",
      "\t1 \n",
      "\t1 \n",
      "\t1 \n",
      "cADpyr232_L5_TTPC1_0fb1ca4724[0].soma[0]\n",
      "Additional mechanisms from files\n",
      " CaDynamics_E2.mod Ca_HVA.mod Ca_LVAst.mod Ih.mod Im.mod K_Pst.mod K_Tst.mod NaTa_t.mod NaTs2_t.mod Nap_Et2.mod SK_E2.mod SKv3_1.mod branching.mod na12.mod na16.mod\n",
      "Notice: cADpyr232_L5_TTPC1_0fb1ca4724[0].apic[0](0) had previously been connected to parent cADpyr232_L5_TTPC1_0fb1ca4724[0].soma[0](0.5)\n",
      "Notice: cADpyr232_L5_TTPC1_0fb1ca4724[0].dend[73](0) had previously been connected to parent cADpyr232_L5_TTPC1_0fb1ca4724[0].soma[0](0.5)\n",
      "Notice: cADpyr232_L5_TTPC1_0fb1ca4724[0].dend[68](0) had previously been connected to parent cADpyr232_L5_TTPC1_0fb1ca4724[0].soma[0](0.5)\n",
      "Notice: cADpyr232_L5_TTPC1_0fb1ca4724[0].dend[63](0) had previously been connected to parent cADpyr232_L5_TTPC1_0fb1ca4724[0].soma[0](0.5)\n",
      "Notice: cADpyr232_L5_TTPC1_0fb1ca4724[0].dend[60](0) had previously been connected to parent cADpyr232_L5_TTPC1_0fb1ca4724[0].soma[0](0.5)\n",
      "Notice: cADpyr232_L5_TTPC1_0fb1ca4724[0].dend[57](0) had previously been connected to parent cADpyr232_L5_TTPC1_0fb1ca4724[0].soma[0](0.5)\n",
      "Notice: cADpyr232_L5_TTPC1_0fb1ca4724[0].dend[32](0) had previously been connected to parent cADpyr232_L5_TTPC1_0fb1ca4724[0].soma[0](0.5)\n",
      "Notice: cADpyr232_L5_TTPC1_0fb1ca4724[0].dend[17](0) had previously been connected to parent cADpyr232_L5_TTPC1_0fb1ca4724[0].soma[0](0.5)\n",
      "Notice: cADpyr232_L5_TTPC1_0fb1ca4724[0].dend[10](0) had previously been connected to parent cADpyr232_L5_TTPC1_0fb1ca4724[0].soma[0](0.5)\n",
      "Notice: cADpyr232_L5_TTPC1_0fb1ca4724[0].dend[3](0) had previously been connected to parent cADpyr232_L5_TTPC1_0fb1ca4724[0].soma[0](0.5)\n",
      "Notice: cADpyr232_L5_TTPC1_0fb1ca4724[0].dend[0](0) had previously been connected to parent cADpyr232_L5_TTPC1_0fb1ca4724[0].soma[0](0.5)\n",
      "Notice: cADpyr232_L5_TTPC1_0fb1ca4724[0].axon[0](0) had previously been connected to parent cADpyr232_L5_TTPC1_0fb1ca4724[0].soma[0](1)\n",
      "Notice: cADpyr232_L5_TTPC1_0fb1ca4724[0].dend[100](0) had previously been connected to parent cADpyr232_L5_TTPC1_0fb1ca4724[0].dend[93](1)\n",
      "Notice: cADpyr232_L5_TTPC1_0fb1ca4724[0].dend[99](0) had previously been connected to parent cADpyr232_L5_TTPC1_0fb1ca4724[0].dend[93](1)\n",
      "Notice: cADpyr232_L5_TTPC1_0fb1ca4724[0].dend[94](0) had previously been connected to parent cADpyr232_L5_TTPC1_0fb1ca4724[0].dend[93](1)\n",
      "\t1 \n",
      "\t1 \n",
      "Setting temperature to 34.000000 C\n",
      "Setting simulation time step to 0.100000 ms\n",
      "\t1 \n",
      "\t1 \n",
      "\t1 \n",
      "\t1 \n",
      "\t1 \n",
      "\t1 \n",
      "\t1 \n",
      "\t1 \n",
      "\t1 \n",
      "\t1 \n",
      "axon updated\n",
      "\t1 \n",
      "\t1 \n",
      "\t1 \n",
      "**********************\n",
      "cADpyr232_L5_TTPC1_0fb1ca4724[0].soma[0]\n",
      "1 \n",
      "1 \n",
      "1 \n",
      "\t1 \n",
      "axon updated\n",
      "\t1 \n",
      "\t1 \n",
      "\t1 \n",
      "parsing Ca_HVA.mod\n",
      "parsing Ca_LVAst.mod\n",
      "parsing CaDynamics_E2.mod\n",
      "parsing Ih.mod\n",
      "parsing Im.mod\n",
      "parsing K_Pst.mod\n",
      "parsing K_Tst.mod\n",
      "parsing na12.mod\n",
      "parsing na16.mod\n",
      "parsing Nap_Et2.mod\n",
      "parsing NaTa_t.mod\n",
      "parsing NaTs2_t.mod\n",
      "parsing passive.mod2\n",
      "parsing SK_E2.mod\n",
      "parsing SKv3_1.mod\n",
      "parsing Ca_HVA\n",
      "Solve method not cnexp/sparse! in Ca_HVA\n",
      "parsing Ca_LVAst\n",
      "Solve method not cnexp/sparse! in Ca_LVAst\n",
      "parsing CaDynamics_E2\n",
      "Solve method not cnexp/sparse! in CaDynamics_E2\n",
      "parsing Ih\n",
      "Solve method not cnexp/sparse! in Ih\n",
      "parsing Im\n",
      "Solve method not cnexp/sparse! in Im\n",
      "parsing K_Pst\n",
      "Solve method not cnexp/sparse! in K_Pst\n",
      "parsing K_Tst\n",
      "Solve method not cnexp/sparse! in K_Tst\n",
      "parsing na12\n",
      "Solve method not cnexp/sparse! in na12\n",
      "parsing na16\n",
      "Solve method not cnexp/sparse! in na16\n",
      "parsing Nap_Et2\n",
      "Solve method not cnexp/sparse! in Nap_Et2\n",
      "parsing NaTa_t\n",
      "Solve method not cnexp/sparse! in NaTa_t\n",
      "parsing NaTs2_t\n",
      "Solve method not cnexp/sparse! in NaTs2_t\n",
      "parsing pas\n",
      "no solve in breakpoint\n",
      "parsing SK_E2\n",
      "Solve method not cnexp/sparse! in SK_E2\n",
      "parsing SKv3_1\n",
      "Solve method not cnexp/sparse! in SKv3_1\n",
      "axon updated\n",
      "./Data/mosinit.pkl\n",
      "in procadd\n",
      "1\n",
      "2\n",
      "3\n",
      "4\n",
      "5\n",
      "6\n",
      "7\n",
      "8\n",
      "9\n",
      "10\n",
      "11\n",
      "12\n",
      "13\n",
      "14\n",
      "15\n",
      "running runmodel_param\n",
      "\t1 \n",
      "\t1 \n",
      "2,539\n",
      "3,538\n",
      "4,537\n",
      "5,536\n",
      "6,535\n",
      "7,534\n",
      "8,533\n",
      "9,532\n",
      "10,531\n",
      "11,530\n",
      "12,529\n",
      "13,528\n",
      "14,527\n",
      "15,526\n",
      "16,525\n",
      "17,524\n",
      "18,523\n",
      "19,522\n",
      "20,521\n",
      "21,520\n",
      "22,519\n",
      "23,518\n",
      "24,517\n",
      "25,516\n",
      "26,515\n",
      "27,514\n",
      "28,513\n",
      "29,512\n",
      "30,511\n",
      "31,510\n",
      "32,509\n",
      "33,508\n",
      "34,507\n",
      "35,506\n",
      "36,505\n",
      "37,504\n",
      "38,503\n",
      "39,502\n",
      "40,501\n",
      "41,500\n",
      "42,499\n",
      "43,498\n",
      "44,497\n",
      "45,496\n",
      "46,495\n",
      "47,494\n",
      "48,493\n",
      "49,492\n",
      "50,491\n",
      "51,490\n",
      "52,489\n",
      "53,488\n",
      "54,487\n",
      "55,486\n",
      "56,485\n",
      "57,484\n",
      "58,483\n",
      "59,482\n",
      "60,481\n",
      "61,480\n",
      "62,479\n",
      "63,478\n",
      "64,477\n",
      "65,476\n",
      "66,475\n",
      "67,474\n",
      "68,473\n",
      "69,472\n",
      "70,471\n",
      "71,470\n",
      "72,469\n",
      "73,468\n",
      "74,467\n",
      "75,466\n",
      "76,465\n",
      "77,464\n",
      "78,463\n",
      "79,462\n",
      "80,461\n",
      "81,460\n",
      "82,459\n",
      "83,458\n",
      "84,457\n",
      "85,456\n",
      "86,455\n",
      "87,454\n",
      "88,453\n",
      "89,452\n",
      "90,451\n",
      "91,450\n",
      "92,449\n",
      "93,448\n",
      "94,447\n",
      "95,446\n",
      "96,445\n",
      "97,444\n",
      "98,443\n",
      "99,442\n",
      "100,441\n",
      "101,440\n",
      "102,439\n",
      "103,438\n",
      "104,437\n",
      "105,436\n",
      "106,435\n",
      "107,434\n",
      "108,433\n",
      "109,432\n",
      "110,431\n",
      "111,430\n",
      "112,429\n",
      "113,428\n",
      "114,427\n",
      "115,426\n",
      "116,425\n",
      "117,424\n",
      "118,423\n",
      "119,422\n",
      "120,421\n",
      "121,420\n",
      "122,419\n",
      "123,418\n",
      "124,417\n",
      "125,416\n",
      "126,415\n",
      "127,414\n",
      "128,413\n",
      "129,412\n",
      "130,411\n",
      "131,410\n",
      "132,409\n",
      "133,408\n",
      "134,407\n",
      "135,406\n",
      "136,405\n",
      "137,404\n",
      "138,403\n",
      "139,402\n",
      "140,401\n",
      "141,400\n",
      "142,399\n",
      "143,398\n",
      "144,397\n",
      "145,396\n",
      "146,395\n",
      "147,394\n",
      "148,393\n",
      "149,392\n",
      "150,391\n",
      "151,390\n",
      "152,389\n",
      "153,388\n",
      "154,387\n",
      "155,386\n",
      "156,385\n",
      "157,384\n",
      "158,383\n",
      "159,382\n",
      "160,381\n",
      "161,380\n",
      "162,379\n",
      "163,378\n",
      "164,377\n",
      "165,376\n",
      "166,375\n",
      "167,374\n",
      "168,373\n",
      "169,372\n",
      "170,371\n",
      "171,370\n",
      "172,369\n",
      "173,368\n",
      "174,367\n",
      "175,366\n",
      "176,365\n",
      "177,364\n",
      "178,363\n",
      "179,362\n",
      "180,361\n",
      "181,360\n",
      "182,359\n",
      "183,358\n",
      "184,357\n",
      "185,356\n",
      "186,355\n",
      "187,354\n",
      "188,353\n",
      "189,352\n",
      "190,351\n",
      "191,350\n",
      "192,349\n",
      "193,348\n",
      "194,347\n",
      "195,346\n",
      "196,345\n",
      "197,344\n",
      "198,343\n",
      "199,342\n",
      "200,341\n",
      "201,340\n",
      "202,339\n",
      "203,338\n",
      "204,337\n",
      "205,336\n",
      "206,335\n",
      "207,334\n",
      "208,333\n",
      "209,332\n",
      "210,331\n",
      "211,330\n",
      "212,329\n",
      "213,328\n",
      "214,327\n",
      "215,326\n",
      "216,325\n",
      "217,324\n",
      "218,323\n",
      "219,322\n",
      "220,321\n",
      "221,320\n",
      "222,319\n",
      "223,318\n",
      "224,317\n",
      "225,316\n",
      "226,315\n",
      "227,314\n",
      "228,313\n",
      "229,312\n",
      "230,311\n",
      "231,310\n",
      "232,309\n",
      "233,308\n",
      "234,307\n",
      "235,306\n",
      "236,305\n",
      "237,304\n",
      "238,303\n",
      "239,302\n",
      "240,301\n",
      "241,300\n",
      "242,299\n",
      "243,298\n",
      "244,297\n",
      "245,296\n",
      "246,295\n",
      "247,294\n",
      "248,293\n",
      "249,292\n",
      "250,291\n",
      "251,290\n",
      "252,289\n",
      "253,288\n",
      "254,287\n",
      "255,286\n",
      "256,285\n",
      "257,284\n",
      "258,283\n",
      "259,282\n",
      "260,281\n",
      "261,280\n",
      "262,279\n",
      "263,278\n",
      "264,277\n",
      "265,276\n",
      "266,275\n",
      "267,274\n",
      "268,273\n",
      "269,272\n",
      "270,271\n",
      "271,270\n",
      "272,269\n",
      "273,268\n",
      "274,267\n",
      "275,266\n",
      "276,265\n",
      "277,264\n",
      "278,263\n",
      "279,262\n",
      "280,261\n",
      "281,260\n",
      "282,259\n",
      "283,258\n",
      "284,257\n",
      "285,256\n",
      "286,255\n",
      "287,254\n",
      "288,253\n",
      "289,252\n",
      "290,251\n",
      "291,250\n",
      "292,249\n",
      "293,248\n",
      "294,247\n",
      "295,246\n",
      "296,245\n",
      "297,244\n",
      "298,243\n",
      "299,242\n",
      "300,241\n",
      "301,240\n",
      "302,239\n",
      "303,238\n",
      "304,237\n",
      "305,236\n",
      "306,235\n",
      "307,234\n",
      "308,233\n",
      "309,232\n",
      "310,231\n",
      "311,230\n",
      "312,229\n",
      "313,228\n",
      "314,227\n",
      "315,226\n",
      "316,225\n",
      "317,224\n",
      "318,223\n",
      "319,222\n",
      "320,221\n",
      "321,220\n",
      "322,219\n",
      "323,218\n",
      "324,217\n",
      "325,216\n",
      "326,215\n",
      "327,214\n",
      "328,213\n",
      "329,212\n",
      "330,211\n",
      "331,210\n",
      "332,209\n",
      "333,208\n",
      "334,207\n",
      "335,206\n",
      "336,205\n",
      "337,204\n",
      "338,203\n",
      "339,202\n",
      "340,201\n",
      "341,200\n",
      "342,199\n",
      "343,198\n",
      "344,197\n",
      "345,196\n",
      "346,195\n",
      "347,194\n",
      "348,193\n",
      "349,192\n",
      "350,191\n",
      "351,190\n",
      "352,189\n",
      "353,188\n",
      "354,187\n",
      "355,186\n",
      "356,185\n",
      "357,184\n",
      "358,183\n",
      "359,182\n",
      "360,181\n",
      "361,180\n",
      "362,179\n",
      "363,178\n",
      "364,177\n",
      "365,176\n",
      "366,175\n",
      "367,174\n",
      "368,173\n",
      "369,172\n",
      "370,171\n",
      "371,170\n",
      "372,169\n",
      "373,168\n",
      "374,167\n",
      "375,166\n",
      "376,165\n",
      "377,164\n",
      "378,163\n",
      "379,162\n",
      "380,161\n",
      "381,160\n",
      "382,159\n",
      "383,158\n",
      "384,157\n",
      "385,156\n",
      "386,155\n",
      "387,154\n",
      "388,153\n",
      "389,152\n",
      "390,151\n",
      "391,150\n",
      "392,149\n",
      "393,148\n",
      "394,147\n",
      "395,146\n",
      "396,145\n",
      "397,144\n",
      "398,143\n",
      "399,142\n",
      "400,141\n",
      "401,140\n",
      "402,139\n",
      "403,138\n",
      "404,137\n",
      "405,136\n",
      "406,135\n",
      "407,134\n",
      "408,133\n",
      "409,132\n",
      "410,131\n",
      "411,130\n",
      "412,129\n",
      "413,128\n",
      "414,127\n",
      "415,126\n",
      "416,125\n",
      "417,124\n",
      "418,123\n",
      "419,122\n",
      "420,121\n",
      "421,120\n",
      "422,119\n",
      "423,118\n",
      "424,117\n",
      "425,116\n",
      "426,115\n",
      "427,114\n",
      "428,113\n",
      "429,112\n",
      "430,111\n",
      "431,110\n",
      "432,109\n",
      "433,108\n",
      "434,107\n",
      "435,106\n",
      "436,105\n",
      "437,104\n",
      "438,103\n",
      "439,102\n",
      "440,101\n",
      "441,100\n",
      "442,99\n",
      "443,98\n",
      "444,97\n",
      "445,96\n",
      "446,95\n",
      "447,94\n",
      "448,93\n",
      "449,92\n",
      "450,91\n",
      "451,90\n",
      "452,89\n",
      "453,88\n",
      "454,87\n",
      "455,86\n",
      "456,85\n",
      "457,84\n",
      "458,83\n",
      "459,82\n",
      "460,81\n",
      "461,80\n",
      "462,79\n",
      "463,78\n",
      "464,77\n",
      "465,76\n",
      "466,75\n",
      "467,74\n",
      "468,73\n",
      "469,72\n",
      "470,71\n",
      "471,70\n",
      "472,69\n",
      "473,68\n",
      "474,67\n",
      "475,66\n",
      "476,65\n",
      "477,64\n",
      "478,63\n",
      "479,62\n",
      "480,61\n",
      "481,60\n",
      "482,59\n",
      "483,58\n",
      "484,57\n",
      "485,56\n",
      "486,55\n",
      "487,54\n",
      "488,53\n",
      "489,52\n",
      "490,51\n",
      "491,50\n",
      "492,49\n",
      "493,48\n",
      "494,47\n",
      "495,46\n",
      "496,45\n",
      "497,44\n",
      "498,43\n",
      "499,42\n",
      "500,41\n",
      "501,40\n",
      "502,39\n",
      "503,38\n",
      "504,37\n",
      "505,36\n",
      "506,35\n",
      "507,34\n",
      "508,33\n",
      "509,32\n",
      "510,31\n",
      "511,30\n",
      "512,29\n",
      "513,28\n",
      "514,27\n",
      "515,26\n",
      "516,25\n",
      "517,24\n",
      "518,23\n",
      "519,22\n",
      "520,21\n",
      "521,20\n",
      "522,19\n",
      "523,18\n",
      "524,17\n",
      "525,16\n",
      "526,15\n",
      "527,14\n",
      "528,13\n",
      "529,12\n",
      "530,11\n",
      "531,10\n",
      "532,9\n",
      "533,8\n",
      "534,7\n",
      "535,6\n",
      "536,5\n",
      "537,4\n",
      "538,3\n",
      "539,2\n",
      "540,1\n",
      "Finished writing AllModels.h,cpp,cu,cuh\n",
      "we have a non WARPSIZE multiple number of segs\n",
      "Notice: cADpyr232_L5_TTPC1_0fb1ca4724[0].apic[0](0) had previously been connected to parent cADpyr232_L5_TTPC1_0fb1ca4724[0].soma[0](0.5)\n",
      "Notice: cADpyr232_L5_TTPC1_0fb1ca4724[0].dend[73](0) had previously been connected to parent cADpyr232_L5_TTPC1_0fb1ca4724[0].soma[0](0.5)\n",
      "Notice: cADpyr232_L5_TTPC1_0fb1ca4724[0].dend[68](0) had previously been connected to parent cADpyr232_L5_TTPC1_0fb1ca4724[0].soma[0](0.5)\n",
      "Notice: cADpyr232_L5_TTPC1_0fb1ca4724[0].dend[63](0) had previously been connected to parent cADpyr232_L5_TTPC1_0fb1ca4724[0].soma[0](0.5)\n",
      "Notice: cADpyr232_L5_TTPC1_0fb1ca4724[0].dend[60](0) had previously been connected to parent cADpyr232_L5_TTPC1_0fb1ca4724[0].soma[0](0.5)\n",
      "Notice: cADpyr232_L5_TTPC1_0fb1ca4724[0].dend[57](0) had previously been connected to parent cADpyr232_L5_TTPC1_0fb1ca4724[0].soma[0](0.5)\n",
      "Notice: cADpyr232_L5_TTPC1_0fb1ca4724[0].dend[32](0) had previously been connected to parent cADpyr232_L5_TTPC1_0fb1ca4724[0].soma[0](0.5)\n",
      "Notice: cADpyr232_L5_TTPC1_0fb1ca4724[0].dend[17](0) had previously been connected to parent cADpyr232_L5_TTPC1_0fb1ca4724[0].soma[0](0.5)\n",
      "Notice: cADpyr232_L5_TTPC1_0fb1ca4724[0].dend[10](0) had previously been connected to parent cADpyr232_L5_TTPC1_0fb1ca4724[0].soma[0](0.5)\n",
      "Notice: cADpyr232_L5_TTPC1_0fb1ca4724[0].dend[3](0) had previously been connected to parent cADpyr232_L5_TTPC1_0fb1ca4724[0].soma[0](0.5)\n",
      "Notice: cADpyr232_L5_TTPC1_0fb1ca4724[0].dend[0](0) had previously been connected to parent cADpyr232_L5_TTPC1_0fb1ca4724[0].soma[0](0.5)\n",
      "Notice: cADpyr232_L5_TTPC1_0fb1ca4724[0].axon[0](0) had previously been connected to parent cADpyr232_L5_TTPC1_0fb1ca4724[0].soma[0](1)\n",
      "Notice: cADpyr232_L5_TTPC1_0fb1ca4724[0].dend[100](0) had previously been connected to parent cADpyr232_L5_TTPC1_0fb1ca4724[0].dend[93](1)\n",
      "Notice: cADpyr232_L5_TTPC1_0fb1ca4724[0].dend[99](0) had previously been connected to parent cADpyr232_L5_TTPC1_0fb1ca4724[0].dend[93](1)\n",
      "Notice: cADpyr232_L5_TTPC1_0fb1ca4724[0].dend[94](0) had previously been connected to parent cADpyr232_L5_TTPC1_0fb1ca4724[0].dend[93](1)\n"
     ]
    }
   ],
   "source": [
    "\n",
    "run_trans_script_gui()\n"
   ]
  },
  {
   "cell_type": "markdown",
   "metadata": {},
   "source": [
    "# Notes\n",
    "if translating the code failed please run extractmodel.py from your working directory. If that fails please submit a new \n",
    "<a href=\"https://github.com/roybens/NeuroGPU/issues/new/ \">Issue</a> or contact bens.roy@gmail.com\n"
   ]
  },
  {
   "cell_type": "markdown",
   "metadata": {},
   "source": [
    "# Ported Model\n",
    "Now you should find the ported model in the NeuroGPU folder named at extractModel.py "
   ]
  },
  {
   "cell_type": "markdown",
   "metadata": {},
   "source": []
  }
 ],
 "metadata": {
  "kernelspec": {
   "display_name": "Python 3",
   "language": "python",
   "name": "python3"
  },
  "language_info": {
   "codemirror_mode": {
    "name": "ipython",
    "version": 3
   },
   "file_extension": ".py",
   "mimetype": "text/x-python",
   "name": "python",
   "nbconvert_exporter": "python",
   "pygments_lexer": "ipython3",
   "version": "3.7.3"
  }
 },
 "nbformat": 4,
 "nbformat_minor": 2
}
