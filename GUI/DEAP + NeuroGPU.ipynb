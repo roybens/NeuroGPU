{
 "cells": [
  {
   "cell_type": "markdown",
   "metadata": {},
   "source": [
    "# Simple evelutionary aglorithm\n",
    "We took the onemax problem from the DEAP github and adopted it to use neuroGPU for evelotionary algorithm. \n",
    "\n",
    "\n",
    "## Imports\n",
    "We first get the required modules for our evolution.\n",
    "\n",
    "- `random` gives us a way to generate random bits;\n",
    "- `base` gives us access to the Toolbox and base Fitness;\n",
    "- `creator` allows us to create our types;\n",
    "- `tools` grants us access to the operators bank;\n",
    "- `algorithms` enables us some ready generic evolutionary loops."
   ]
  },
  {
   "cell_type": "code",
   "execution_count": 1,
   "metadata": {},
   "outputs": [
    {
     "name": "stdout",
     "output_type": "stream",
     "text": [
      "\t1 \n",
      "\t1 \n",
      "Setting temperature to 34.000000 C\n",
      "Setting simulation time step to 0.025000 ms\n",
      "\t1 \n",
      "\t1 \n",
      "\t1 \n",
      "\t1 \n",
      "\t1 \n",
      "\t1 \n",
      "\t1 \n",
      "\t1 \n",
      "\t1 \n",
      "\t1 \n",
      "\t1 \n",
      "\t1 \n",
      "**********************\n",
      "cADpyr232_L5_TTPC1_0fb1ca4724[0].soma[0]\n",
      "1 \n",
      "24 \n",
      "1 \n",
      "\t1 \n",
      "\t1 \n",
      "\t1 \n",
      "\tMatrix[3] \n"
     ]
    }
   ],
   "source": [
    "from DEAP_helper import *\n",
    "from new_score_functions_normalizer_ver import *\n",
    "import random\n",
    "import numpy as np\n",
    "from deap import base, creator, tools, algorithms\n",
    "# init_nrngpu()\n",
    "origs = [3.137968,0.983955,0.089259]\n",
    "mins = [0,0,0]\n",
    "maxs = [5,5,5]\n",
    "volts = getVolts(origs)"
   ]
  },
  {
   "cell_type": "markdown",
   "metadata": {},
   "source": [
    "## Type Creation\n",
    "First step with DEAP is to create the required types. Usually the types created are the fitness and the individual. For the OneMax problem, we want to have a solution with as many ones as possible. Thus we need a maximizing fitness and a individual that is a sorted container, we'll choose the standard `list`.\n",
    "\n",
    "Type creation is done by calling the function `create` in the creator module. This function takes two mandatory arguments and additional optional arguments. The first argument is the actual name of the type that we want to create. The second argument is the base classe that the new type created should inherit from. Finally, the optional arguments are members to add to the new type."
   ]
  },
  {
   "cell_type": "code",
   "execution_count": 2,
   "metadata": {
    "tags": []
   },
   "outputs": [],
   "source": [
    "creator.create(\"FitnessMax\", base.Fitness, weights=(1.0,))\n",
    "creator.create(\"Individual\", list, fitness=creator.FitnessMax)"
   ]
  },
  {
   "cell_type": "markdown",
   "metadata": {},
   "source": [
    "The first line creates a maximizing fitness by replacing, in the base type Fitness, the pure virtual weights attribute by (1.0,) that means to maximize a single objective fitness. The second line creates an Individual class that inherits the properties of list and has a fitness attribute of the type FitnessMax that was just created.\n",
    "\n",
    "Single objective is considered by DEAP the same way a multi objective function would but with a single value. The weights (as well as the returned value from the evaluation) are **always required** to be iterable.\n",
    "\n",
    "The created classes are made available in the creator module. We can instantiate directly objects of the created class like follow. This step is not required in an algorithm, the instatiation will be automated later."
   ]
  },
  {
   "cell_type": "code",
   "execution_count": 3,
   "metadata": {
    "tags": []
   },
   "outputs": [
    {
     "name": "stdout",
     "output_type": "stream",
     "text": [
      "[0, 0, 0]\n",
      "<class 'deap.creator.Individual'>\n",
      "<class 'deap.creator.FitnessMax'>\n"
     ]
    }
   ],
   "source": [
    "ind = creator.Individual([0,0,0])\n",
    "\n",
    "print(ind)\n",
    "print(type(ind))\n",
    "print(type(ind.fitness))"
   ]
  },
  {
   "cell_type": "markdown",
   "metadata": {},
   "source": [
    "## Toolbox\n",
    "The toolbox is intended to store functions with their arguments under standard aliases for uses in algorithms. Functions are registered by a function call with two mandatory arguments, the alias to give to the function and the function it will be associate with. Any additional argument will be given as argument when the alias is called."
   ]
  },
  {
   "cell_type": "code",
   "execution_count": 10,
   "metadata": {},
   "outputs": [],
   "source": [
    "def initIndv( mins, maxs):\n",
    "    \"\"\"\n",
    "    intialize a random vector in domain defined by mins and maxs\n",
    "    \"\"\"\n",
    "    res = []\n",
    "    for min1,max1 in zip(mins, maxs):\n",
    "        res.append( np.random.uniform(min1,max1))\n",
    "    return creator.Individual(res)"
   ]
  },
  {
   "cell_type": "code",
   "execution_count": 11,
   "metadata": {
    "tags": []
   },
   "outputs": [],
   "source": [
    "toolbox = base.Toolbox()\n",
    "toolbox.register(\"attr_bool\", random.randint, 0, 1)\n",
    "\n",
    "toolbox.register(\"individual\", initIndv,mins,maxs)\n",
    "toolbox.register(\"population\", tools.initRepeat, list, toolbox.individual)"
   ]
  },
  {
   "cell_type": "markdown",
   "metadata": {},
   "source": [
    "In the last block of code we created a toolbox object and registered three functions. This first one, `attr_bool`, calls randint from the random module with arguments (0, 1) to create an integer in the interval $[0, 1]$. The second function, `individual`, when called, will use the initRepeat function made available in the tools module to fill an `Individual` class with what is produced by 100 calls to the previously defined `attr_bool` function. The same thing is done for the `population` function.\n",
    "\n",
    "For example, calling every function individually shows how it proceeds."
   ]
  },
  {
   "cell_type": "code",
   "execution_count": 12,
   "metadata": {
    "tags": []
   },
   "outputs": [
    {
     "name": "stdout",
     "output_type": "stream",
     "text": [
      "bit is of type <class 'int'> and has value\n",
      "1\n",
      "ind is of type <class 'deap.creator.Individual'> and contains 3 bits\n",
      "[2.2434264164629694, 3.4292158263005357, 0.6300380762118607]\n",
      "pop is of type <class 'list'> and contains 1024 individuals\n",
      "first three individuals:  [[4.506417465074426, 0.028966328880247194, 3.828765940882965], [4.372397982365034, 1.0403199662967073, 3.6905885283921753], [2.2487649941932846, 2.1371028629018705, 1.247131846398939]]\n"
     ]
    }
   ],
   "source": [
    "bit = toolbox.attr_bool()\n",
    "ind = toolbox.individual()\n",
    "pop = toolbox.population(n=1024)\n",
    "\n",
    "print(\"bit is of type %s and has value\\n%s\" % (type(bit), bit))\n",
    "print(\"ind is of type %s and contains %d bits\\n%s\" % (type(ind), len(ind), ind))\n",
    "print(\"pop is of type %s and contains %d individuals\" % (type(pop), len(pop)))\n",
    "print(\"first three individuals: \", pop[0:3])"
   ]
  },
  {
   "cell_type": "markdown",
   "metadata": {},
   "source": [
    "## Evaluation Function\n",
    "The evaluation function is pretty simple for the OneMax problem, we need to count the number of ones in an individual. We recall here that the returned value must be an iterable of length equal to the number of objectives (weights)."
   ]
  },
  {
   "cell_type": "code",
   "execution_count": 13,
   "metadata": {
    "tags": []
   },
   "outputs": [],
   "source": [
    "def evalOneMax(individual):\n",
    "    \n",
    "    return sum(individual),"
   ]
  },
  {
   "cell_type": "markdown",
   "metadata": {},
   "source": [
    "## Genetic Operators\n",
    "Registering the operators and their default arguments in the toolbox is done as follow."
   ]
  },
  {
   "cell_type": "code",
   "execution_count": 14,
   "metadata": {
    "tags": []
   },
   "outputs": [],
   "source": [
    "toolbox.register(\"evaluate\", evalOneMax)\n",
    "toolbox.register(\"mate\", tools.cxTwoPoint)\n",
    "toolbox.register(\"mutate\", tools.mutFlipBit, indpb=0.10)\n",
    "toolbox.register(\"select\", tools.selTournament, tournsize=3)"
   ]
  },
  {
   "cell_type": "markdown",
   "metadata": {},
   "source": [
    "The evaluation is given the alias `evaluate`. Having a single argument being the individual to evaluate we don’t need to fix any, the individual will be given later in the algorithm. The two points crossover function is registered the same way under the alias `mate`. The mutation, for its part, needs an argument to be fixed (the independent probability of each attribute to be mutated `indpb`). In the algorithms the `mutate()` function is called with the signature `toolbox.mutate(mutant)`. This is the most convenient way because each mutation takes a different number of arguments, having those arguments fixed in the toolbox leave open most of the possibilities to change the mutation (crossover, selection, or evaluation) operator later in your researches. Finally, the selection operator is registered under the name `select` and the size of the tournament set to 3.\n",
    "\n",
    "We can for example mutate an individual and expect 10% of its attributes to be flipped."
   ]
  },
  {
   "cell_type": "code",
   "execution_count": 15,
   "metadata": {
    "tags": []
   },
   "outputs": [
    {
     "name": "stdout",
     "output_type": "stream",
     "text": [
      "[1.3325342683938217, 2.240184239820283, 3.6949689588849237]\n",
      "[1.3325342683938217, 2.240184239820283, 3.6949689588849237]\n"
     ]
    }
   ],
   "source": [
    "ind = toolbox.individual()\n",
    "print(ind)\n",
    "toolbox.mutate(ind)\n",
    "print(ind)"
   ]
  },
  {
   "cell_type": "markdown",
   "metadata": {},
   "source": [
    "The operators execute their behaviour on the individuals in place, meaning that if the individual is not copied before modified the old individual is lost. Copying an individual is done with the `clone` function available in every toolbox."
   ]
  },
  {
   "cell_type": "code",
   "execution_count": 16,
   "metadata": {
    "tags": []
   },
   "outputs": [
    {
     "name": "stdout",
     "output_type": "stream",
     "text": [
      "False\n",
      "True\n"
     ]
    }
   ],
   "source": [
    "mutant = toolbox.clone(ind)\n",
    "print(mutant is ind)\n",
    "print(mutant == ind)"
   ]
  },
  {
   "cell_type": "markdown",
   "metadata": {},
   "source": [
    "## Evolving the Population\n",
    "The main program shall be defined in a main function. All previous declarations are put in the global scope of the module to make created objects available for further use in other user experiments.\n",
    "\n",
    "The main program is very simple. It consists of generating a population, and giving it to the algorithm for it to evolve a solution. Here we will employ some helpful introspection tools such as Statistics and a Hall of Fame. The statistics are computed using `numpy` functions on the population, and the hall of fame keeps track of the best individuals that ever appeared during the evolution. The algorithm take as arguments, among other, the population and the toolbox. Once the evolution is finished the population contains the individuals from the last generation."
   ]
  },
  {
   "cell_type": "code",
   "execution_count": 18,
   "metadata": {
    "tags": []
   },
   "outputs": [],
   "source": [
    "def main():\n",
    "    import numpy\n",
    "\n",
    "    pop = toolbox.population(n=50)\n",
    "\n",
    "    print(pop)\n",
    "    hof = tools.HallOfFame(1)\n",
    "    stats = tools.Statistics(lambda ind: ind.fitness.values)\n",
    "    stats.register(\"avg\", numpy.mean)\n",
    "    stats.register(\"min\", numpy.min)\n",
    "    stats.register(\"max\", numpy.max)\n",
    "\n",
    "    pop, logbook = algorithms.eaSimple(pop, toolbox, cxpb=0.5, mutpb=0.2, ngen=10, stats=stats, halloffame=hof, verbose=True)\n",
    "\n",
    "    return pop, logbook, hof"
   ]
  },
  {
   "cell_type": "markdown",
   "metadata": {},
   "source": [
    "Next, we protect our call to the main function and launch the evolution, the verbose argument tell to output the stats on every generations. We can print and plot the data returned. "
   ]
  },
  {
   "cell_type": "code",
   "execution_count": 19,
   "metadata": {
    "tags": []
   },
   "outputs": [
    {
     "name": "stdout",
     "output_type": "stream",
     "text": [
      "[[0.3965300871227495, 3.9505662383314206, 3.955714942606992], [2.1260838162218096, 3.021602342382508, 2.1530086467043876], [2.968263398893921, 2.6992236999585195, 2.585957337811729], [3.4873697394920695, 4.607022675665675, 3.7345872017632886], [2.9656667183256054, 4.245822149316992, 4.413712753741862], [1.231520737530497, 4.385831904570409, 2.3418749355458166], [3.0753602903568664, 3.621885796709731, 3.5153133953662152], [2.0537845910779726, 0.6063921898601726, 2.3102586872293163], [1.488924821586957, 1.4417170418121823, 2.382005003166878], [4.288540985015661, 3.530224361792304, 2.9857678145564366], [4.212100163501541, 2.594154765827985, 2.8035729421415785], [0.8074450134682082, 3.8614292699624055, 0.8708463397018551], [3.472462003252745, 4.049646395756742, 0.054386599846548145], [0.323876708817496, 2.082423272377401, 4.448142051164523], [2.797598005253285, 1.4505188179575175, 1.7970183632804904], [1.8710530525381863, 2.271874178366568, 0.7084723749453337], [0.061562298839212826, 0.5991971636663324, 0.2063986620535202], [3.2442134387719026, 1.0036830793197908, 3.1525503405940114], [2.9758127862399926, 0.06435140773257852, 3.731407691496979], [0.34996609867573303, 0.4466498861781032, 2.592795761319599], [3.3440473085073825, 2.8854895426639575, 0.3894047595442435], [0.4615733684976048, 0.5088873325600657, 3.083744774729232], [2.8718430920106863, 2.2464140240086277, 3.632640340553296], [1.0734439866236505, 1.4915381498240377, 1.6275659364432964], [0.08361000025325527, 2.092265779676242, 0.9900952399702645], [2.2041759900089213, 1.7549500581644524, 2.5028596946731767], [0.5941595957339257, 2.5856491862976005, 1.681508074237024], [0.4372631503579527, 1.723865266130683, 1.8114958458353414], [1.1394845176000878, 3.5888749288852346, 3.4377809349460597], [4.693485496716311, 2.1301363068576036, 3.9712229331322053], [0.5636560385563466, 4.854738768802792, 0.021620885206562468], [3.312109918916314, 2.7412570608516185, 1.2560506277409251], [0.17057894807475882, 3.997043608922834, 0.980895269020643], [0.2828693181393599, 3.5610839599489315, 4.224659771746172], [4.4592064848587825, 2.0984766587948975, 2.5515716508065625], [4.506758406342885, 4.177801952481639, 3.6100619821846722], [0.6013633424597903, 4.661025484054458, 4.607710071668752], [1.6471581644825743, 3.265259437566387, 1.814436577439954], [4.716681296665638, 0.1673160081256153, 3.02042554419982], [4.669530860315988, 3.438195824718664, 1.8663010121640062], [4.9899654872258346, 2.581010546278378, 3.8750336068892417], [0.5456767723334272, 4.396476769927312, 2.0625449348468035], [3.1874007655474013, 2.9270368886888622, 4.6025420970887305], [1.022530642430573, 0.8075713387731165, 1.754118985098908], [0.1867480016429951, 3.160194641534218, 2.0214821565604186], [2.834170573908115, 4.041972575162137, 3.72958642818872], [0.39955839771665, 0.7183474610715124, 0.9096042292975892], [2.4586872846618286, 2.3072426696355377, 1.4329964739924068], [2.2251496725278095, 0.940603384172557, 4.032056902722565], [0.676218254023051, 4.827741562488249, 4.185181660759595]]\n",
      "gen\tnevals\tavg    \tmin     \tmax    \n",
      "0  \t50    \t7.24402\t0.867158\t12.2946\n",
      "1  \t22    \t9.71737\t5.32627 \t13.526 \n",
      "2  \t27    \t10.8825\t2.96567 \t13.6495\n",
      "3  \t27    \t12.2499\t6.45604 \t14.0647\n",
      "4  \t35    \t12.9428\t4.41371 \t14.0647\n",
      "5  \t31    \t13.412 \t8.70225 \t14.0647\n",
      "6  \t16    \t13.8462\t9.59699 \t14.0647\n",
      "7  \t38    \t13.8783\t9.40368 \t14.0647\n",
      "8  \t27    \t13.7768\t4.66103 \t14.0647\n",
      "9  \t26    \t14.0647\t14.0647 \t14.0647\n",
      "10 \t36    \t13.6787\t4.41371 \t14.0647\n",
      "Best individual is: [4.9899654872258346, 4.661025484054458, 4.413712753741862]\n",
      "with fitness: (14.064703725022156,)\n"
     ]
    },
    {
     "data": {
      "image/png": "[encoded data removed]",
      "text/plain": [
       "<Figure size 432x288 with 1 Axes>"
      ]
     },
     "metadata": {
      "needs_background": "light"
     },
     "output_type": "display_data"
    }
   ],
   "source": [
    "if __name__ == \"__main__\":\n",
    "    pop, log, hof = main()\n",
    "    print(\"Best individual is: %s\\nwith fitness: %s\" % (hof[0], hof[0].fitness))\n",
    "    \n",
    "    import matplotlib.pyplot as plt\n",
    "    gen, avg, min_, max_ = log.select(\"gen\", \"avg\", \"min\", \"max\")\n",
    "    plt.plot(gen, avg, label=\"average\")\n",
    "    plt.plot(gen, min_, label=\"minimum\")\n",
    "    plt.plot(gen, max_, label=\"maximum\")\n",
    "    plt.xlabel(\"Generation\")\n",
    "    plt.ylabel(\"Fitness\")\n",
    "    plt.legend(loc=\"lower right\")\n",
    "    plt.show()"
   ]
  },
  {
   "cell_type": "code",
   "execution_count": null,
   "metadata": {
    "collapsed": true,
    "jupyter": {
     "outputs_hidden": true
    }
   },
   "outputs": [],
   "source": []
  }
 ],
 "metadata": {
  "kernelspec": {
   "display_name": "dot_env",
   "language": "python",
   "name": "dot_env"
  },
  "language_info": {
   "codemirror_mode": {
    "name": "ipython",
    "version": 3
   },
   "file_extension": ".py",
   "mimetype": "text/x-python",
   "name": "python",
   "nbconvert_exporter": "python",
   "pygments_lexer": "ipython3",
   "version": "3.8.6"
  }
 },
 "nbformat": 4,
 "nbformat_minor": 4
}
