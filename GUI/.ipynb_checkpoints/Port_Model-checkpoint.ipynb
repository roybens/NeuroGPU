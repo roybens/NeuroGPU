{
 "cells": [
  {
   "cell_type": "markdown",
   "metadata": {},
   "source": [
    "<h1 id=\"tocheading\">Table of Contents</h1>\n",
    "<div id=\"toc\"></div>\n",
    "\n",
    "Run the code below to use the table of contents."
   ]
  },
  {
   "cell_type": "code",
   "execution_count": 1,
   "metadata": {},
   "outputs": [
    {
     "data": {
      "application/javascript": [
       "$.getScript('https://kmahelona.github.io/ipython_notebook_goodies/ipython_notebook_toc.js')\n"
      ],
      "text/plain": [
       "<IPython.core.display.Javascript object>"
      ]
     },
     "metadata": {},
     "output_type": "display_data"
    }
   ],
   "source": [
    "%%javascript\n",
    "$.getScript('https://kmahelona.github.io/ipython_notebook_goodies/ipython_notebook_toc.js')"
   ]
  },
  {
   "cell_type": "markdown",
   "metadata": {},
   "source": [
    "# Introduction\n",
    "- This notebook is used to purely help with walking through the program and will not focus on explanations.\n",
    "- If you want to get a general overview of what each step does, please read the jupyter notebook entitled \"Tutorial\". \n",
    "- If you want information about the program on a technical level, please reach the code documentation entitled \"Documentation\")\n",
    "- Please select the directory of where the NeuroGPU program is located (i.e. \"../../NeuroGPU\") by editing the basepath below.\n",
    "- Once you have edited the base path, run the cell."
   ]
  },
  {
   "cell_type": "code",
   "execution_count": 2,
   "metadata": {},
   "outputs": [],
   "source": [
    "from extractModelHelper import *\n",
    "global template\n",
    "global working"
   ]
  },
  {
   "cell_type": "markdown",
   "metadata": {},
   "source": [
    "# Setting Working Directory\n",
    "- Here is where you will set the location of your working directory.\n",
    "- This directory will contain all the customizable files (e.g. stimulation files) before the NeuroGPU is run.\n",
    "- The working directory will be filled with default placeholders until you change them below.\n",
    "- Finally, you can also clear the working directory and reset to the default customizable files."
   ]
  },
  {
   "cell_type": "code",
   "execution_count": 4,
   "metadata": {
    "scrolled": true
   },
   "outputs": [
    {
     "data": {
      "application/vnd.jupyter.widget-view+json": {
       "model_id": "6af5feacf46847ada98fcd01f2da25fc",
       "version_major": 2,
       "version_minor": 0
      },
      "text/plain": [
       "Text(value='../NeuroGPU_Base', description='NeuroGPU location:', layout=Layout(width='600px'), style=Descripti…"
      ]
     },
     "metadata": {},
     "output_type": "display_data"
    },
    {
     "data": {
      "application/vnd.jupyter.widget-view+json": {
       "model_id": "35968033920d408d86d6ac8b3da5c27a",
       "version_major": 2,
       "version_minor": 0
      },
      "text/plain": [
       "Button(description='Select NeuroGPU Directory:', layout=Layout(width='300px'), style=ButtonStyle())"
      ]
     },
     "metadata": {},
     "output_type": "display_data"
    },
    {
     "data": {
      "application/vnd.jupyter.widget-view+json": {
       "model_id": "39f65a3911ca46dfa69629c285a1d696",
       "version_major": 2,
       "version_minor": 0
      },
      "text/plain": [
       "Text(value='../Figures/Figure3_passive', description='Working Filepath:', layout=Layout(width='600px'), style=…"
      ]
     },
     "metadata": {},
     "output_type": "display_data"
    },
    {
     "data": {
      "application/vnd.jupyter.widget-view+json": {
       "model_id": "43553313c1ad4910bdb5e6ac47740f31",
       "version_major": 2,
       "version_minor": 0
      },
      "text/plain": [
       "Button(description='Select Working Directory:', layout=Layout(width='300px'), style=ButtonStyle())"
      ]
     },
     "metadata": {},
     "output_type": "display_data"
    },
    {
     "data": {
      "application/vnd.jupyter.widget-view+json": {
       "model_id": "7dc930b9aef048a8b2a1401a172cbe33",
       "version_major": 2,
       "version_minor": 0
      },
      "text/plain": [
       "Button(description='Generate/Rest Working Files:', layout=Layout(width='300px'), style=ButtonStyle())"
      ]
     },
     "metadata": {},
     "output_type": "display_data"
    },
    {
     "name": "stdout",
     "output_type": "stream",
     "text": [
      "Working files generated at: E:\\GitHub\\NeuroGPU\\Figures\\Figure3_passive\n",
      "E:\\GitHub\\NeuroGPU\\Figures\\Figure3_passive/runModel.hoc has been reset\n"
     ]
    }
   ],
   "source": [
    "init_working_dir()"
   ]
  },
  {
   "cell_type": "markdown",
   "metadata": {},
   "source": [
    "# Compiling Mod Files\n",
    "- Here is where you will compile the mod files. \n",
    "- Put all the mod files into a folder. \n",
    "- Run mknrndll in windows or nrnivmodl in unix."
   ]
  },
  {
   "cell_type": "markdown",
   "metadata": {},
   "source": [
    "# Inputting Custom Files\n",
    "- Here is where you will implement your customized inputs.\n",
    "- Inputs include the voltage trace, parameters, and model file. \n",
    "- If you want to use the default inputs, you can skip this step.\n",
    "- If you want to use your own input files, please change the variables below to the paths of your input files. Make sure you test your inputs through Neuron first. After that, just run the cell below.\n"
   ]
  },
  {
   "cell_type": "code",
   "execution_count": 5,
   "metadata": {
    "scrolled": true
   },
   "outputs": [
    {
     "data": {
      "application/vnd.jupyter.widget-view+json": {
       "model_id": "2f2e266a6c764d568484efa74557e9e0",
       "version_major": 2,
       "version_minor": 0
      },
      "text/plain": [
       "Text(value='./params/params.csv', description='Parameter :', layout=Layout(width='400px'))"
      ]
     },
     "metadata": {},
     "output_type": "display_data"
    },
    {
     "data": {
      "application/vnd.jupyter.widget-view+json": {
       "model_id": "1022d9f1f61a4538af04434e3fa3aac6",
       "version_major": 2,
       "version_minor": 0
      },
      "text/plain": [
       "Button(description='Select Parameter File:', layout=Layout(width='50%'), style=ButtonStyle())"
      ]
     },
     "metadata": {},
     "output_type": "display_data"
    },
    {
     "data": {
      "application/vnd.jupyter.widget-view+json": {
       "model_id": "fa85d97c39144c5897de09f46e9b3cca",
       "version_major": 2,
       "version_minor": 0
      },
      "text/plain": [
       "Text(value='./Stims/Step_8_.csv', description='Stimulation :', layout=Layout(width='400px'))"
      ]
     },
     "metadata": {},
     "output_type": "display_data"
    },
    {
     "data": {
      "application/vnd.jupyter.widget-view+json": {
       "model_id": "4e5be0e88162497dabdd9e40550a19ec",
       "version_major": 2,
       "version_minor": 0
      },
      "text/plain": [
       "Button(description='Select Stimulation File:', layout=Layout(width='50%'), style=ButtonStyle())"
      ]
     },
     "metadata": {},
     "output_type": "display_data"
    },
    {
     "data": {
      "application/vnd.jupyter.widget-view+json": {
       "model_id": "8065ed35a06b4e608b612b42ec7382b5",
       "version_major": 2,
       "version_minor": 0
      },
      "text/plain": [
       "Text(value='./mosinit.hoc', description='Model :', layout=Layout(width='400px'))"
      ]
     },
     "metadata": {},
     "output_type": "display_data"
    },
    {
     "data": {
      "application/vnd.jupyter.widget-view+json": {
       "model_id": "f872215011854d1d9bba0b7117e24a90",
       "version_major": 2,
       "version_minor": 0
      },
      "text/plain": [
       "Button(description='Select Model File:', layout=Layout(width='50%'), style=ButtonStyle())"
      ]
     },
     "metadata": {},
     "output_type": "display_data"
    },
    {
     "data": {
      "application/vnd.jupyter.widget-view+json": {
       "model_id": "52d7017f70ee48cdb0465b77aaf2b4c7",
       "version_major": 2,
       "version_minor": 0
      },
      "text/plain": [
       "Text(value='./Stims/times.csv', description='Times :', layout=Layout(width='400px'))"
      ]
     },
     "metadata": {},
     "output_type": "display_data"
    },
    {
     "data": {
      "application/vnd.jupyter.widget-view+json": {
       "model_id": "e89c37c89fd24a8d830bb1939c06849d",
       "version_major": 2,
       "version_minor": 0
      },
      "text/plain": [
       "Button(description='Select Times File:', layout=Layout(width='50%'), style=ButtonStyle())"
      ]
     },
     "metadata": {},
     "output_type": "display_data"
    },
    {
     "data": {
      "application/vnd.jupyter.widget-view+json": {
       "model_id": "61c4aa92b71b42689e54f845c30c288e",
       "version_major": 2,
       "version_minor": 0
      },
      "text/plain": [
       "Button(description='Integrate Files', layout=Layout(width='50%'), style=ButtonStyle())"
      ]
     },
     "metadata": {},
     "output_type": "display_data"
    },
    {
     "name": "stdout",
     "output_type": "stream",
     "text": [
      "time file is ./Stims/times.csv\n",
      "Input files successfully integrated\n"
     ]
    }
   ],
   "source": [
    "show_input_file_panel()"
   ]
  },
  {
   "cell_type": "markdown",
   "metadata": {},
   "source": [
    "# Inputting Running Variables\n",
    "- Here is where you will implement your customized inputs.\n",
    "- Inputs include the voltage trace, parameters, and model file. \n",
    "- If you want to use the default inputs, you can skip this step.\n",
    "- If you want to use your own input files, please change the variables below to the paths of your input files. Make sure you test your inputs through Neuron first. After that, just run the cell below.\n"
   ]
  },
  {
   "cell_type": "code",
   "execution_count": 6,
   "metadata": {},
   "outputs": [
    {
     "data": {
      "application/vnd.jupyter.widget-view+json": {
       "model_id": "ceacb1a339404d3dbef396a3047ce496",
       "version_major": 2,
       "version_minor": 0
      },
      "text/plain": [
       "Text(value='3168', description='# Timestep ')"
      ]
     },
     "metadata": {},
     "output_type": "display_data"
    },
    {
     "data": {
      "application/vnd.jupyter.widget-view+json": {
       "model_id": "2ccd6894b21b400e9131f57905022f5b",
       "version_major": 2,
       "version_minor": 0
      },
      "text/plain": [
       "Text(value='3', description='# Parameters')"
      ]
     },
     "metadata": {},
     "output_type": "display_data"
    },
    {
     "data": {
      "application/vnd.jupyter.widget-view+json": {
       "model_id": "32c2b910550b4c9a85c766e1a12515bc",
       "version_major": 2,
       "version_minor": 0
      },
      "text/plain": [
       "Text(value='1024', description='# Models')"
      ]
     },
     "metadata": {},
     "output_type": "display_data"
    },
    {
     "data": {
      "application/vnd.jupyter.widget-view+json": {
       "model_id": "ac72c0eff00c4f8c8e0f8ce96da0b6e5",
       "version_major": 2,
       "version_minor": 0
      },
      "text/plain": [
       "Text(value='1', description='# Traces ')"
      ]
     },
     "metadata": {},
     "output_type": "display_data"
    },
    {
     "data": {
      "application/vnd.jupyter.widget-view+json": {
       "model_id": "339a701235fb4f699ae9b01348198315",
       "version_major": 2,
       "version_minor": 0
      },
      "text/plain": [
       "Text(value='-80', description='V_init ')"
      ]
     },
     "metadata": {},
     "output_type": "display_data"
    },
    {
     "data": {
      "application/vnd.jupyter.widget-view+json": {
       "model_id": "679e4acaa1dc4d328d80d799f856ddd4",
       "version_major": 2,
       "version_minor": 0
      },
      "text/plain": [
       "Text(value='1', description='Recalculate ECa? ')"
      ]
     },
     "metadata": {},
     "output_type": "display_data"
    },
    {
     "data": {
      "application/vnd.jupyter.widget-view+json": {
       "model_id": "e6c30cf36f2d49b8b9f2295f91aaa77d",
       "version_major": 2,
       "version_minor": 0
      },
      "text/plain": [
       "Button(description='Integrate Running Variables', layout=Layout(width='500px'), style=ButtonStyle())"
      ]
     },
     "metadata": {},
     "output_type": "display_data"
    },
    {
     "name": "stdout",
     "output_type": "stream",
     "text": [
      "../Figures/Figure3_passive\n",
      "Input files successfully integrated\n"
     ]
    }
   ],
   "source": [
    "\n",
    "show_run_var_panel()\n",
    "global working\n",
    "print(working)"
   ]
  },
  {
   "cell_type": "markdown",
   "metadata": {},
   "source": [
    "# Select your injection site\n",
    "- Here is where you will select where your point process will be injected at.\n",
    "- This code will extract the morphology of your cell and display all sections in a dropbox.\n",
    "- First, select the section where you would like to inject current.\n",
    "    - For sections where there are more than one type, use the slider to select the right one.\n",
    "- Then, you will need to specificy the location of your injected current on that section.\n",
    "    - Use the slider to select the location from 0 to 1 - 0 being the origin and 1 being the end\n"
   ]
  },
  {
   "cell_type": "code",
   "execution_count": 7,
   "metadata": {
    "scrolled": true
   },
   "outputs": [
    {
     "name": "stdout",
     "output_type": "stream",
     "text": [
      "../Figures/Figure3_passive\n",
      "E:\\GitHub\\NeuroGPU\\Figures\\Figure3_passive\n"
     ]
    },
    {
     "data": {
      "application/vnd.jupyter.widget-view+json": {
       "model_id": "60ed89b5f1824281aa1837cdcc18842d",
       "version_major": 2,
       "version_minor": 0
      },
      "text/plain": [
       "Button(description='Create Injection Site', style=ButtonStyle())"
      ]
     },
     "metadata": {},
     "output_type": "display_data"
    },
    {
     "data": {
      "application/vnd.jupyter.widget-view+json": {
       "model_id": "5f84b1370c5145868350041b7d14eb4d",
       "version_major": 2,
       "version_minor": 0
      },
      "text/plain": [
       "FloatSlider(value=0.0, description='Section Location (0-1)', max=1.0, step=0.01)"
      ]
     },
     "metadata": {},
     "output_type": "display_data"
    },
    {
     "data": {
      "application/vnd.jupyter.widget-view+json": {
       "model_id": "7d5646740e6d4aa09260cdbbcaac6198",
       "version_major": 2,
       "version_minor": 0
      },
      "text/plain": [
       "interactive(children=(Dropdown(description='Section:', options=('soma', 'dend1', 'dend2', 'dend3', 'dend4', 'd…"
      ]
     },
     "metadata": {},
     "output_type": "display_data"
    },
    {
     "name": "stdout",
     "output_type": "stream",
     "text": [
      "Injection site successfully integrated\n"
     ]
    }
   ],
   "source": [
    "global working\n",
    "print(working)\n",
    "print(os.getcwd())\n",
    "\n",
    "\n",
    "select_inj_site()\n"
   ]
  },
  {
   "cell_type": "markdown",
   "metadata": {},
   "source": [
    "# Running the Translation script\n",
    "Now that you have all the optional setup steps complete, you can now run the actual parsing script. Run the cell below.\n",
    "This will create extract_model.py you can allways run it independently"
   ]
  },
  {
   "cell_type": "code",
   "execution_count": 8,
   "metadata": {
    "scrolled": true
   },
   "outputs": [
    {
     "data": {
      "application/vnd.jupyter.widget-view+json": {
       "model_id": "875019d8826d45afb83c188742e1706f",
       "version_major": 2,
       "version_minor": 0
      },
      "text/plain": [
       "Button(description='Translate to CUDA Code', style=ButtonStyle())"
      ]
     },
     "metadata": {},
     "output_type": "display_data"
    },
    {
     "name": "stdout",
     "output_type": "stream",
     "text": [
      "E:\\GitHub\\NeuroGPU\\NeuroGPU_Base/scripts/pyscripts\\auxilliary.py\n",
      "E:\\GitHub\\NeuroGPU\\NeuroGPU_Base/scripts/pyscripts\\auxilliary.pyc\n",
      "E:\\GitHub\\NeuroGPU\\NeuroGPU_Base/scripts/pyscripts\\cell.py\n",
      "E:\\GitHub\\NeuroGPU\\NeuroGPU_Base/scripts/pyscripts\\cell.pyc\n",
      "E:\\GitHub\\NeuroGPU\\NeuroGPU_Base/scripts/pyscripts\\compile.bat\n",
      "E:\\GitHub\\NeuroGPU\\NeuroGPU_Base/scripts/pyscripts\\create_auxilliary_data_3.py\n",
      "E:\\GitHub\\NeuroGPU\\NeuroGPU_Base/scripts/pyscripts\\create_auxilliary_data_3.pyc\n",
      "E:\\GitHub\\NeuroGPU\\NeuroGPU_Base/scripts/pyscripts\\DEAP_helper.py\n",
      "E:\\GitHub\\NeuroGPU\\NeuroGPU_Base/scripts/pyscripts\\extractModel.py\n",
      "E:\\GitHub\\NeuroGPU\\NeuroGPU_Base/scripts/pyscripts\\filepaths.py\n",
      "E:\\GitHub\\NeuroGPU\\NeuroGPU_Base/scripts/pyscripts\\file_io.py\n",
      "E:\\GitHub\\NeuroGPU\\NeuroGPU_Base/scripts/pyscripts\\file_io.pyc\n",
      "E:\\GitHub\\NeuroGPU\\NeuroGPU_Base/scripts/pyscripts\\generate_params_for_exploration.py\n",
      "E:\\GitHub\\NeuroGPU\\NeuroGPU_Base/scripts/pyscripts\\get_parent_from_neuron.py\n",
      "E:\\GitHub\\NeuroGPU\\NeuroGPU_Base/scripts/pyscripts\\get_parent_from_neuron.pyc\n",
      "E:\\GitHub\\NeuroGPU\\NeuroGPU_Base/scripts/pyscripts\\injectV.py\n",
      "E:\\GitHub\\NeuroGPU\\NeuroGPU_Base/scripts/pyscripts\\kinetic_template.txt\n",
      "E:\\GitHub\\NeuroGPU\\NeuroGPU_Base/scripts/pyscripts\\make_tree_from_parent_vec.py\n",
      "E:\\GitHub\\NeuroGPU\\NeuroGPU_Base/scripts/pyscripts\\make_tree_from_parent_vec.pyc\n",
      "E:\\GitHub\\NeuroGPU\\NeuroGPU_Base/scripts/pyscripts\\membdef.h\n",
      "E:\\GitHub\\NeuroGPU\\NeuroGPU_Base/scripts/pyscripts\\NeuroGPUFromPkl.py\n",
      "E:\\GitHub\\NeuroGPU\\NeuroGPU_Base/scripts/pyscripts\\neuron_object.py\n",
      "E:\\GitHub\\NeuroGPU\\NeuroGPU_Base/scripts/pyscripts\\neuron_object.pyc\n",
      "E:\\GitHub\\NeuroGPU\\NeuroGPU_Base/scripts/pyscripts\\nrn_structs.py\n",
      "E:\\GitHub\\NeuroGPU\\NeuroGPU_Base/scripts/pyscripts\\nrn_structs.pyc\n",
      "E:\\GitHub\\NeuroGPU\\NeuroGPU_Base/scripts/pyscripts\\preformance_figs.py\n",
      "E:\\GitHub\\NeuroGPU\\NeuroGPU_Base/scripts/pyscripts\\preformance_figs.py.bak\n",
      "E:\\GitHub\\NeuroGPU\\NeuroGPU_Base/scripts/pyscripts\\pref_figs_unix.py\n",
      "E:\\GitHub\\NeuroGPU\\NeuroGPU_Base/scripts/pyscripts\\proc_add_param_to_hoc_for_opt.py\n",
      "E:\\GitHub\\NeuroGPU\\NeuroGPU_Base/scripts/pyscripts\\stimsite.py\n",
      "E:\\GitHub\\NeuroGPU\\NeuroGPU_Base/scripts/pyscripts\\stimV.py\n",
      "E:\\GitHub\\NeuroGPU\\NeuroGPU_Base/scripts/pyscripts\\test2.py\n",
      "E:\\GitHub\\NeuroGPU\\NeuroGPU_Base/scripts/pyscripts\\test2.pyc\n",
      "b'NEURON -- VERSION 7.6.5 master (f3dad62b) 2019-01-11\\r\\n'\n",
      "b'Duke, Yale, and the BlueBrain Project -- Copyright 1984-2018\\r\\n'\n",
      "b'See http://neuron.yale.edu/neuron/credits\\r\\n'\n",
      "b'\\r\\n'\n",
      "b'\\t1 \\r\\n'\n",
      "b'**********************\\r\\n'\n",
      "b'soma\\r\\n'\n",
      "b'1 \\r\\n'\n",
      "b'1024 \\r\\n'\n",
      "b'1 \\r\\n'\n",
      "b'\\t1 \\r\\n'\n",
      "b'\\t1 \\r\\n'\n",
      "b'\\t1 \\r\\n'\n",
      "b'\\t1 \\r\\n'\n",
      "b'\\t0 \\r\\n'\n",
      "b'\\t1 \\r\\n'\n",
      "b'\\t0 \\r\\n'\n",
      "b'\\t1 \\r\\n'\n",
      "b'\\t1 \\r\\n'\n",
      "b'\\t1 \\r\\n'\n",
      "b'soma\\r\\n'\n",
      "b'Additional mechanisms from files\\r\\n'\n",
      "b' branching.mod\\r\\n'\n",
      "b'Notice: hill(0) had previously been connected to parent soma(0.5)\\r\\n'\n",
      "b'Notice: dend11[0](0) had previously been connected to parent soma(0.5)\\r\\n'\n",
      "b'Notice: dend10[0](0) had previously been connected to parent soma(0.5)\\r\\n'\n",
      "b'Notice: dend9[0](0) had previously been connected to parent soma(0.5)\\r\\n'\n",
      "b'Notice: dend8[0](0) had previously been connected to parent soma(0.5)\\r\\n'\n",
      "b'Notice: dend7[0](0) had previously been connected to parent soma(0.5)\\r\\n'\n",
      "b'Notice: dend6[0](0) had previously been connected to parent soma(0.5)\\r\\n'\n",
      "b'Notice: dend5[0](0) had previously been connected to parent soma(0.5)\\r\\n'\n",
      "b'Notice: dend4[0](0) had previously been connected to parent soma(0.5)\\r\\n'\n",
      "b'Notice: dend3[0](0) had previously been connected to parent soma(0.5)\\r\\n'\n",
      "b'Notice: dend2[0](0) had previously been connected to parent soma(0.5)\\r\\n'\n",
      "b'Notice: dend1[0](0) had previously been connected to parent soma(0.5)\\r\\n'\n"
     ]
    }
   ],
   "source": [
    "run_trans_script_gui()\n"
   ]
  },
  {
   "cell_type": "code",
   "execution_count": null,
   "metadata": {},
   "outputs": [],
   "source": [
    "print os.name"
   ]
  },
  {
   "cell_type": "code",
   "execution_count": null,
   "metadata": {},
   "outputs": [],
   "source": []
  }
 ],
 "metadata": {
  "kernelspec": {
   "display_name": "Python 3",
   "language": "python",
   "name": "python3"
  },
  "language_info": {
   "codemirror_mode": {
    "name": "ipython",
    "version": 3
   },
   "file_extension": ".py",
   "mimetype": "text/x-python",
   "name": "python",
   "nbconvert_exporter": "python",
   "pygments_lexer": "ipython3",
   "version": "3.7.3"
  }
 },
 "nbformat": 4,
 "nbformat_minor": 2
}
