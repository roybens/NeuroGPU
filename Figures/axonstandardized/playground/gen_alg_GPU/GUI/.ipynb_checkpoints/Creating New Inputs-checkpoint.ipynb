{
 "cells": [
  {
   "cell_type": "code",
   "execution_count": 1,
   "metadata": {},
   "outputs": [
    {
     "ename": "ModuleNotFoundError",
     "evalue": "No module named 'filedialog'",
     "output_type": "error",
     "traceback": [
      "\u001b[1;31m---------------------------------------------------------------------------\u001b[0m",
      "\u001b[1;31mModuleNotFoundError\u001b[0m                       Traceback (most recent call last)",
      "\u001b[1;32m<ipython-input-1-66077d5ff498>\u001b[0m in \u001b[0;36m<module>\u001b[1;34m\u001b[0m\n\u001b[0;32m      4\u001b[0m     \u001b[1;31m# for Python2\u001b[0m\u001b[1;33m\u001b[0m\u001b[1;33m\u001b[0m\u001b[1;33m\u001b[0m\u001b[0m\n\u001b[1;32m----> 5\u001b[1;33m     \u001b[1;32mfrom\u001b[0m \u001b[0mTkinter\u001b[0m \u001b[1;32mimport\u001b[0m \u001b[1;33m*\u001b[0m\u001b[1;33m\u001b[0m\u001b[1;33m\u001b[0m\u001b[0m\n\u001b[0m\u001b[0;32m      6\u001b[0m     \u001b[1;32mfrom\u001b[0m \u001b[0mtkFileDialog\u001b[0m \u001b[1;32mimport\u001b[0m \u001b[0maskopenfilename\u001b[0m\u001b[1;33m\u001b[0m\u001b[1;33m\u001b[0m\u001b[0m\n",
      "\u001b[1;31mModuleNotFoundError\u001b[0m: No module named 'Tkinter'",
      "\nDuring handling of the above exception, another exception occurred:\n",
      "\u001b[1;31mModuleNotFoundError\u001b[0m                       Traceback (most recent call last)",
      "\u001b[1;32m<ipython-input-1-66077d5ff498>\u001b[0m in \u001b[0;36m<module>\u001b[1;34m\u001b[0m\n\u001b[0;32m      9\u001b[0m     \u001b[1;31m# for Python3\u001b[0m\u001b[1;33m\u001b[0m\u001b[1;33m\u001b[0m\u001b[1;33m\u001b[0m\u001b[0m\n\u001b[0;32m     10\u001b[0m     \u001b[1;32mfrom\u001b[0m \u001b[0mtkinter\u001b[0m \u001b[1;32mimport\u001b[0m \u001b[1;33m*\u001b[0m\u001b[1;33m\u001b[0m\u001b[1;33m\u001b[0m\u001b[0m\n\u001b[1;32m---> 11\u001b[1;33m     \u001b[1;32mfrom\u001b[0m \u001b[0mfiledialog\u001b[0m \u001b[1;32mimport\u001b[0m \u001b[0maskopenfilename\u001b[0m\u001b[1;33m\u001b[0m\u001b[1;33m\u001b[0m\u001b[0m\n\u001b[0m\u001b[0;32m     12\u001b[0m     \u001b[1;32mfrom\u001b[0m \u001b[0mfiledialog\u001b[0m \u001b[1;32mimport\u001b[0m \u001b[0maskdirectory\u001b[0m\u001b[1;33m\u001b[0m\u001b[1;33m\u001b[0m\u001b[0m\n\u001b[0;32m     13\u001b[0m \u001b[1;32mfrom\u001b[0m \u001b[0mipywidgets\u001b[0m \u001b[1;32mimport\u001b[0m \u001b[1;33m*\u001b[0m\u001b[1;33m\u001b[0m\u001b[1;33m\u001b[0m\u001b[0m\n",
      "\u001b[1;31mModuleNotFoundError\u001b[0m: No module named 'filedialog'"
     ]
    }
   ],
   "source": [
    "from IPython.display import display\n",
    "from ipywidgets import *\n",
    "try:\n",
    "    # for Python2\n",
    "    from Tkinter import *\n",
    "    from tkFileDialog import askopenfilename\n",
    "    from tkFileDialog import askdirectory\n",
    "except:   \n",
    "    # for Python3\n",
    "    from tkinter import *\n",
    "    from filedialog import askopenfilename\n",
    "    from filedialog import askdirectory\n",
    "from ipywidgets import *\n",
    "import matplotlib.pyplot as plt\n",
    "import pandas as pd\n",
    "import numpy as np\n",
    "working = 'C:/BBP/'\n",
    "def test():\n",
    "    root = Tk()\n",
    "    root.withdraw()\n",
    "    root.call('wm', 'attributes', '.', '-topmost', True)\n",
    "    infiles = askdirectory()\n",
    "    return infiles\n",
    "    %gui tk\n",
    "def initialize(fill):\n",
    "    text = widgets.Text(description=\"Working Filepath:\",layout=Layout(width='600px'))\n",
    "    text.value = fill\n",
    "    text.width = '10%'\n",
    "    display(text)\n",
    "    button = widgets.Button(description=\"Select Working Directory:\", width=\"100%\")\n",
    "    display(button)\n",
    "    def on_button_clicked_1(b):\n",
    "        text.value = test()\n",
    "        working = text.value\n",
    "        \n",
    "    button.on_click(on_button_clicked_1)\n",
    "\n",
    "\n",
    "initialize('C:/Users/bensr/Dropbox/NeuroGPU/NeuroGPULast/UrapNeuron/MainenPy2')"
   ]
  },
  {
   "cell_type": "markdown",
   "metadata": {},
   "source": [
    "# Stimulation Files\n",
    "This will be your file that contain your point processes that will simulate an injection of current into your model neuron. They should be in the format of a data frame contained in a data file (.DAT). The file will be used later in the runModel.py script. Test your input file by inserting the path of a converted .csv file (this can be done by loading a .dat file through Excel) through the path variable below. See the example file below for what it should look like and compare your stimulation file to that."
   ]
  },
  {
   "cell_type": "markdown",
   "metadata": {},
   "source": [
    "# Select existing stimulation file\n",
    "- Upload existing stimulation traces to be used in the simulation.\n",
    "- Can be either in .csv or .dat data-type format.\n",
    "- The stimulation file can be plotted below."
   ]
  },
  {
   "cell_type": "code",
   "execution_count": 2,
   "metadata": {},
   "outputs": [
    {
     "data": {
      "application/vnd.jupyter.widget-view+json": {
       "model_id": "e7923162fad14db78da1fe44d7402f8a",
       "version_major": 2,
       "version_minor": 0
      },
      "text/plain": [
       "A Jupyter Widget"
      ]
     },
     "metadata": {},
     "output_type": "display_data"
    },
    {
     "data": {
      "application/vnd.jupyter.widget-view+json": {
       "model_id": "83135125c92e46d381a6a2009821970c",
       "version_major": 2,
       "version_minor": 0
      },
      "text/plain": [
       "A Jupyter Widget"
      ]
     },
     "metadata": {},
     "output_type": "display_data"
    },
    {
     "data": {
      "application/vnd.jupyter.widget-view+json": {
       "model_id": "41b202dfb05941a5a16384a5fe534d7c",
       "version_major": 2,
       "version_minor": 0
      },
      "text/plain": [
       "A Jupyter Widget"
      ]
     },
     "metadata": {},
     "output_type": "display_data"
    }
   ],
   "source": [
    "\n",
    "\n",
    "def test():\n",
    "    root = Tk()\n",
    "    root.withdraw()\n",
    "    root.call('wm', 'attributes', '.', '-topmost', True)\n",
    "    infiles = askopenfilename(initialdir=working,multiple=True)\n",
    "    return infiles[0]\n",
    "    %gui tk\n",
    "\n",
    "def initialize(fill):\n",
    "    text = widgets.Text(description=\"FileName:\",layout=Layout(width='600px'))\n",
    "    text.value = fill\n",
    "    display( text )\n",
    "    button = widgets.Button(description=\"Select stimulation File:\", layout=Layout(width='200px'))\n",
    "    display(button)\n",
    "    def on_button_clicked(b):\n",
    "        global ax\n",
    "        text.value = test()\n",
    "        ax = text.value.replace('/', '\\\\')\n",
    "    button.on_click(on_button_clicked)\n",
    "\n",
    "initialize(working)\n",
    "    \n",
    "def integrate():\n",
    "    %matplotlib inline\n",
    "    data = pd.read_csv(ax)\n",
    "    if data.shape[0]<data.shape[1]:\n",
    "        data = data.T\n",
    "        \n",
    "    a = data.plot(legend=False,figsize=(16, 4))\n",
    "    b = plt.title(ax)\n",
    "    c = plt.show()\n",
    "    \n",
    "\n",
    "button = widgets.Button(description=\"Plot\", width=\"100%\")\n",
    "display(button)\n",
    "def on_button_clicked2(b):\n",
    "    integrate()\n",
    "button.on_click(on_button_clicked2)"
   ]
  },
  {
   "cell_type": "markdown",
   "metadata": {},
   "source": [
    "# Create your own stimulation file\n",
    "- Input different variables to create your own stimulation trace.\n",
    "- Plot your created file below to test it out."
   ]
  },
  {
   "cell_type": "code",
   "execution_count": 3,
   "metadata": {},
   "outputs": [
    {
     "data": {
      "application/vnd.jupyter.widget-view+json": {
       "model_id": "a285858d516d482faebf72c148468269",
       "version_major": 2,
       "version_minor": 0
      },
      "text/plain": [
       "A Jupyter Widget"
      ]
     },
     "metadata": {},
     "output_type": "display_data"
    },
    {
     "data": {
      "application/vnd.jupyter.widget-view+json": {
       "model_id": "77962877c1d94d39a5841c487a24a9ff",
       "version_major": 2,
       "version_minor": 0
      },
      "text/plain": [
       "A Jupyter Widget"
      ]
     },
     "metadata": {},
     "output_type": "display_data"
    },
    {
     "data": {
      "application/vnd.jupyter.widget-view+json": {
       "model_id": "cc55cdb55d7448d4b48cb62cd423e766",
       "version_major": 2,
       "version_minor": 0
      },
      "text/plain": [
       "A Jupyter Widget"
      ]
     },
     "metadata": {},
     "output_type": "display_data"
    },
    {
     "data": {
      "application/vnd.jupyter.widget-view+json": {
       "model_id": "d72e1001e9444d04b2f26eac79774e10",
       "version_major": 2,
       "version_minor": 0
      },
      "text/plain": [
       "A Jupyter Widget"
      ]
     },
     "metadata": {},
     "output_type": "display_data"
    },
    {
     "data": {
      "application/vnd.jupyter.widget-view+json": {
       "model_id": "b8d42d11bdbf49aa902152c27cf9c444",
       "version_major": 2,
       "version_minor": 0
      },
      "text/plain": [
       "A Jupyter Widget"
      ]
     },
     "metadata": {},
     "output_type": "display_data"
    },
    {
     "data": {
      "application/vnd.jupyter.widget-view+json": {
       "model_id": "c67624d3cbb847cb958cbf46a97141ff",
       "version_major": 2,
       "version_minor": 0
      },
      "text/plain": [
       "A Jupyter Widget"
      ]
     },
     "metadata": {},
     "output_type": "display_data"
    },
    {
     "data": {
      "application/vnd.jupyter.widget-view+json": {
       "model_id": "8de2989f7c7940ea8eb9d37254f4da00",
       "version_major": 2,
       "version_minor": 0
      },
      "text/plain": [
       "A Jupyter Widget"
      ]
     },
     "metadata": {},
     "output_type": "display_data"
    },
    {
     "data": {
      "application/vnd.jupyter.widget-view+json": {
       "model_id": "1967f5906bde4f9b8915d2a71a3a44a3",
       "version_major": 2,
       "version_minor": 0
      },
      "text/plain": [
       "A Jupyter Widget"
      ]
     },
     "metadata": {},
     "output_type": "display_data"
    },
    {
     "data": {
      "application/vnd.jupyter.widget-view+json": {
       "model_id": "9e77a36306514cf18c7604b726c496c3",
       "version_major": 2,
       "version_minor": 0
      },
      "text/plain": [
       "A Jupyter Widget"
      ]
     },
     "metadata": {},
     "output_type": "display_data"
    }
   ],
   "source": [
    "from IPython.display import display\n",
    "from ipywidgets import *\n",
    "values = [\"\",\"\",\"\",\"\",\"\",\"\",\"\"]\n",
    "\n",
    "def initialize(label,fill,index):\n",
    "    values[index] = widgets.Text(description=label,width=\"200px\", style = {'description_width': 'initial'} )\n",
    "    values[index].value = fill\n",
    "    display( values[index])\n",
    "initialize(\"TimesFN:\",working + 'stims/times.csv',5)\n",
    "initialize(\"StimFN:\",working + 'stims/stimF.csv',6)\n",
    "initialize(\"Number of timesteps:\",'100',0)\n",
    "initialize(\"Size of dt:\",'0.1',1)\n",
    "initialize(\"Stimulation Duration:\",'50',2)\n",
    "initialize(\"Amplitude:\",'1',3)\n",
    "initialize(\"Delay:\",'10',4)\n",
    "\n",
    "import csv\n",
    "\n",
    "def writeCsvFile(name, data):\n",
    "    with open(name, \"w\") as output:\n",
    "        writer = csv.writer(output, lineterminator='\\n',delimiter=' ')\n",
    "        for val in data:\n",
    "            writer.writerow([val])    \n",
    "\n",
    "def plot_val():\n",
    "    timesteps = int(values[0].value)\n",
    "    dt = float(values[1].value)\n",
    "    stim_dur = int(values[2].value)\n",
    "    amplitude = int(values[3].value)\n",
    "    delay = int(values[4].value)\n",
    "    stim_array = []\n",
    "    for i in range( delay ):\n",
    "        stim_array.append(0)\n",
    "    for i in range( stim_dur ):\n",
    "        stim_array.append(amplitude)\n",
    "    for i in range( timesteps - (stim_dur + delay) ):\n",
    "        stim_array.append(0)\n",
    "    return stim_array\n",
    "    \n",
    "def integrate2():\n",
    "    times_array = []\n",
    "    timesteps = int(values[0].value)\n",
    "    dt = float(values[1].value)\n",
    "    for i in range( timesteps ):\n",
    "        times_array.append( dt )\n",
    "    stim_array = plot_val()\n",
    "    writeCsvFile(values[5].value.replace('/', '\\\\'), times_array)\n",
    "    writeCsvFile(values[6].value.replace('/', '\\\\'), stim_array)\n",
    "    \n",
    "\n",
    "button = widgets.Button(description=\"Create Stimulation File and Times File\", layout=Layout(width='300px'))\n",
    "display(button)\n",
    "def on_button_clicked2_5(b):\n",
    "    integrate2()\n",
    "button.on_click(on_button_clicked2_5)\n",
    "\n",
    "def integrate():\n",
    "    plt.plot(plot_val())\n",
    "\n",
    "button = widgets.Button(description=\"Plot\", width=\"100%\")\n",
    "display(button)\n",
    "def on_button_clicked2(b):\n",
    "    integrate()66\n",
    "button.on_click(on_button_clicked2)"
   ]
  },
  {
   "cell_type": "markdown",
   "metadata": {},
   "source": [
    "# Parameter Files\n",
    "This will be your file that contain your parameter variables that will be used in your model neuron. They should be in the format of a data frame contained in a data file (.DAT). The file will be used later in the runModel.py script. Test your input file by inserting the path of a converted .csv file (this can be done by loading a .dat file through Excel) through the path variable below. See the example file below for what it should look like and compare your parameter file to that."
   ]
  },
  {
   "cell_type": "markdown",
   "metadata": {},
   "source": [
    "# Create your own parameter file\n",
    "- Input different variables to create your own stimulation trace.\n",
    "- Visualize the dataframe of the file below."
   ]
  },
  {
   "cell_type": "code",
   "execution_count": 6,
   "metadata": {},
   "outputs": [
    {
     "data": {
      "application/vnd.jupyter.widget-view+json": {
       "model_id": "3715ba5bab174d838bf8e50634ea2f49",
       "version_major": 2,
       "version_minor": 0
      },
      "text/plain": [
       "A Jupyter Widget"
      ]
     },
     "metadata": {},
     "output_type": "display_data"
    },
    {
     "data": {
      "application/vnd.jupyter.widget-view+json": {
       "model_id": "1b511fb74f934f799d4f9f7d4cad8988",
       "version_major": 2,
       "version_minor": 0
      },
      "text/plain": [
       "A Jupyter Widget"
      ]
     },
     "metadata": {},
     "output_type": "display_data"
    },
    {
     "data": {
      "application/vnd.jupyter.widget-view+json": {
       "model_id": "32cd69d0e38e488388207263b09d1ac9",
       "version_major": 2,
       "version_minor": 0
      },
      "text/plain": [
       "A Jupyter Widget"
      ]
     },
     "metadata": {},
     "output_type": "display_data"
    },
    {
     "data": {
      "application/vnd.jupyter.widget-view+json": {
       "model_id": "7d0f855568d045bb820e22e47cb110ce",
       "version_major": 2,
       "version_minor": 0
      },
      "text/plain": [
       "A Jupyter Widget"
      ]
     },
     "metadata": {},
     "output_type": "display_data"
    }
   ],
   "source": [
    "d = {}\n",
    "def f(x):\n",
    "    if x != \"\":\n",
    "        for a in range( int(x) ):\n",
    "            print \"Parameter \" + str( a + 1 )\n",
    "            d[a] = [ widgets.Text(description=\"Name: \",width=\"200px\" ), widgets.Text(description=\"Range/Value: \",width=\"200px\" ), widgets.Checkbox(value=True,description='Sampled?',disabled=False) ]\n",
    "            display(d[a][0])\n",
    "            display(d[a][1])\n",
    "            display(d[a][2])\n",
    "\n",
    "def integrate2():\n",
    "    xx = []\n",
    "    for key,val in d.iteritems():\n",
    "        if val[2].value == True:\n",
    "            currange = val[1].value\n",
    "            sep_ind = currange.find(',')\n",
    "            lb = float(currange[:sep_ind])\n",
    "            ub = float(currange[sep_ind+1:])       \n",
    "            xx.append(np.linspace(lb,ub,int(x.value)))\n",
    "        else:\n",
    "            value = float(val[1].value)\n",
    "            xx.append(np.ones(int(x.value))*value)\n",
    "    #print xx\n",
    "    res = np.array(xx)\n",
    "    res = res.T\n",
    "    csvfile = fnwidget.value.replace('/', '\\\\')\n",
    "\n",
    "    #Assuming res is a flat list\n",
    "    with open(csvfile, \"w\") as output:\n",
    "        writer = csv.writer(output, lineterminator='\\n')\n",
    "        for val in res.T:\n",
    "            writer.writerow([val])    \n",
    "\n",
    "    #Assuming res is a list of lists\n",
    "    with open(csvfile, \"w\") as output:\n",
    "        writer = csv.writer(output, lineterminator='\\n',delimiter=' ')\n",
    "        writer.writerows(res)\n",
    "\n",
    "    \n",
    "fnwidget = widgets.Text(description=\"File Name:\", value = working+'params/params.csv', layout=Layout(width='600px'), style = {'description_width': 'initial'} ) \n",
    "display(fnwidget)\n",
    "x = widgets.Text(description=\"Number of Models:\", value = str(1), layout=Layout(width='200px'), style = {'description_width': 'initial'} ) \n",
    "display(x)\n",
    "fd = widgets.interact(f, x = widgets.Text(description=\"Number of Parameters:\", value = str(0), layout=Layout(width='200px'), style = {'description_width': 'initial'} ) )\n",
    "\n",
    "button = widgets.Button(description=\"Create Parameter File\", layout=Layout(width='200px'))\n",
    "display(button)\n",
    "def on_button_clicked2_5(b):\n",
    "    integrate2()\n",
    "button.on_click(on_button_clicked2_5)\n",
    "\n",
    "import csv"
   ]
  },
  {
   "cell_type": "markdown",
   "metadata": {},
   "source": [
    "# Create your own parameter file\n",
    "- Input different variables to create your own stimulation trace.\n",
    "- in this version we sample all the combinations of params"
   ]
  },
  {
   "cell_type": "code",
   "execution_count": 16,
   "metadata": {},
   "outputs": [
    {
     "data": {
      "application/vnd.jupyter.widget-view+json": {
       "model_id": "9f7e1e2a39f54c44aa37b9e5b959866d",
       "version_major": 2,
       "version_minor": 0
      },
      "text/plain": [
       "A Jupyter Widget"
      ]
     },
     "metadata": {},
     "output_type": "display_data"
    },
    {
     "data": {
      "application/vnd.jupyter.widget-view+json": {
       "model_id": "eec4d7f4ae9444a3a6b39dc63862333b",
       "version_major": 2,
       "version_minor": 0
      },
      "text/plain": [
       "A Jupyter Widget"
      ]
     },
     "metadata": {},
     "output_type": "display_data"
    },
    {
     "data": {
      "application/vnd.jupyter.widget-view+json": {
       "model_id": "8bce22ac70214d2eb9bb5f39a6d61a1f",
       "version_major": 2,
       "version_minor": 0
      },
      "text/plain": [
       "A Jupyter Widget"
      ]
     },
     "metadata": {},
     "output_type": "display_data"
    },
    {
     "data": {
      "application/vnd.jupyter.widget-view+json": {
       "model_id": "33933c57076c42d8a255d33e1ae2136e",
       "version_major": 2,
       "version_minor": 0
      },
      "text/plain": [
       "A Jupyter Widget"
      ]
     },
     "metadata": {},
     "output_type": "display_data"
    }
   ],
   "source": [
    "d = {}\n",
    "def f(x):\n",
    "    if x != \"\":\n",
    "        for a in range( int(x) ):\n",
    "            print \"Parameter \" + str( a + 1 )\n",
    "            d[a] = [ widgets.Text(description=\"Name: \",width=\"200px\" ), widgets.Text(description=\"NPoints\",width=\"200px\" ),widgets.Text(description=\"Range/Value: \",width=\"200px\" ), widgets.Checkbox(value=True,description='Sampled?',disabled=False) ]\n",
    "            display(d[a][0])\n",
    "            display(d[a][1])\n",
    "            display(d[a][2])\n",
    "            display(d[a][3])\n",
    "\n",
    "def integrate2():\n",
    "    sampled_vars_dict = []\n",
    "    counter = 0\n",
    "    sampled_inds = []\n",
    "    for key,val in d.iteritems():\n",
    "        if val[3].value == True:\n",
    "            npoints = val[1].value\n",
    "            currange = val[2].value\n",
    "            sep_ind = currange.find(',')\n",
    "            lb = float(currange[:sep_ind])\n",
    "            ub = float(currange[sep_ind+1:]) \n",
    "            xx = np.linspace(lb,ub,npoints)\n",
    "            sampled_vars_dict.append({\"name\": val[0], \"points\": xx})\n",
    "            \n",
    "            sampled_inds.append(counter)\n",
    "        else:\n",
    "            sampled_vars_dict.append({\"name\": val[0], \"points\": float(val[2].value)})\n",
    "        counter +=1\n",
    "    psize = counter\n",
    "    #print xx\n",
    "    const_ps = np.zeros(psize)\n",
    "    counter = 0\n",
    "    for key,val in d.iteritems():\n",
    "        if val[3].value == False:\n",
    "            const_ps[counter] = sampled_vars_dict[counter][\"points\"]\n",
    "        counter+=1\n",
    "    first_sampled =sampled_vars_dict[sampled_inds[0]][\"points\"] \n",
    "    second_sampled =sampled_vars_dict[sampled_inds[1]] [\"points\"]\n",
    "    pmat = []\n",
    "    for x1 in first_sampled:\n",
    "        for x2 in second_sampled:\n",
    "            curr_ps = np.copy(const_ps)\n",
    "            curr_ps[sampled_inds[0]] = x1\n",
    "            curr_ps[sampled_inds[1]] = x2\n",
    "            pmat.append(curr_ps)\n",
    "    res = np.array(pmat)\n",
    "   # res = res.T\n",
    "    csvfile = fnwidget.value.replace('/', '\\\\')\n",
    "\n",
    "    #Assuming res is a flat list\n",
    "    with open(csvfile, \"w\") as output:\n",
    "        writer = csv.writer(output, lineterminator='\\n')\n",
    "        for val in res.T:\n",
    "            writer.writerow([val])    \n",
    "\n",
    "    #Assuming res is a list of lists\n",
    "    with open(csvfile, \"w\") as output:\n",
    "        writer = csv.writer(output, lineterminator='\\n',delimiter=' ')\n",
    "        writer.writerows(res)\n",
    "\n",
    "    \n",
    "fnwidget = widgets.Text(description=\"File Name:\", value = working+'params/params.csv', layout=Layout(width='600px'), style = {'description_width': 'initial'} ) \n",
    "display(fnwidget)\n",
    "x = widgets.Text(description=\"Number of models:\", value = str(1), layout=Layout(width='200px'), style = {'description_width': 'initial'} ) \n",
    "display(x)\n",
    "fd = widgets.interact(f, x = widgets.Text(description=\"Number of Parameters:\", value = '2', layout=Layout(width='200px'), style = {'description_width': 'initial'} ) )\n",
    "\n",
    "button = widgets.Button(description=\"Create Parameter File\", layout=Layout(width='200px'))\n",
    "display(button)\n",
    "def on_button_clicked2_5(b):\n",
    "    integrate2()\n",
    "button.on_click(on_button_clicked2_5)\n",
    "\n",
    "import csv"
   ]
  },
  {
   "cell_type": "code",
   "execution_count": null,
   "metadata": {
    "collapsed": true,
    "jupyter": {
     "outputs_hidden": true
    }
   },
   "outputs": [],
   "source": []
  }
 ],
 "metadata": {
  "kernelspec": {
   "display_name": "Python 3",
   "language": "python",
   "name": "python3"
  },
  "language_info": {
   "codemirror_mode": {
    "name": "ipython",
    "version": 3
   },
   "file_extension": ".py",
   "mimetype": "text/x-python",
   "name": "python",
   "nbconvert_exporter": "python",
   "pygments_lexer": "ipython3",
   "version": "3.7.4"
  }
 },
 "nbformat": 4,
 "nbformat_minor": 4
}
